{
  "cells": [
    {
      "cell_type": "markdown",
      "metadata": {
        "id": "6Ui2Ow5aTN1c"
      },
      "source": [
        "## **Flipkart Smart Mapper** "
      ]
    },
    {
      "cell_type": "markdown",
      "metadata": {
        "id": "zMepv_SdViJe"
      },
      "source": [
        "### **Performing Data Identification, Acquisition, Filtering, Validation, Extraction and Cleaning**"
      ]
    },
    {
      "cell_type": "markdown",
      "metadata": {
        "id": "VREw12bxTpUh"
      },
      "source": [
        "Importing required files,"
      ]
    },
    {
      "cell_type": "code",
      "execution_count": 1,
      "metadata": {
        "id": "7txMmV5p5-yq"
      },
      "outputs": [],
      "source": [
        "import pandas as pd\n",
        "import regex as re\n",
        "from operator import itemgetter\n",
        "import string\n",
        "import urllib\n",
        "import matplotlib.pyplot as plt\n",
        "from matplotlib.pyplot import figure"
      ]
    },
    {
      "cell_type": "markdown",
      "metadata": {
        "id": "r-7vq8Rm7i9w"
      },
      "source": [
        "There are 2 major datasets available (taken from data.world),\n",
        "\n",
        "\n",
        "1.   E-Commerce dataset with 5.6 million entries (only 20,000 available for free)\n",
        "2.   Fashion items only with 30,000 entries\n",
        "\n",
        "For the current scope, we are working with fashion items only - but the approach can be extended\n",
        "\n"
      ]
    },
    {
      "cell_type": "markdown",
      "metadata": {
        "id": "THNhw2hYTsb8"
      },
      "source": [
        "We start by working on both the datasets individually, and combining the necessary attributes"
      ]
    },
    {
      "cell_type": "code",
      "execution_count": 2,
      "metadata": {
        "id": "uTEGwv6Q7XJu"
      },
      "outputs": [],
      "source": [
        "data = pd.read_json('https://github.com/sairam2661/datasets-public/blob/main/flipkart_fashion_products_dataset.json?raw=true')"
      ]
    },
    {
      "cell_type": "code",
      "execution_count": 3,
      "metadata": {
        "colab": {
          "base_uri": "https://localhost:8080/",
          "height": 617
        },
        "id": "XKO5b2DC7fjj",
        "outputId": "9de8cf71-0ddf-4581-8fe6-e1770f45729a"
      },
      "outputs": [
        {
          "data": {
            "text/html": [
              "\n",
              "  <div id=\"df-1d889bbe-a76a-4211-92d4-b4c89d109690\">\n",
              "    <div class=\"colab-df-container\">\n",
              "      <div>\n",
              "<style scoped>\n",
              "    .dataframe tbody tr th:only-of-type {\n",
              "        vertical-align: middle;\n",
              "    }\n",
              "\n",
              "    .dataframe tbody tr th {\n",
              "        vertical-align: top;\n",
              "    }\n",
              "\n",
              "    .dataframe thead th {\n",
              "        text-align: right;\n",
              "    }\n",
              "</style>\n",
              "<table border=\"1\" class=\"dataframe\">\n",
              "  <thead>\n",
              "    <tr style=\"text-align: right;\">\n",
              "      <th></th>\n",
              "      <th>_id</th>\n",
              "      <th>actual_price</th>\n",
              "      <th>average_rating</th>\n",
              "      <th>brand</th>\n",
              "      <th>category</th>\n",
              "      <th>crawled_at</th>\n",
              "      <th>description</th>\n",
              "      <th>discount</th>\n",
              "      <th>images</th>\n",
              "      <th>out_of_stock</th>\n",
              "      <th>pid</th>\n",
              "      <th>product_details</th>\n",
              "      <th>seller</th>\n",
              "      <th>selling_price</th>\n",
              "      <th>sub_category</th>\n",
              "      <th>title</th>\n",
              "      <th>url</th>\n",
              "    </tr>\n",
              "  </thead>\n",
              "  <tbody>\n",
              "    <tr>\n",
              "      <th>0</th>\n",
              "      <td>fa8e22d6-c0b6-5229-bb9e-ad52eda39a0a</td>\n",
              "      <td>2,999</td>\n",
              "      <td>3.9</td>\n",
              "      <td>York</td>\n",
              "      <td>Clothing and Accessories</td>\n",
              "      <td>2021-02-10 20:11:51</td>\n",
              "      <td>Yorker trackpants made from 100% rich combed c...</td>\n",
              "      <td>69% off</td>\n",
              "      <td>[https://rukminim1.flixcart.com/image/128/128/...</td>\n",
              "      <td>False</td>\n",
              "      <td>TKPFCZ9EA7H5FYZH</td>\n",
              "      <td>[{'Style Code': '1005COMBO2'}, {'Closure': 'El...</td>\n",
              "      <td>Shyam Enterprises</td>\n",
              "      <td>921</td>\n",
              "      <td>Bottomwear</td>\n",
              "      <td>Solid Men Multicolor Track Pants</td>\n",
              "      <td>https://www.flipkart.com/yorker-solid-men-mult...</td>\n",
              "    </tr>\n",
              "    <tr>\n",
              "      <th>1</th>\n",
              "      <td>893e6980-f2a0-531f-b056-34dd63fe912c</td>\n",
              "      <td>1,499</td>\n",
              "      <td>3.9</td>\n",
              "      <td>York</td>\n",
              "      <td>Clothing and Accessories</td>\n",
              "      <td>2021-02-10 20:11:52</td>\n",
              "      <td>Yorker trackpants made from 100% rich combed c...</td>\n",
              "      <td>66% off</td>\n",
              "      <td>[https://rukminim1.flixcart.com/image/128/128/...</td>\n",
              "      <td>False</td>\n",
              "      <td>TKPFCZ9EJZV2UVRZ</td>\n",
              "      <td>[{'Style Code': '1005BLUE'}, {'Closure': 'Draw...</td>\n",
              "      <td>Shyam Enterprises</td>\n",
              "      <td>499</td>\n",
              "      <td>Bottomwear</td>\n",
              "      <td>Solid Men Blue Track Pants</td>\n",
              "      <td>https://www.flipkart.com/yorker-solid-men-blue...</td>\n",
              "    </tr>\n",
              "    <tr>\n",
              "      <th>2</th>\n",
              "      <td>eb4c8eab-8206-59d0-bcd1-a724d96bf74f</td>\n",
              "      <td>2,999</td>\n",
              "      <td>3.9</td>\n",
              "      <td>York</td>\n",
              "      <td>Clothing and Accessories</td>\n",
              "      <td>2021-02-10 20:11:52</td>\n",
              "      <td>Yorker trackpants made from 100% rich combed c...</td>\n",
              "      <td>68% off</td>\n",
              "      <td>[https://rukminim1.flixcart.com/image/128/128/...</td>\n",
              "      <td>False</td>\n",
              "      <td>TKPFCZ9EHFCY5Z4Y</td>\n",
              "      <td>[{'Style Code': '1005COMBO4'}, {'Closure': 'El...</td>\n",
              "      <td>Shyam Enterprises</td>\n",
              "      <td>931</td>\n",
              "      <td>Bottomwear</td>\n",
              "      <td>Solid Men Multicolor Track Pants</td>\n",
              "      <td>https://www.flipkart.com/yorker-solid-men-mult...</td>\n",
              "    </tr>\n",
              "    <tr>\n",
              "      <th>3</th>\n",
              "      <td>3f3f97bb-5faf-57df-a9ff-1af24e2b1045</td>\n",
              "      <td>2,999</td>\n",
              "      <td>3.9</td>\n",
              "      <td>York</td>\n",
              "      <td>Clothing and Accessories</td>\n",
              "      <td>2021-02-10 20:11:53</td>\n",
              "      <td>Yorker trackpants made from 100% rich combed c...</td>\n",
              "      <td>69% off</td>\n",
              "      <td>[https://rukminim1.flixcart.com/image/128/128/...</td>\n",
              "      <td>False</td>\n",
              "      <td>TKPFCZ9ESZZ7YWEF</td>\n",
              "      <td>[{'Style Code': '1005COMBO3'}, {'Closure': 'El...</td>\n",
              "      <td>Shyam Enterprises</td>\n",
              "      <td>911</td>\n",
              "      <td>Bottomwear</td>\n",
              "      <td>Solid Men Multicolor Track Pants</td>\n",
              "      <td>https://www.flipkart.com/yorker-solid-men-mult...</td>\n",
              "    </tr>\n",
              "    <tr>\n",
              "      <th>4</th>\n",
              "      <td>750caa3d-6264-53ca-8ce1-94118a1d8951</td>\n",
              "      <td>2,999</td>\n",
              "      <td>3.9</td>\n",
              "      <td>York</td>\n",
              "      <td>Clothing and Accessories</td>\n",
              "      <td>2021-02-10 20:11:53</td>\n",
              "      <td>Yorker trackpants made from 100% rich combed c...</td>\n",
              "      <td>68% off</td>\n",
              "      <td>[https://rukminim1.flixcart.com/image/128/128/...</td>\n",
              "      <td>False</td>\n",
              "      <td>TKPFCZ9EVXKBSUD7</td>\n",
              "      <td>[{'Style Code': '1005COMBO1'}, {'Closure': 'Dr...</td>\n",
              "      <td>Shyam Enterprises</td>\n",
              "      <td>943</td>\n",
              "      <td>Bottomwear</td>\n",
              "      <td>Solid Men Brown, Grey Track Pants</td>\n",
              "      <td>https://www.flipkart.com/yorker-solid-men-brow...</td>\n",
              "    </tr>\n",
              "  </tbody>\n",
              "</table>\n",
              "</div>\n",
              "      <button class=\"colab-df-convert\" onclick=\"convertToInteractive('df-1d889bbe-a76a-4211-92d4-b4c89d109690')\"\n",
              "              title=\"Convert this dataframe to an interactive table.\"\n",
              "              style=\"display:none;\">\n",
              "        \n",
              "  <svg xmlns=\"http://www.w3.org/2000/svg\" height=\"24px\"viewBox=\"0 0 24 24\"\n",
              "       width=\"24px\">\n",
              "    <path d=\"M0 0h24v24H0V0z\" fill=\"none\"/>\n",
              "    <path d=\"M18.56 5.44l.94 2.06.94-2.06 2.06-.94-2.06-.94-.94-2.06-.94 2.06-2.06.94zm-11 1L8.5 8.5l.94-2.06 2.06-.94-2.06-.94L8.5 2.5l-.94 2.06-2.06.94zm10 10l.94 2.06.94-2.06 2.06-.94-2.06-.94-.94-2.06-.94 2.06-2.06.94z\"/><path d=\"M17.41 7.96l-1.37-1.37c-.4-.4-.92-.59-1.43-.59-.52 0-1.04.2-1.43.59L10.3 9.45l-7.72 7.72c-.78.78-.78 2.05 0 2.83L4 21.41c.39.39.9.59 1.41.59.51 0 1.02-.2 1.41-.59l7.78-7.78 2.81-2.81c.8-.78.8-2.07 0-2.86zM5.41 20L4 18.59l7.72-7.72 1.47 1.35L5.41 20z\"/>\n",
              "  </svg>\n",
              "      </button>\n",
              "      \n",
              "  <style>\n",
              "    .colab-df-container {\n",
              "      display:flex;\n",
              "      flex-wrap:wrap;\n",
              "      gap: 12px;\n",
              "    }\n",
              "\n",
              "    .colab-df-convert {\n",
              "      background-color: #E8F0FE;\n",
              "      border: none;\n",
              "      border-radius: 50%;\n",
              "      cursor: pointer;\n",
              "      display: none;\n",
              "      fill: #1967D2;\n",
              "      height: 32px;\n",
              "      padding: 0 0 0 0;\n",
              "      width: 32px;\n",
              "    }\n",
              "\n",
              "    .colab-df-convert:hover {\n",
              "      background-color: #E2EBFA;\n",
              "      box-shadow: 0px 1px 2px rgba(60, 64, 67, 0.3), 0px 1px 3px 1px rgba(60, 64, 67, 0.15);\n",
              "      fill: #174EA6;\n",
              "    }\n",
              "\n",
              "    [theme=dark] .colab-df-convert {\n",
              "      background-color: #3B4455;\n",
              "      fill: #D2E3FC;\n",
              "    }\n",
              "\n",
              "    [theme=dark] .colab-df-convert:hover {\n",
              "      background-color: #434B5C;\n",
              "      box-shadow: 0px 1px 3px 1px rgba(0, 0, 0, 0.15);\n",
              "      filter: drop-shadow(0px 1px 2px rgba(0, 0, 0, 0.3));\n",
              "      fill: #FFFFFF;\n",
              "    }\n",
              "  </style>\n",
              "\n",
              "      <script>\n",
              "        const buttonEl =\n",
              "          document.querySelector('#df-1d889bbe-a76a-4211-92d4-b4c89d109690 button.colab-df-convert');\n",
              "        buttonEl.style.display =\n",
              "          google.colab.kernel.accessAllowed ? 'block' : 'none';\n",
              "\n",
              "        async function convertToInteractive(key) {\n",
              "          const element = document.querySelector('#df-1d889bbe-a76a-4211-92d4-b4c89d109690');\n",
              "          const dataTable =\n",
              "            await google.colab.kernel.invokeFunction('convertToInteractive',\n",
              "                                                     [key], {});\n",
              "          if (!dataTable) return;\n",
              "\n",
              "          const docLinkHtml = 'Like what you see? Visit the ' +\n",
              "            '<a target=\"_blank\" href=https://colab.research.google.com/notebooks/data_table.ipynb>data table notebook</a>'\n",
              "            + ' to learn more about interactive tables.';\n",
              "          element.innerHTML = '';\n",
              "          dataTable['output_type'] = 'display_data';\n",
              "          await google.colab.output.renderOutput(dataTable, element);\n",
              "          const docLink = document.createElement('div');\n",
              "          docLink.innerHTML = docLinkHtml;\n",
              "          element.appendChild(docLink);\n",
              "        }\n",
              "      </script>\n",
              "    </div>\n",
              "  </div>\n",
              "  "
            ],
            "text/plain": [
              "                                    _id actual_price average_rating brand  \\\n",
              "0  fa8e22d6-c0b6-5229-bb9e-ad52eda39a0a        2,999            3.9  York   \n",
              "1  893e6980-f2a0-531f-b056-34dd63fe912c        1,499            3.9  York   \n",
              "2  eb4c8eab-8206-59d0-bcd1-a724d96bf74f        2,999            3.9  York   \n",
              "3  3f3f97bb-5faf-57df-a9ff-1af24e2b1045        2,999            3.9  York   \n",
              "4  750caa3d-6264-53ca-8ce1-94118a1d8951        2,999            3.9  York   \n",
              "\n",
              "                   category          crawled_at  \\\n",
              "0  Clothing and Accessories 2021-02-10 20:11:51   \n",
              "1  Clothing and Accessories 2021-02-10 20:11:52   \n",
              "2  Clothing and Accessories 2021-02-10 20:11:52   \n",
              "3  Clothing and Accessories 2021-02-10 20:11:53   \n",
              "4  Clothing and Accessories 2021-02-10 20:11:53   \n",
              "\n",
              "                                         description discount  \\\n",
              "0  Yorker trackpants made from 100% rich combed c...  69% off   \n",
              "1  Yorker trackpants made from 100% rich combed c...  66% off   \n",
              "2  Yorker trackpants made from 100% rich combed c...  68% off   \n",
              "3  Yorker trackpants made from 100% rich combed c...  69% off   \n",
              "4  Yorker trackpants made from 100% rich combed c...  68% off   \n",
              "\n",
              "                                              images  out_of_stock  \\\n",
              "0  [https://rukminim1.flixcart.com/image/128/128/...         False   \n",
              "1  [https://rukminim1.flixcart.com/image/128/128/...         False   \n",
              "2  [https://rukminim1.flixcart.com/image/128/128/...         False   \n",
              "3  [https://rukminim1.flixcart.com/image/128/128/...         False   \n",
              "4  [https://rukminim1.flixcart.com/image/128/128/...         False   \n",
              "\n",
              "                pid                                    product_details  \\\n",
              "0  TKPFCZ9EA7H5FYZH  [{'Style Code': '1005COMBO2'}, {'Closure': 'El...   \n",
              "1  TKPFCZ9EJZV2UVRZ  [{'Style Code': '1005BLUE'}, {'Closure': 'Draw...   \n",
              "2  TKPFCZ9EHFCY5Z4Y  [{'Style Code': '1005COMBO4'}, {'Closure': 'El...   \n",
              "3  TKPFCZ9ESZZ7YWEF  [{'Style Code': '1005COMBO3'}, {'Closure': 'El...   \n",
              "4  TKPFCZ9EVXKBSUD7  [{'Style Code': '1005COMBO1'}, {'Closure': 'Dr...   \n",
              "\n",
              "              seller selling_price sub_category  \\\n",
              "0  Shyam Enterprises           921   Bottomwear   \n",
              "1  Shyam Enterprises           499   Bottomwear   \n",
              "2  Shyam Enterprises           931   Bottomwear   \n",
              "3  Shyam Enterprises           911   Bottomwear   \n",
              "4  Shyam Enterprises           943   Bottomwear   \n",
              "\n",
              "                               title  \\\n",
              "0   Solid Men Multicolor Track Pants   \n",
              "1         Solid Men Blue Track Pants   \n",
              "2   Solid Men Multicolor Track Pants   \n",
              "3   Solid Men Multicolor Track Pants   \n",
              "4  Solid Men Brown, Grey Track Pants   \n",
              "\n",
              "                                                 url  \n",
              "0  https://www.flipkart.com/yorker-solid-men-mult...  \n",
              "1  https://www.flipkart.com/yorker-solid-men-blue...  \n",
              "2  https://www.flipkart.com/yorker-solid-men-mult...  \n",
              "3  https://www.flipkart.com/yorker-solid-men-mult...  \n",
              "4  https://www.flipkart.com/yorker-solid-men-brow...  "
            ]
          },
          "execution_count": 3,
          "metadata": {},
          "output_type": "execute_result"
        }
      ],
      "source": [
        "data.head()"
      ]
    },
    {
      "cell_type": "code",
      "execution_count": 4,
      "metadata": {
        "id": "wITsPqBMmTzP"
      },
      "outputs": [],
      "source": [
        "subdata = pd.read_csv('https://github.com/sairam2661/datasets-public/blob/main/flipkart_com-ecommerce_sample.csv?raw=true')"
      ]
    },
    {
      "cell_type": "code",
      "execution_count": 5,
      "metadata": {
        "colab": {
          "base_uri": "https://localhost:8080/",
          "height": 531
        },
        "id": "6dng_i6Lmb6a",
        "outputId": "3aeb8816-0686-4f71-b5ef-75bafc70ebd8"
      },
      "outputs": [
        {
          "data": {
            "text/html": [
              "\n",
              "  <div id=\"df-6f695aed-ef4e-459c-b616-ef855aecebe3\">\n",
              "    <div class=\"colab-df-container\">\n",
              "      <div>\n",
              "<style scoped>\n",
              "    .dataframe tbody tr th:only-of-type {\n",
              "        vertical-align: middle;\n",
              "    }\n",
              "\n",
              "    .dataframe tbody tr th {\n",
              "        vertical-align: top;\n",
              "    }\n",
              "\n",
              "    .dataframe thead th {\n",
              "        text-align: right;\n",
              "    }\n",
              "</style>\n",
              "<table border=\"1\" class=\"dataframe\">\n",
              "  <thead>\n",
              "    <tr style=\"text-align: right;\">\n",
              "      <th></th>\n",
              "      <th>uniq_id</th>\n",
              "      <th>crawl_timestamp</th>\n",
              "      <th>product_url</th>\n",
              "      <th>product_name</th>\n",
              "      <th>product_category_tree</th>\n",
              "      <th>pid</th>\n",
              "      <th>retail_price</th>\n",
              "      <th>discounted_price</th>\n",
              "      <th>image</th>\n",
              "      <th>is_FK_Advantage_product</th>\n",
              "      <th>description</th>\n",
              "      <th>product_rating</th>\n",
              "      <th>overall_rating</th>\n",
              "      <th>brand</th>\n",
              "      <th>product_specifications</th>\n",
              "    </tr>\n",
              "  </thead>\n",
              "  <tbody>\n",
              "    <tr>\n",
              "      <th>0</th>\n",
              "      <td>c2d766ca982eca8304150849735ffef9</td>\n",
              "      <td>2016-03-25 22:59:23 +0000</td>\n",
              "      <td>http://www.flipkart.com/alisha-solid-women-s-c...</td>\n",
              "      <td>Alisha Solid Women's Cycling Shorts</td>\n",
              "      <td>[\"Clothing &gt;&gt; Women's Clothing &gt;&gt; Lingerie, Sl...</td>\n",
              "      <td>SRTEH2FF9KEDEFGF</td>\n",
              "      <td>999.0</td>\n",
              "      <td>379.0</td>\n",
              "      <td>[\"http://img5a.flixcart.com/image/short/u/4/a/...</td>\n",
              "      <td>False</td>\n",
              "      <td>Key Features of Alisha Solid Women's Cycling S...</td>\n",
              "      <td>No rating available</td>\n",
              "      <td>No rating available</td>\n",
              "      <td>Alisha</td>\n",
              "      <td>{\"product_specification\"=&gt;[{\"key\"=&gt;\"Number of ...</td>\n",
              "    </tr>\n",
              "    <tr>\n",
              "      <th>1</th>\n",
              "      <td>7f7036a6d550aaa89d34c77bd39a5e48</td>\n",
              "      <td>2016-03-25 22:59:23 +0000</td>\n",
              "      <td>http://www.flipkart.com/fabhomedecor-fabric-do...</td>\n",
              "      <td>FabHomeDecor Fabric Double Sofa Bed</td>\n",
              "      <td>[\"Furniture &gt;&gt; Living Room Furniture &gt;&gt; Sofa B...</td>\n",
              "      <td>SBEEH3QGU7MFYJFY</td>\n",
              "      <td>32157.0</td>\n",
              "      <td>22646.0</td>\n",
              "      <td>[\"http://img6a.flixcart.com/image/sofa-bed/j/f...</td>\n",
              "      <td>False</td>\n",
              "      <td>FabHomeDecor Fabric Double Sofa Bed (Finish Co...</td>\n",
              "      <td>No rating available</td>\n",
              "      <td>No rating available</td>\n",
              "      <td>FabHomeDecor</td>\n",
              "      <td>{\"product_specification\"=&gt;[{\"key\"=&gt;\"Installati...</td>\n",
              "    </tr>\n",
              "    <tr>\n",
              "      <th>2</th>\n",
              "      <td>f449ec65dcbc041b6ae5e6a32717d01b</td>\n",
              "      <td>2016-03-25 22:59:23 +0000</td>\n",
              "      <td>http://www.flipkart.com/aw-bellies/p/itmeh4grg...</td>\n",
              "      <td>AW Bellies</td>\n",
              "      <td>[\"Footwear &gt;&gt; Women's Footwear &gt;&gt; Ballerinas &gt;...</td>\n",
              "      <td>SHOEH4GRSUBJGZXE</td>\n",
              "      <td>999.0</td>\n",
              "      <td>499.0</td>\n",
              "      <td>[\"http://img5a.flixcart.com/image/shoe/7/z/z/r...</td>\n",
              "      <td>False</td>\n",
              "      <td>Key Features of AW Bellies Sandals Wedges Heel...</td>\n",
              "      <td>No rating available</td>\n",
              "      <td>No rating available</td>\n",
              "      <td>AW</td>\n",
              "      <td>{\"product_specification\"=&gt;[{\"key\"=&gt;\"Ideal For\"...</td>\n",
              "    </tr>\n",
              "    <tr>\n",
              "      <th>3</th>\n",
              "      <td>0973b37acd0c664e3de26e97e5571454</td>\n",
              "      <td>2016-03-25 22:59:23 +0000</td>\n",
              "      <td>http://www.flipkart.com/alisha-solid-women-s-c...</td>\n",
              "      <td>Alisha Solid Women's Cycling Shorts</td>\n",
              "      <td>[\"Clothing &gt;&gt; Women's Clothing &gt;&gt; Lingerie, Sl...</td>\n",
              "      <td>SRTEH2F6HUZMQ6SJ</td>\n",
              "      <td>699.0</td>\n",
              "      <td>267.0</td>\n",
              "      <td>[\"http://img5a.flixcart.com/image/short/6/2/h/...</td>\n",
              "      <td>False</td>\n",
              "      <td>Key Features of Alisha Solid Women's Cycling S...</td>\n",
              "      <td>No rating available</td>\n",
              "      <td>No rating available</td>\n",
              "      <td>Alisha</td>\n",
              "      <td>{\"product_specification\"=&gt;[{\"key\"=&gt;\"Number of ...</td>\n",
              "    </tr>\n",
              "    <tr>\n",
              "      <th>4</th>\n",
              "      <td>bc940ea42ee6bef5ac7cea3fb5cfbee7</td>\n",
              "      <td>2016-03-25 22:59:23 +0000</td>\n",
              "      <td>http://www.flipkart.com/sicons-all-purpose-arn...</td>\n",
              "      <td>Sicons All Purpose Arnica Dog Shampoo</td>\n",
              "      <td>[\"Pet Supplies &gt;&gt; Grooming &gt;&gt; Skin &amp; Coat Care...</td>\n",
              "      <td>PSOEH3ZYDMSYARJ5</td>\n",
              "      <td>220.0</td>\n",
              "      <td>210.0</td>\n",
              "      <td>[\"http://img5a.flixcart.com/image/pet-shampoo/...</td>\n",
              "      <td>False</td>\n",
              "      <td>Specifications of Sicons All Purpose Arnica Do...</td>\n",
              "      <td>No rating available</td>\n",
              "      <td>No rating available</td>\n",
              "      <td>Sicons</td>\n",
              "      <td>{\"product_specification\"=&gt;[{\"key\"=&gt;\"Pet Type\",...</td>\n",
              "    </tr>\n",
              "  </tbody>\n",
              "</table>\n",
              "</div>\n",
              "      <button class=\"colab-df-convert\" onclick=\"convertToInteractive('df-6f695aed-ef4e-459c-b616-ef855aecebe3')\"\n",
              "              title=\"Convert this dataframe to an interactive table.\"\n",
              "              style=\"display:none;\">\n",
              "        \n",
              "  <svg xmlns=\"http://www.w3.org/2000/svg\" height=\"24px\"viewBox=\"0 0 24 24\"\n",
              "       width=\"24px\">\n",
              "    <path d=\"M0 0h24v24H0V0z\" fill=\"none\"/>\n",
              "    <path d=\"M18.56 5.44l.94 2.06.94-2.06 2.06-.94-2.06-.94-.94-2.06-.94 2.06-2.06.94zm-11 1L8.5 8.5l.94-2.06 2.06-.94-2.06-.94L8.5 2.5l-.94 2.06-2.06.94zm10 10l.94 2.06.94-2.06 2.06-.94-2.06-.94-.94-2.06-.94 2.06-2.06.94z\"/><path d=\"M17.41 7.96l-1.37-1.37c-.4-.4-.92-.59-1.43-.59-.52 0-1.04.2-1.43.59L10.3 9.45l-7.72 7.72c-.78.78-.78 2.05 0 2.83L4 21.41c.39.39.9.59 1.41.59.51 0 1.02-.2 1.41-.59l7.78-7.78 2.81-2.81c.8-.78.8-2.07 0-2.86zM5.41 20L4 18.59l7.72-7.72 1.47 1.35L5.41 20z\"/>\n",
              "  </svg>\n",
              "      </button>\n",
              "      \n",
              "  <style>\n",
              "    .colab-df-container {\n",
              "      display:flex;\n",
              "      flex-wrap:wrap;\n",
              "      gap: 12px;\n",
              "    }\n",
              "\n",
              "    .colab-df-convert {\n",
              "      background-color: #E8F0FE;\n",
              "      border: none;\n",
              "      border-radius: 50%;\n",
              "      cursor: pointer;\n",
              "      display: none;\n",
              "      fill: #1967D2;\n",
              "      height: 32px;\n",
              "      padding: 0 0 0 0;\n",
              "      width: 32px;\n",
              "    }\n",
              "\n",
              "    .colab-df-convert:hover {\n",
              "      background-color: #E2EBFA;\n",
              "      box-shadow: 0px 1px 2px rgba(60, 64, 67, 0.3), 0px 1px 3px 1px rgba(60, 64, 67, 0.15);\n",
              "      fill: #174EA6;\n",
              "    }\n",
              "\n",
              "    [theme=dark] .colab-df-convert {\n",
              "      background-color: #3B4455;\n",
              "      fill: #D2E3FC;\n",
              "    }\n",
              "\n",
              "    [theme=dark] .colab-df-convert:hover {\n",
              "      background-color: #434B5C;\n",
              "      box-shadow: 0px 1px 3px 1px rgba(0, 0, 0, 0.15);\n",
              "      filter: drop-shadow(0px 1px 2px rgba(0, 0, 0, 0.3));\n",
              "      fill: #FFFFFF;\n",
              "    }\n",
              "  </style>\n",
              "\n",
              "      <script>\n",
              "        const buttonEl =\n",
              "          document.querySelector('#df-6f695aed-ef4e-459c-b616-ef855aecebe3 button.colab-df-convert');\n",
              "        buttonEl.style.display =\n",
              "          google.colab.kernel.accessAllowed ? 'block' : 'none';\n",
              "\n",
              "        async function convertToInteractive(key) {\n",
              "          const element = document.querySelector('#df-6f695aed-ef4e-459c-b616-ef855aecebe3');\n",
              "          const dataTable =\n",
              "            await google.colab.kernel.invokeFunction('convertToInteractive',\n",
              "                                                     [key], {});\n",
              "          if (!dataTable) return;\n",
              "\n",
              "          const docLinkHtml = 'Like what you see? Visit the ' +\n",
              "            '<a target=\"_blank\" href=https://colab.research.google.com/notebooks/data_table.ipynb>data table notebook</a>'\n",
              "            + ' to learn more about interactive tables.';\n",
              "          element.innerHTML = '';\n",
              "          dataTable['output_type'] = 'display_data';\n",
              "          await google.colab.output.renderOutput(dataTable, element);\n",
              "          const docLink = document.createElement('div');\n",
              "          docLink.innerHTML = docLinkHtml;\n",
              "          element.appendChild(docLink);\n",
              "        }\n",
              "      </script>\n",
              "    </div>\n",
              "  </div>\n",
              "  "
            ],
            "text/plain": [
              "                            uniq_id            crawl_timestamp  \\\n",
              "0  c2d766ca982eca8304150849735ffef9  2016-03-25 22:59:23 +0000   \n",
              "1  7f7036a6d550aaa89d34c77bd39a5e48  2016-03-25 22:59:23 +0000   \n",
              "2  f449ec65dcbc041b6ae5e6a32717d01b  2016-03-25 22:59:23 +0000   \n",
              "3  0973b37acd0c664e3de26e97e5571454  2016-03-25 22:59:23 +0000   \n",
              "4  bc940ea42ee6bef5ac7cea3fb5cfbee7  2016-03-25 22:59:23 +0000   \n",
              "\n",
              "                                         product_url  \\\n",
              "0  http://www.flipkart.com/alisha-solid-women-s-c...   \n",
              "1  http://www.flipkart.com/fabhomedecor-fabric-do...   \n",
              "2  http://www.flipkart.com/aw-bellies/p/itmeh4grg...   \n",
              "3  http://www.flipkart.com/alisha-solid-women-s-c...   \n",
              "4  http://www.flipkart.com/sicons-all-purpose-arn...   \n",
              "\n",
              "                            product_name  \\\n",
              "0    Alisha Solid Women's Cycling Shorts   \n",
              "1    FabHomeDecor Fabric Double Sofa Bed   \n",
              "2                             AW Bellies   \n",
              "3    Alisha Solid Women's Cycling Shorts   \n",
              "4  Sicons All Purpose Arnica Dog Shampoo   \n",
              "\n",
              "                               product_category_tree               pid  \\\n",
              "0  [\"Clothing >> Women's Clothing >> Lingerie, Sl...  SRTEH2FF9KEDEFGF   \n",
              "1  [\"Furniture >> Living Room Furniture >> Sofa B...  SBEEH3QGU7MFYJFY   \n",
              "2  [\"Footwear >> Women's Footwear >> Ballerinas >...  SHOEH4GRSUBJGZXE   \n",
              "3  [\"Clothing >> Women's Clothing >> Lingerie, Sl...  SRTEH2F6HUZMQ6SJ   \n",
              "4  [\"Pet Supplies >> Grooming >> Skin & Coat Care...  PSOEH3ZYDMSYARJ5   \n",
              "\n",
              "   retail_price  discounted_price  \\\n",
              "0         999.0             379.0   \n",
              "1       32157.0           22646.0   \n",
              "2         999.0             499.0   \n",
              "3         699.0             267.0   \n",
              "4         220.0             210.0   \n",
              "\n",
              "                                               image  is_FK_Advantage_product  \\\n",
              "0  [\"http://img5a.flixcart.com/image/short/u/4/a/...                    False   \n",
              "1  [\"http://img6a.flixcart.com/image/sofa-bed/j/f...                    False   \n",
              "2  [\"http://img5a.flixcart.com/image/shoe/7/z/z/r...                    False   \n",
              "3  [\"http://img5a.flixcart.com/image/short/6/2/h/...                    False   \n",
              "4  [\"http://img5a.flixcart.com/image/pet-shampoo/...                    False   \n",
              "\n",
              "                                         description       product_rating  \\\n",
              "0  Key Features of Alisha Solid Women's Cycling S...  No rating available   \n",
              "1  FabHomeDecor Fabric Double Sofa Bed (Finish Co...  No rating available   \n",
              "2  Key Features of AW Bellies Sandals Wedges Heel...  No rating available   \n",
              "3  Key Features of Alisha Solid Women's Cycling S...  No rating available   \n",
              "4  Specifications of Sicons All Purpose Arnica Do...  No rating available   \n",
              "\n",
              "        overall_rating         brand  \\\n",
              "0  No rating available        Alisha   \n",
              "1  No rating available  FabHomeDecor   \n",
              "2  No rating available            AW   \n",
              "3  No rating available        Alisha   \n",
              "4  No rating available        Sicons   \n",
              "\n",
              "                              product_specifications  \n",
              "0  {\"product_specification\"=>[{\"key\"=>\"Number of ...  \n",
              "1  {\"product_specification\"=>[{\"key\"=>\"Installati...  \n",
              "2  {\"product_specification\"=>[{\"key\"=>\"Ideal For\"...  \n",
              "3  {\"product_specification\"=>[{\"key\"=>\"Number of ...  \n",
              "4  {\"product_specification\"=>[{\"key\"=>\"Pet Type\",...  "
            ]
          },
          "execution_count": 5,
          "metadata": {},
          "output_type": "execute_result"
        }
      ],
      "source": [
        "subdata.head()"
      ]
    },
    {
      "cell_type": "code",
      "execution_count": 6,
      "metadata": {
        "id": "VlxQssRJmpbH"
      },
      "outputs": [],
      "source": [
        "def for_fun(some_text):\n",
        "  some_text = str(some_text)\n",
        "  some_text = some_text.lower()\n",
        "  if ('\"women') in some_text:\n",
        "    return 'women'\n",
        "  elif ('\"men') in some_text:\n",
        "    return 'men'"
      ]
    },
    {
      "cell_type": "code",
      "execution_count": 7,
      "metadata": {
        "id": "ijDQD6Mdn-ui"
      },
      "outputs": [],
      "source": [
        "subdata['gender'] = subdata['product_specifications'].apply(for_fun)"
      ]
    },
    {
      "cell_type": "code",
      "execution_count": 8,
      "metadata": {
        "colab": {
          "base_uri": "https://localhost:8080/"
        },
        "id": "RIIxsyrenjvT",
        "outputId": "2d55a6f7-7000-46f5-b2c3-6f200618499d"
      },
      "outputs": [
        {
          "data": {
            "text/plain": [
              "women    7762\n",
              "men      3187\n",
              "Name: gender, dtype: int64"
            ]
          },
          "execution_count": 8,
          "metadata": {},
          "output_type": "execute_result"
        }
      ],
      "source": [
        "subdata['gender'].value_counts()"
      ]
    },
    {
      "cell_type": "markdown",
      "metadata": {
        "id": "E52Ppm8HtUvT"
      },
      "source": [
        "{\"product_specification\"=>[{\"key\"=>\"Occasion\", \"value\"=>\"Sports\"}, {\"key\"=>\"Ideal For\", \"value\"=>\"Men\"}, {\"key\"=>\"Tip Shape\", \"value\"=>\"Round\"}, {\"key\"=>\"Closure\", \"value\"=>\"Laced\"}, {\"key\"=>\"Sole Material\", \"value\"=>\"Rubber\"}, {\"key\"=>\"Number of Contents in Sales Package\", \"value\"=>\"Pack of 1\"}, {\"key\"=>\"Weight\", \"value\"=>\"323 g (per single Shoe) - Weight of the product may vary depending on size.\"}, {\"key\"=>\"Heel Height\", \"value\"=>\"0.9 inch\"}, {\"key\"=>\"Technology Used\", \"value\"=>\"Fluidride\"}, {\"key\"=>\"Outer Material\", \"value\"=>\"Mesh\"}, {\"key\"=>\"Color\", \"value\"=>\"Island Blue, Black, Indigo Blue\"}, {\"value\"=>\"1 Pair of shoes\"}]}"
      ]
    },
    {
      "cell_type": "code",
      "execution_count": 9,
      "metadata": {
        "id": "tB2Hv1DyvSYH"
      },
      "outputs": [],
      "source": [
        "testsub = subdata[subdata['gender'].isin(['men', 'women'])]"
      ]
    },
    {
      "cell_type": "code",
      "execution_count": 10,
      "metadata": {
        "colab": {
          "base_uri": "https://localhost:8080/",
          "height": 617
        },
        "id": "7URbbm2QvzlC",
        "outputId": "218a27ba-de24-46ae-c874-2b33b1039195"
      },
      "outputs": [
        {
          "data": {
            "text/html": [
              "\n",
              "  <div id=\"df-f95a1e56-5086-4a10-97da-2f7d97533a7a\">\n",
              "    <div class=\"colab-df-container\">\n",
              "      <div>\n",
              "<style scoped>\n",
              "    .dataframe tbody tr th:only-of-type {\n",
              "        vertical-align: middle;\n",
              "    }\n",
              "\n",
              "    .dataframe tbody tr th {\n",
              "        vertical-align: top;\n",
              "    }\n",
              "\n",
              "    .dataframe thead th {\n",
              "        text-align: right;\n",
              "    }\n",
              "</style>\n",
              "<table border=\"1\" class=\"dataframe\">\n",
              "  <thead>\n",
              "    <tr style=\"text-align: right;\">\n",
              "      <th></th>\n",
              "      <th>uniq_id</th>\n",
              "      <th>crawl_timestamp</th>\n",
              "      <th>product_url</th>\n",
              "      <th>product_name</th>\n",
              "      <th>product_category_tree</th>\n",
              "      <th>pid</th>\n",
              "      <th>retail_price</th>\n",
              "      <th>discounted_price</th>\n",
              "      <th>image</th>\n",
              "      <th>is_FK_Advantage_product</th>\n",
              "      <th>description</th>\n",
              "      <th>product_rating</th>\n",
              "      <th>overall_rating</th>\n",
              "      <th>brand</th>\n",
              "      <th>product_specifications</th>\n",
              "      <th>gender</th>\n",
              "    </tr>\n",
              "  </thead>\n",
              "  <tbody>\n",
              "    <tr>\n",
              "      <th>0</th>\n",
              "      <td>c2d766ca982eca8304150849735ffef9</td>\n",
              "      <td>2016-03-25 22:59:23 +0000</td>\n",
              "      <td>http://www.flipkart.com/alisha-solid-women-s-c...</td>\n",
              "      <td>Alisha Solid Women's Cycling Shorts</td>\n",
              "      <td>[\"Clothing &gt;&gt; Women's Clothing &gt;&gt; Lingerie, Sl...</td>\n",
              "      <td>SRTEH2FF9KEDEFGF</td>\n",
              "      <td>999.0</td>\n",
              "      <td>379.0</td>\n",
              "      <td>[\"http://img5a.flixcart.com/image/short/u/4/a/...</td>\n",
              "      <td>False</td>\n",
              "      <td>Key Features of Alisha Solid Women's Cycling S...</td>\n",
              "      <td>No rating available</td>\n",
              "      <td>No rating available</td>\n",
              "      <td>Alisha</td>\n",
              "      <td>{\"product_specification\"=&gt;[{\"key\"=&gt;\"Number of ...</td>\n",
              "      <td>women</td>\n",
              "    </tr>\n",
              "    <tr>\n",
              "      <th>2</th>\n",
              "      <td>f449ec65dcbc041b6ae5e6a32717d01b</td>\n",
              "      <td>2016-03-25 22:59:23 +0000</td>\n",
              "      <td>http://www.flipkart.com/aw-bellies/p/itmeh4grg...</td>\n",
              "      <td>AW Bellies</td>\n",
              "      <td>[\"Footwear &gt;&gt; Women's Footwear &gt;&gt; Ballerinas &gt;...</td>\n",
              "      <td>SHOEH4GRSUBJGZXE</td>\n",
              "      <td>999.0</td>\n",
              "      <td>499.0</td>\n",
              "      <td>[\"http://img5a.flixcart.com/image/shoe/7/z/z/r...</td>\n",
              "      <td>False</td>\n",
              "      <td>Key Features of AW Bellies Sandals Wedges Heel...</td>\n",
              "      <td>No rating available</td>\n",
              "      <td>No rating available</td>\n",
              "      <td>AW</td>\n",
              "      <td>{\"product_specification\"=&gt;[{\"key\"=&gt;\"Ideal For\"...</td>\n",
              "      <td>women</td>\n",
              "    </tr>\n",
              "    <tr>\n",
              "      <th>3</th>\n",
              "      <td>0973b37acd0c664e3de26e97e5571454</td>\n",
              "      <td>2016-03-25 22:59:23 +0000</td>\n",
              "      <td>http://www.flipkart.com/alisha-solid-women-s-c...</td>\n",
              "      <td>Alisha Solid Women's Cycling Shorts</td>\n",
              "      <td>[\"Clothing &gt;&gt; Women's Clothing &gt;&gt; Lingerie, Sl...</td>\n",
              "      <td>SRTEH2F6HUZMQ6SJ</td>\n",
              "      <td>699.0</td>\n",
              "      <td>267.0</td>\n",
              "      <td>[\"http://img5a.flixcart.com/image/short/6/2/h/...</td>\n",
              "      <td>False</td>\n",
              "      <td>Key Features of Alisha Solid Women's Cycling S...</td>\n",
              "      <td>No rating available</td>\n",
              "      <td>No rating available</td>\n",
              "      <td>Alisha</td>\n",
              "      <td>{\"product_specification\"=&gt;[{\"key\"=&gt;\"Number of ...</td>\n",
              "      <td>women</td>\n",
              "    </tr>\n",
              "    <tr>\n",
              "      <th>6</th>\n",
              "      <td>ce5a6818f7707e2cb61fdcdbba61f5ad</td>\n",
              "      <td>2016-03-25 22:59:23 +0000</td>\n",
              "      <td>http://www.flipkart.com/alisha-solid-women-s-c...</td>\n",
              "      <td>Alisha Solid Women's Cycling Shorts</td>\n",
              "      <td>[\"Clothing &gt;&gt; Women's Clothing &gt;&gt; Lingerie, Sl...</td>\n",
              "      <td>SRTEH2FVVKRBAXHB</td>\n",
              "      <td>1199.0</td>\n",
              "      <td>479.0</td>\n",
              "      <td>[\"http://img6a.flixcart.com/image/short/p/j/z/...</td>\n",
              "      <td>False</td>\n",
              "      <td>Key Features of Alisha Solid Women's Cycling S...</td>\n",
              "      <td>No rating available</td>\n",
              "      <td>No rating available</td>\n",
              "      <td>Alisha</td>\n",
              "      <td>{\"product_specification\"=&gt;[{\"key\"=&gt;\"Number of ...</td>\n",
              "      <td>women</td>\n",
              "    </tr>\n",
              "    <tr>\n",
              "      <th>8</th>\n",
              "      <td>29c8d290caa451f97b1c32df64477a2c</td>\n",
              "      <td>2016-03-25 22:59:23 +0000</td>\n",
              "      <td>http://www.flipkart.com/dilli-bazaaar-bellies-...</td>\n",
              "      <td>dilli bazaaar Bellies, Corporate Casuals, Casuals</td>\n",
              "      <td>[\"Footwear &gt;&gt; Women's Footwear &gt;&gt; Ballerinas &gt;...</td>\n",
              "      <td>SHOEH3DZBFR88SCK</td>\n",
              "      <td>699.0</td>\n",
              "      <td>349.0</td>\n",
              "      <td>[\"http://img6a.flixcart.com/image/shoe/b/p/n/p...</td>\n",
              "      <td>False</td>\n",
              "      <td>Key Features of dilli bazaaar Bellies, Corpora...</td>\n",
              "      <td>No rating available</td>\n",
              "      <td>No rating available</td>\n",
              "      <td>dilli bazaaar</td>\n",
              "      <td>{\"product_specification\"=&gt;[{\"key\"=&gt;\"Occasion\",...</td>\n",
              "      <td>women</td>\n",
              "    </tr>\n",
              "  </tbody>\n",
              "</table>\n",
              "</div>\n",
              "      <button class=\"colab-df-convert\" onclick=\"convertToInteractive('df-f95a1e56-5086-4a10-97da-2f7d97533a7a')\"\n",
              "              title=\"Convert this dataframe to an interactive table.\"\n",
              "              style=\"display:none;\">\n",
              "        \n",
              "  <svg xmlns=\"http://www.w3.org/2000/svg\" height=\"24px\"viewBox=\"0 0 24 24\"\n",
              "       width=\"24px\">\n",
              "    <path d=\"M0 0h24v24H0V0z\" fill=\"none\"/>\n",
              "    <path d=\"M18.56 5.44l.94 2.06.94-2.06 2.06-.94-2.06-.94-.94-2.06-.94 2.06-2.06.94zm-11 1L8.5 8.5l.94-2.06 2.06-.94-2.06-.94L8.5 2.5l-.94 2.06-2.06.94zm10 10l.94 2.06.94-2.06 2.06-.94-2.06-.94-.94-2.06-.94 2.06-2.06.94z\"/><path d=\"M17.41 7.96l-1.37-1.37c-.4-.4-.92-.59-1.43-.59-.52 0-1.04.2-1.43.59L10.3 9.45l-7.72 7.72c-.78.78-.78 2.05 0 2.83L4 21.41c.39.39.9.59 1.41.59.51 0 1.02-.2 1.41-.59l7.78-7.78 2.81-2.81c.8-.78.8-2.07 0-2.86zM5.41 20L4 18.59l7.72-7.72 1.47 1.35L5.41 20z\"/>\n",
              "  </svg>\n",
              "      </button>\n",
              "      \n",
              "  <style>\n",
              "    .colab-df-container {\n",
              "      display:flex;\n",
              "      flex-wrap:wrap;\n",
              "      gap: 12px;\n",
              "    }\n",
              "\n",
              "    .colab-df-convert {\n",
              "      background-color: #E8F0FE;\n",
              "      border: none;\n",
              "      border-radius: 50%;\n",
              "      cursor: pointer;\n",
              "      display: none;\n",
              "      fill: #1967D2;\n",
              "      height: 32px;\n",
              "      padding: 0 0 0 0;\n",
              "      width: 32px;\n",
              "    }\n",
              "\n",
              "    .colab-df-convert:hover {\n",
              "      background-color: #E2EBFA;\n",
              "      box-shadow: 0px 1px 2px rgba(60, 64, 67, 0.3), 0px 1px 3px 1px rgba(60, 64, 67, 0.15);\n",
              "      fill: #174EA6;\n",
              "    }\n",
              "\n",
              "    [theme=dark] .colab-df-convert {\n",
              "      background-color: #3B4455;\n",
              "      fill: #D2E3FC;\n",
              "    }\n",
              "\n",
              "    [theme=dark] .colab-df-convert:hover {\n",
              "      background-color: #434B5C;\n",
              "      box-shadow: 0px 1px 3px 1px rgba(0, 0, 0, 0.15);\n",
              "      filter: drop-shadow(0px 1px 2px rgba(0, 0, 0, 0.3));\n",
              "      fill: #FFFFFF;\n",
              "    }\n",
              "  </style>\n",
              "\n",
              "      <script>\n",
              "        const buttonEl =\n",
              "          document.querySelector('#df-f95a1e56-5086-4a10-97da-2f7d97533a7a button.colab-df-convert');\n",
              "        buttonEl.style.display =\n",
              "          google.colab.kernel.accessAllowed ? 'block' : 'none';\n",
              "\n",
              "        async function convertToInteractive(key) {\n",
              "          const element = document.querySelector('#df-f95a1e56-5086-4a10-97da-2f7d97533a7a');\n",
              "          const dataTable =\n",
              "            await google.colab.kernel.invokeFunction('convertToInteractive',\n",
              "                                                     [key], {});\n",
              "          if (!dataTable) return;\n",
              "\n",
              "          const docLinkHtml = 'Like what you see? Visit the ' +\n",
              "            '<a target=\"_blank\" href=https://colab.research.google.com/notebooks/data_table.ipynb>data table notebook</a>'\n",
              "            + ' to learn more about interactive tables.';\n",
              "          element.innerHTML = '';\n",
              "          dataTable['output_type'] = 'display_data';\n",
              "          await google.colab.output.renderOutput(dataTable, element);\n",
              "          const docLink = document.createElement('div');\n",
              "          docLink.innerHTML = docLinkHtml;\n",
              "          element.appendChild(docLink);\n",
              "        }\n",
              "      </script>\n",
              "    </div>\n",
              "  </div>\n",
              "  "
            ],
            "text/plain": [
              "                            uniq_id            crawl_timestamp  \\\n",
              "0  c2d766ca982eca8304150849735ffef9  2016-03-25 22:59:23 +0000   \n",
              "2  f449ec65dcbc041b6ae5e6a32717d01b  2016-03-25 22:59:23 +0000   \n",
              "3  0973b37acd0c664e3de26e97e5571454  2016-03-25 22:59:23 +0000   \n",
              "6  ce5a6818f7707e2cb61fdcdbba61f5ad  2016-03-25 22:59:23 +0000   \n",
              "8  29c8d290caa451f97b1c32df64477a2c  2016-03-25 22:59:23 +0000   \n",
              "\n",
              "                                         product_url  \\\n",
              "0  http://www.flipkart.com/alisha-solid-women-s-c...   \n",
              "2  http://www.flipkart.com/aw-bellies/p/itmeh4grg...   \n",
              "3  http://www.flipkart.com/alisha-solid-women-s-c...   \n",
              "6  http://www.flipkart.com/alisha-solid-women-s-c...   \n",
              "8  http://www.flipkart.com/dilli-bazaaar-bellies-...   \n",
              "\n",
              "                                        product_name  \\\n",
              "0                Alisha Solid Women's Cycling Shorts   \n",
              "2                                         AW Bellies   \n",
              "3                Alisha Solid Women's Cycling Shorts   \n",
              "6                Alisha Solid Women's Cycling Shorts   \n",
              "8  dilli bazaaar Bellies, Corporate Casuals, Casuals   \n",
              "\n",
              "                               product_category_tree               pid  \\\n",
              "0  [\"Clothing >> Women's Clothing >> Lingerie, Sl...  SRTEH2FF9KEDEFGF   \n",
              "2  [\"Footwear >> Women's Footwear >> Ballerinas >...  SHOEH4GRSUBJGZXE   \n",
              "3  [\"Clothing >> Women's Clothing >> Lingerie, Sl...  SRTEH2F6HUZMQ6SJ   \n",
              "6  [\"Clothing >> Women's Clothing >> Lingerie, Sl...  SRTEH2FVVKRBAXHB   \n",
              "8  [\"Footwear >> Women's Footwear >> Ballerinas >...  SHOEH3DZBFR88SCK   \n",
              "\n",
              "   retail_price  discounted_price  \\\n",
              "0         999.0             379.0   \n",
              "2         999.0             499.0   \n",
              "3         699.0             267.0   \n",
              "6        1199.0             479.0   \n",
              "8         699.0             349.0   \n",
              "\n",
              "                                               image  is_FK_Advantage_product  \\\n",
              "0  [\"http://img5a.flixcart.com/image/short/u/4/a/...                    False   \n",
              "2  [\"http://img5a.flixcart.com/image/shoe/7/z/z/r...                    False   \n",
              "3  [\"http://img5a.flixcart.com/image/short/6/2/h/...                    False   \n",
              "6  [\"http://img6a.flixcart.com/image/short/p/j/z/...                    False   \n",
              "8  [\"http://img6a.flixcart.com/image/shoe/b/p/n/p...                    False   \n",
              "\n",
              "                                         description       product_rating  \\\n",
              "0  Key Features of Alisha Solid Women's Cycling S...  No rating available   \n",
              "2  Key Features of AW Bellies Sandals Wedges Heel...  No rating available   \n",
              "3  Key Features of Alisha Solid Women's Cycling S...  No rating available   \n",
              "6  Key Features of Alisha Solid Women's Cycling S...  No rating available   \n",
              "8  Key Features of dilli bazaaar Bellies, Corpora...  No rating available   \n",
              "\n",
              "        overall_rating          brand  \\\n",
              "0  No rating available         Alisha   \n",
              "2  No rating available             AW   \n",
              "3  No rating available         Alisha   \n",
              "6  No rating available         Alisha   \n",
              "8  No rating available  dilli bazaaar   \n",
              "\n",
              "                              product_specifications gender  \n",
              "0  {\"product_specification\"=>[{\"key\"=>\"Number of ...  women  \n",
              "2  {\"product_specification\"=>[{\"key\"=>\"Ideal For\"...  women  \n",
              "3  {\"product_specification\"=>[{\"key\"=>\"Number of ...  women  \n",
              "6  {\"product_specification\"=>[{\"key\"=>\"Number of ...  women  \n",
              "8  {\"product_specification\"=>[{\"key\"=>\"Occasion\",...  women  "
            ]
          },
          "execution_count": 10,
          "metadata": {},
          "output_type": "execute_result"
        }
      ],
      "source": [
        "testsub.head()"
      ]
    },
    {
      "cell_type": "code",
      "execution_count": 11,
      "metadata": {
        "id": "BLn-1swfwgIT"
      },
      "outputs": [],
      "source": [
        "testsub = testsub[['brand', 'description', 'product_specifications', 'product_name', 'product_url', 'product_category_tree', 'gender']]"
      ]
    },
    {
      "cell_type": "code",
      "execution_count": 12,
      "metadata": {
        "colab": {
          "base_uri": "https://localhost:8080/"
        },
        "id": "FxQNlEaY75OB",
        "outputId": "6ccd4ac7-aa37-4136-f800-b97ffb5db059"
      },
      "outputs": [
        {
          "data": {
            "text/plain": [
              "Index(['_id', 'actual_price', 'average_rating', 'brand', 'category',\n",
              "       'crawled_at', 'description', 'discount', 'images', 'out_of_stock',\n",
              "       'pid', 'product_details', 'seller', 'selling_price', 'sub_category',\n",
              "       'title', 'url'],\n",
              "      dtype='object')"
            ]
          },
          "execution_count": 12,
          "metadata": {},
          "output_type": "execute_result"
        }
      ],
      "source": [
        "data.columns"
      ]
    },
    {
      "cell_type": "markdown",
      "metadata": {
        "id": "akshB_tk6AfX"
      },
      "source": [
        "Performing preprocessing for the 1st dataset,"
      ]
    },
    {
      "cell_type": "code",
      "execution_count": 13,
      "metadata": {
        "id": "krYf9SgUsocj"
      },
      "outputs": [],
      "source": [
        "def for_data_fun(some_text):\n",
        "  some_text = str(some_text)\n",
        "  some_text = some_text.lower()\n",
        "  if ('-women-') in some_text and '-men-' in some_text:\n",
        "    return 'both'\n",
        "  elif ('-women-') in some_text:\n",
        "    return 'women'\n",
        "  elif ('-men-') in some_text:\n",
        "    return 'men'"
      ]
    },
    {
      "cell_type": "code",
      "execution_count": 14,
      "metadata": {
        "id": "Wmm82671xesw"
      },
      "outputs": [],
      "source": [
        "data['gender'] = data['url'].apply(for_data_fun)"
      ]
    },
    {
      "cell_type": "code",
      "execution_count": 15,
      "metadata": {
        "colab": {
          "base_uri": "https://localhost:8080/"
        },
        "id": "4_8kn35GxsGp",
        "outputId": "7f9e488e-8d27-4920-f24e-aedd3db2ce1a"
      },
      "outputs": [
        {
          "data": {
            "text/plain": [
              "men      27389\n",
              "both        59\n",
              "women        2\n",
              "Name: gender, dtype: int64"
            ]
          },
          "execution_count": 15,
          "metadata": {},
          "output_type": "execute_result"
        }
      ],
      "source": [
        "data['gender'].value_counts()"
      ]
    },
    {
      "cell_type": "code",
      "execution_count": 16,
      "metadata": {
        "colab": {
          "base_uri": "https://localhost:8080/"
        },
        "id": "0lBJlkNQzx_X",
        "outputId": "b6cfa909-5c29-40c8-8365-ef1d50d80205"
      },
      "outputs": [
        {
          "data": {
            "text/plain": [
              "(30000,)"
            ]
          },
          "execution_count": 16,
          "metadata": {},
          "output_type": "execute_result"
        }
      ],
      "source": [
        "data['title'].shape"
      ]
    },
    {
      "cell_type": "code",
      "execution_count": 17,
      "metadata": {
        "colab": {
          "base_uri": "https://localhost:8080/"
        },
        "id": "EtppNf6vzbQH",
        "outputId": "3c1de46a-02d7-4b4b-d1eb-1e8821a01cc8"
      },
      "outputs": [
        {
          "data": {
            "text/plain": [
              "4579"
            ]
          },
          "execution_count": 17,
          "metadata": {},
          "output_type": "execute_result"
        }
      ],
      "source": [
        "data['title'].nunique()"
      ]
    },
    {
      "cell_type": "code",
      "execution_count": 18,
      "metadata": {
        "id": "11Rzouey02Nm"
      },
      "outputs": [],
      "source": [
        "main_df = data.drop_duplicates(subset=['title'], keep='first')"
      ]
    },
    {
      "cell_type": "code",
      "execution_count": 19,
      "metadata": {
        "colab": {
          "base_uri": "https://localhost:8080/"
        },
        "id": "thMGCiql09gW",
        "outputId": "d9c2083b-7ace-4229-b27f-62372204f954"
      },
      "outputs": [
        {
          "data": {
            "text/plain": [
              "men      4014\n",
              "both       36\n",
              "women       2\n",
              "Name: gender, dtype: int64"
            ]
          },
          "execution_count": 19,
          "metadata": {},
          "output_type": "execute_result"
        }
      ],
      "source": [
        "main_df['gender'].value_counts()"
      ]
    },
    {
      "cell_type": "markdown",
      "metadata": {
        "id": "la7in4AVUDcg"
      },
      "source": [
        "We use a combination of matching procedures to identify the gender (if any) assosciated with the product,\n",
        "\n"
      ]
    },
    {
      "cell_type": "code",
      "execution_count": 20,
      "metadata": {
        "id": "Niup4-nX1J4q"
      },
      "outputs": [],
      "source": [
        "testing = main_df.loc[~main_df['gender'].isin(['men', 'both', 'women'])]"
      ]
    },
    {
      "cell_type": "code",
      "execution_count": 21,
      "metadata": {
        "id": "VSuX98eC24Aw"
      },
      "outputs": [],
      "source": [
        "def something_doing(some_text):\n",
        "  some_text = str(some_text)\n",
        "  some_text = some_text.lower()\n",
        "  \n",
        "  if('women') in some_text or ('woman') in some_text:\n",
        "    return 'women'\n",
        "  elif('men') in some_text or ('man') in some_text:\n",
        "    return 'men'\n",
        "  return None"
      ]
    },
    {
      "cell_type": "code",
      "execution_count": 22,
      "metadata": {
        "colab": {
          "base_uri": "https://localhost:8080/"
        },
        "id": "_tzFKFmy1qP4",
        "outputId": "51747573-9532-4d70-9554-03a43b4eab85"
      },
      "outputs": [
        {
          "name": "stderr",
          "output_type": "stream",
          "text": [
            "/usr/local/lib/python3.7/dist-packages/ipykernel_launcher.py:1: SettingWithCopyWarning: \n",
            "A value is trying to be set on a copy of a slice from a DataFrame.\n",
            "Try using .loc[row_indexer,col_indexer] = value instead\n",
            "\n",
            "See the caveats in the documentation: https://pandas.pydata.org/pandas-docs/stable/user_guide/indexing.html#returning-a-view-versus-a-copy\n",
            "  \"\"\"Entry point for launching an IPython kernel.\n"
          ]
        }
      ],
      "source": [
        "testing['gender'] = testing['product_details'].apply(something_doing)"
      ]
    },
    {
      "cell_type": "code",
      "execution_count": 23,
      "metadata": {
        "id": "X-Dy7YGm3XqZ"
      },
      "outputs": [],
      "source": [
        "final_testing = testing.loc[~testing['gender'].isin(['men', 'both', 'women'])]"
      ]
    },
    {
      "cell_type": "code",
      "execution_count": 24,
      "metadata": {
        "colab": {
          "base_uri": "https://localhost:8080/"
        },
        "id": "iRyz_VJr4DXy",
        "outputId": "836627c3-caf8-434c-c8ed-ab67ae321297"
      },
      "outputs": [
        {
          "name": "stderr",
          "output_type": "stream",
          "text": [
            "/usr/local/lib/python3.7/dist-packages/ipykernel_launcher.py:1: SettingWithCopyWarning: \n",
            "A value is trying to be set on a copy of a slice from a DataFrame.\n",
            "Try using .loc[row_indexer,col_indexer] = value instead\n",
            "\n",
            "See the caveats in the documentation: https://pandas.pydata.org/pandas-docs/stable/user_guide/indexing.html#returning-a-view-versus-a-copy\n",
            "  \"\"\"Entry point for launching an IPython kernel.\n"
          ]
        }
      ],
      "source": [
        "final_testing['gender'] = final_testing['description'].apply(something_doing)"
      ]
    },
    {
      "cell_type": "code",
      "execution_count": 25,
      "metadata": {
        "colab": {
          "base_uri": "https://localhost:8080/"
        },
        "id": "ovVyR76Z4IfY",
        "outputId": "c614e573-b98c-4553-9b96-5b970c08e323"
      },
      "outputs": [
        {
          "data": {
            "text/plain": [
              "men      34\n",
              "women     3\n",
              "Name: gender, dtype: int64"
            ]
          },
          "execution_count": 25,
          "metadata": {},
          "output_type": "execute_result"
        }
      ],
      "source": [
        "final_testing.gender.value_counts()"
      ]
    },
    {
      "cell_type": "code",
      "execution_count": 26,
      "metadata": {
        "colab": {
          "base_uri": "https://localhost:8080/",
          "height": 974
        },
        "id": "LiMVnJU34Mhb",
        "outputId": "237d66e6-7670-4576-b173-cdf03b91a745"
      },
      "outputs": [
        {
          "data": {
            "text/html": [
              "\n",
              "  <div id=\"df-e497d925-046c-477a-9529-6baa2a17a28c\">\n",
              "    <div class=\"colab-df-container\">\n",
              "      <div>\n",
              "<style scoped>\n",
              "    .dataframe tbody tr th:only-of-type {\n",
              "        vertical-align: middle;\n",
              "    }\n",
              "\n",
              "    .dataframe tbody tr th {\n",
              "        vertical-align: top;\n",
              "    }\n",
              "\n",
              "    .dataframe thead th {\n",
              "        text-align: right;\n",
              "    }\n",
              "</style>\n",
              "<table border=\"1\" class=\"dataframe\">\n",
              "  <thead>\n",
              "    <tr style=\"text-align: right;\">\n",
              "      <th></th>\n",
              "      <th>_id</th>\n",
              "      <th>actual_price</th>\n",
              "      <th>average_rating</th>\n",
              "      <th>brand</th>\n",
              "      <th>category</th>\n",
              "      <th>crawled_at</th>\n",
              "      <th>description</th>\n",
              "      <th>discount</th>\n",
              "      <th>images</th>\n",
              "      <th>out_of_stock</th>\n",
              "      <th>pid</th>\n",
              "      <th>product_details</th>\n",
              "      <th>seller</th>\n",
              "      <th>selling_price</th>\n",
              "      <th>sub_category</th>\n",
              "      <th>title</th>\n",
              "      <th>url</th>\n",
              "      <th>gender</th>\n",
              "    </tr>\n",
              "  </thead>\n",
              "  <tbody>\n",
              "    <tr>\n",
              "      <th>1965</th>\n",
              "      <td>fd644360-e033-520d-bd8f-b52fa624b221</td>\n",
              "      <td>799</td>\n",
              "      <td>3.8</td>\n",
              "      <td>REEB</td>\n",
              "      <td>Clothing and Accessories</td>\n",
              "      <td>2021-02-10 20:31:11</td>\n",
              "      <td>Best for everyday wear Adjustable buckle closu...</td>\n",
              "      <td>9% off</td>\n",
              "      <td>[https://rukminim1.flixcart.com/image/128/128/...</td>\n",
              "      <td>True</td>\n",
              "      <td>CAPFHV4ACHNHAMDV</td>\n",
              "      <td>[{'Fabric': '65% PES /35% CO-TWILL'}, {'Color'...</td>\n",
              "      <td></td>\n",
              "      <td>720</td>\n",
              "      <td>Clothing Accessories</td>\n",
              "      <td>Active Foundation Logo Cap (Pack of 1, White) Cap</td>\n",
              "      <td>https://www.flipkart.com/reebok-active-foundat...</td>\n",
              "      <td>None</td>\n",
              "    </tr>\n",
              "    <tr>\n",
              "      <th>2651</th>\n",
              "      <td>63709bd3-b174-591a-9562-4e53ef006d40</td>\n",
              "      <td>999</td>\n",
              "      <td>4.1</td>\n",
              "      <td></td>\n",
              "      <td>Clothing and Accessories</td>\n",
              "      <td>2021-02-10 20:38:06</td>\n",
              "      <td></td>\n",
              "      <td>50% off</td>\n",
              "      <td>[]</td>\n",
              "      <td>False</td>\n",
              "      <td>CTPEFU9GRPG6AXY8</td>\n",
              "      <td>[{'Model Name': 'Golden Collar Bar With Remova...</td>\n",
              "      <td>TRIPIN</td>\n",
              "      <td>499</td>\n",
              "      <td>Clothing Accessories</td>\n",
              "      <td>Tripin Brass Tie Pin  (Gold)</td>\n",
              "      <td>https://www.flipkart.com/tripin-brass-tie-pin/...</td>\n",
              "      <td>None</td>\n",
              "    </tr>\n",
              "    <tr>\n",
              "      <th>2671</th>\n",
              "      <td>f16e6d1f-d9f6-50fc-a93e-0668081c0722</td>\n",
              "      <td>999</td>\n",
              "      <td>4.5</td>\n",
              "      <td></td>\n",
              "      <td>Clothing and Accessories</td>\n",
              "      <td>2021-02-10 20:38:16</td>\n",
              "      <td>Classic Black And Silver Cufflinks Makes Your ...</td>\n",
              "      <td>50% off</td>\n",
              "      <td>[]</td>\n",
              "      <td>False</td>\n",
              "      <td>CTPEFDVVRXGJDU6H</td>\n",
              "      <td>[{'Model Name': '83'}, {'Style Code': 'TNAPZSI...</td>\n",
              "      <td>TRIPIN</td>\n",
              "      <td>499</td>\n",
              "      <td>Clothing Accessories</td>\n",
              "      <td>Tripin Brass Cufflink  (Silver, Black)</td>\n",
              "      <td>https://www.flipkart.com/tripin-brass-cufflink...</td>\n",
              "      <td>None</td>\n",
              "    </tr>\n",
              "    <tr>\n",
              "      <th>2679</th>\n",
              "      <td>56f68a2b-20bc-5117-b938-5f5cca258de7</td>\n",
              "      <td>999</td>\n",
              "      <td></td>\n",
              "      <td></td>\n",
              "      <td>Clothing and Accessories</td>\n",
              "      <td>2021-02-10 20:38:20</td>\n",
              "      <td>Classic Brown Colour Cufflinks</td>\n",
              "      <td>69% off</td>\n",
              "      <td>[]</td>\n",
              "      <td>True</td>\n",
              "      <td>CTPEYQGRQRM2UJGZ</td>\n",
              "      <td>[{'Model Name': 'Classic'}, {'Style Code': 'TS...</td>\n",
              "      <td></td>\n",
              "      <td>300</td>\n",
              "      <td>Clothing Accessories</td>\n",
              "      <td>Tripin Brass Cufflink  (Brown)</td>\n",
              "      <td>https://www.flipkart.com/tripin-brass-cufflink...</td>\n",
              "      <td>None</td>\n",
              "    </tr>\n",
              "    <tr>\n",
              "      <th>2691</th>\n",
              "      <td>7c938773-894b-5507-9f1a-799c357043c7</td>\n",
              "      <td>999</td>\n",
              "      <td></td>\n",
              "      <td></td>\n",
              "      <td>Clothing and Accessories</td>\n",
              "      <td>2021-02-10 20:38:25</td>\n",
              "      <td>Classic Grey Colour Cufflinks</td>\n",
              "      <td>70% off</td>\n",
              "      <td>[]</td>\n",
              "      <td>True</td>\n",
              "      <td>CTPEYQGRVY95ERXZ</td>\n",
              "      <td>[{'Model Name': 'Classic'}, {'Style Code': 'TS...</td>\n",
              "      <td></td>\n",
              "      <td>299</td>\n",
              "      <td>Clothing Accessories</td>\n",
              "      <td>Tripin Brass Cufflink  (Grey)</td>\n",
              "      <td>https://www.flipkart.com/tripin-brass-cufflink...</td>\n",
              "      <td>None</td>\n",
              "    </tr>\n",
              "    <tr>\n",
              "      <th>...</th>\n",
              "      <td>...</td>\n",
              "      <td>...</td>\n",
              "      <td>...</td>\n",
              "      <td>...</td>\n",
              "      <td>...</td>\n",
              "      <td>...</td>\n",
              "      <td>...</td>\n",
              "      <td>...</td>\n",
              "      <td>...</td>\n",
              "      <td>...</td>\n",
              "      <td>...</td>\n",
              "      <td>...</td>\n",
              "      <td>...</td>\n",
              "      <td>...</td>\n",
              "      <td>...</td>\n",
              "      <td>...</td>\n",
              "      <td>...</td>\n",
              "      <td>...</td>\n",
              "    </tr>\n",
              "    <tr>\n",
              "      <th>28133</th>\n",
              "      <td>c8dbcf42-43e1-5dfa-b2bd-9b56c0f30549</td>\n",
              "      <td>999</td>\n",
              "      <td></td>\n",
              "      <td>TakeInCa</td>\n",
              "      <td>Clothing and Accessories</td>\n",
              "      <td>2021-02-11 01:13:37</td>\n",
              "      <td></td>\n",
              "      <td>50% off</td>\n",
              "      <td>[]</td>\n",
              "      <td>False</td>\n",
              "      <td>CAPEGX3EEBSDGBZ6</td>\n",
              "      <td>[{'Fabric': 'Denim'}, {'Color': 'Blue'}, {'Sty...</td>\n",
              "      <td>TakeIncart(Not Enough Ratin</td>\n",
              "      <td>499</td>\n",
              "      <td>Clothing Accessories</td>\n",
              "      <td>Knitted Cap</td>\n",
              "      <td>https://www.flipkart.com/takeincart-knitted-ca...</td>\n",
              "      <td>None</td>\n",
              "    </tr>\n",
              "    <tr>\n",
              "      <th>28139</th>\n",
              "      <td>a4db4f9e-2248-5a20-92d1-317dc9307c53</td>\n",
              "      <td>1,200</td>\n",
              "      <td></td>\n",
              "      <td>TakeInCa</td>\n",
              "      <td>Clothing and Accessories</td>\n",
              "      <td>2021-02-11 01:13:40</td>\n",
              "      <td></td>\n",
              "      <td>58% off</td>\n",
              "      <td>[https://rukminim1.flixcart.com/image/128/128/...</td>\n",
              "      <td>False</td>\n",
              "      <td>CAPEJGQFMJESQUQF</td>\n",
              "      <td>[{'Fabric': 'Wool Blend'}, {'Color': 'Red'}, {...</td>\n",
              "      <td>TakeIncart(Not Enough Ratin</td>\n",
              "      <td>499</td>\n",
              "      <td>Clothing Accessories</td>\n",
              "      <td>Woollen Cap</td>\n",
              "      <td>https://www.flipkart.com/takeincart-woollen-ca...</td>\n",
              "      <td>None</td>\n",
              "    </tr>\n",
              "    <tr>\n",
              "      <th>28144</th>\n",
              "      <td>ffac5a5b-a8ee-5145-944d-078ffc28dd8b</td>\n",
              "      <td>1,200</td>\n",
              "      <td></td>\n",
              "      <td>TakeInCa</td>\n",
              "      <td>Clothing and Accessories</td>\n",
              "      <td>2021-02-11 01:13:42</td>\n",
              "      <td>Takeincart NY Red Beanie Solid 1 Snapback Cap</td>\n",
              "      <td>66% off</td>\n",
              "      <td>[https://rukminim1.flixcart.com/image/128/128/...</td>\n",
              "      <td>False</td>\n",
              "      <td>CAPECM8SWFAMMZ5K</td>\n",
              "      <td>[{'Fabric': 'Polycotton'}, {'Color': 'Red'}, {...</td>\n",
              "      <td>TakeIncart(Not Enough Ratin</td>\n",
              "      <td>399</td>\n",
              "      <td>Clothing Accessories</td>\n",
              "      <td>Solid NY Red Beanie Cap</td>\n",
              "      <td>https://www.flipkart.com/takeincart-solid-ny-r...</td>\n",
              "      <td>None</td>\n",
              "    </tr>\n",
              "    <tr>\n",
              "      <th>28150</th>\n",
              "      <td>66de12e7-c5bb-5ecb-8e2e-5d534e5431c7</td>\n",
              "      <td>1,000</td>\n",
              "      <td></td>\n",
              "      <td>TakeInCa</td>\n",
              "      <td>Clothing and Accessories</td>\n",
              "      <td>2021-02-11 01:13:46</td>\n",
              "      <td>TakeInCart provides you best quality products....</td>\n",
              "      <td>65% off</td>\n",
              "      <td>[https://rukminim1.flixcart.com/image/128/128/...</td>\n",
              "      <td>False</td>\n",
              "      <td>CAPE3MVWGTGMCXEP</td>\n",
              "      <td>[{'Fabric': 'Pure Wool'}, {'Color': 'Red, Blue...</td>\n",
              "      <td>TakeIncart(Not Enough Ratin</td>\n",
              "      <td>349</td>\n",
              "      <td>Clothing Accessories</td>\n",
              "      <td>Printed Woolen Cap</td>\n",
              "      <td>https://www.flipkart.com/takeincart-printed-wo...</td>\n",
              "      <td>None</td>\n",
              "    </tr>\n",
              "    <tr>\n",
              "      <th>29577</th>\n",
              "      <td>1234d6c7-c2d0-5fe4-8b21-9004c864e4b6</td>\n",
              "      <td>599</td>\n",
              "      <td>1.3</td>\n",
              "      <td>K J TRADE</td>\n",
              "      <td>Clothing and Accessories</td>\n",
              "      <td>2021-02-11 01:28:18</td>\n",
              "      <td></td>\n",
              "      <td>75% off</td>\n",
              "      <td>[]</td>\n",
              "      <td>False</td>\n",
              "      <td>CAPFHJQ65YG6TBYV</td>\n",
              "      <td>[{'Fabric': 'cotton'}, {'Color': 'White'}, {'P...</td>\n",
              "      <td>K J TRADERS</td>\n",
              "      <td>149</td>\n",
              "      <td>Clothing Accessories</td>\n",
              "      <td>Solid muslim cap cotton Cap</td>\n",
              "      <td>https://www.flipkart.com/k-j-traders-solid-mus...</td>\n",
              "      <td>None</td>\n",
              "    </tr>\n",
              "  </tbody>\n",
              "</table>\n",
              "<p>99 rows × 18 columns</p>\n",
              "</div>\n",
              "      <button class=\"colab-df-convert\" onclick=\"convertToInteractive('df-e497d925-046c-477a-9529-6baa2a17a28c')\"\n",
              "              title=\"Convert this dataframe to an interactive table.\"\n",
              "              style=\"display:none;\">\n",
              "        \n",
              "  <svg xmlns=\"http://www.w3.org/2000/svg\" height=\"24px\"viewBox=\"0 0 24 24\"\n",
              "       width=\"24px\">\n",
              "    <path d=\"M0 0h24v24H0V0z\" fill=\"none\"/>\n",
              "    <path d=\"M18.56 5.44l.94 2.06.94-2.06 2.06-.94-2.06-.94-.94-2.06-.94 2.06-2.06.94zm-11 1L8.5 8.5l.94-2.06 2.06-.94-2.06-.94L8.5 2.5l-.94 2.06-2.06.94zm10 10l.94 2.06.94-2.06 2.06-.94-2.06-.94-.94-2.06-.94 2.06-2.06.94z\"/><path d=\"M17.41 7.96l-1.37-1.37c-.4-.4-.92-.59-1.43-.59-.52 0-1.04.2-1.43.59L10.3 9.45l-7.72 7.72c-.78.78-.78 2.05 0 2.83L4 21.41c.39.39.9.59 1.41.59.51 0 1.02-.2 1.41-.59l7.78-7.78 2.81-2.81c.8-.78.8-2.07 0-2.86zM5.41 20L4 18.59l7.72-7.72 1.47 1.35L5.41 20z\"/>\n",
              "  </svg>\n",
              "      </button>\n",
              "      \n",
              "  <style>\n",
              "    .colab-df-container {\n",
              "      display:flex;\n",
              "      flex-wrap:wrap;\n",
              "      gap: 12px;\n",
              "    }\n",
              "\n",
              "    .colab-df-convert {\n",
              "      background-color: #E8F0FE;\n",
              "      border: none;\n",
              "      border-radius: 50%;\n",
              "      cursor: pointer;\n",
              "      display: none;\n",
              "      fill: #1967D2;\n",
              "      height: 32px;\n",
              "      padding: 0 0 0 0;\n",
              "      width: 32px;\n",
              "    }\n",
              "\n",
              "    .colab-df-convert:hover {\n",
              "      background-color: #E2EBFA;\n",
              "      box-shadow: 0px 1px 2px rgba(60, 64, 67, 0.3), 0px 1px 3px 1px rgba(60, 64, 67, 0.15);\n",
              "      fill: #174EA6;\n",
              "    }\n",
              "\n",
              "    [theme=dark] .colab-df-convert {\n",
              "      background-color: #3B4455;\n",
              "      fill: #D2E3FC;\n",
              "    }\n",
              "\n",
              "    [theme=dark] .colab-df-convert:hover {\n",
              "      background-color: #434B5C;\n",
              "      box-shadow: 0px 1px 3px 1px rgba(0, 0, 0, 0.15);\n",
              "      filter: drop-shadow(0px 1px 2px rgba(0, 0, 0, 0.3));\n",
              "      fill: #FFFFFF;\n",
              "    }\n",
              "  </style>\n",
              "\n",
              "      <script>\n",
              "        const buttonEl =\n",
              "          document.querySelector('#df-e497d925-046c-477a-9529-6baa2a17a28c button.colab-df-convert');\n",
              "        buttonEl.style.display =\n",
              "          google.colab.kernel.accessAllowed ? 'block' : 'none';\n",
              "\n",
              "        async function convertToInteractive(key) {\n",
              "          const element = document.querySelector('#df-e497d925-046c-477a-9529-6baa2a17a28c');\n",
              "          const dataTable =\n",
              "            await google.colab.kernel.invokeFunction('convertToInteractive',\n",
              "                                                     [key], {});\n",
              "          if (!dataTable) return;\n",
              "\n",
              "          const docLinkHtml = 'Like what you see? Visit the ' +\n",
              "            '<a target=\"_blank\" href=https://colab.research.google.com/notebooks/data_table.ipynb>data table notebook</a>'\n",
              "            + ' to learn more about interactive tables.';\n",
              "          element.innerHTML = '';\n",
              "          dataTable['output_type'] = 'display_data';\n",
              "          await google.colab.output.renderOutput(dataTable, element);\n",
              "          const docLink = document.createElement('div');\n",
              "          docLink.innerHTML = docLinkHtml;\n",
              "          element.appendChild(docLink);\n",
              "        }\n",
              "      </script>\n",
              "    </div>\n",
              "  </div>\n",
              "  "
            ],
            "text/plain": [
              "                                        _id actual_price average_rating  \\\n",
              "1965   fd644360-e033-520d-bd8f-b52fa624b221          799            3.8   \n",
              "2651   63709bd3-b174-591a-9562-4e53ef006d40          999            4.1   \n",
              "2671   f16e6d1f-d9f6-50fc-a93e-0668081c0722          999            4.5   \n",
              "2679   56f68a2b-20bc-5117-b938-5f5cca258de7          999                  \n",
              "2691   7c938773-894b-5507-9f1a-799c357043c7          999                  \n",
              "...                                     ...          ...            ...   \n",
              "28133  c8dbcf42-43e1-5dfa-b2bd-9b56c0f30549          999                  \n",
              "28139  a4db4f9e-2248-5a20-92d1-317dc9307c53        1,200                  \n",
              "28144  ffac5a5b-a8ee-5145-944d-078ffc28dd8b        1,200                  \n",
              "28150  66de12e7-c5bb-5ecb-8e2e-5d534e5431c7        1,000                  \n",
              "29577  1234d6c7-c2d0-5fe4-8b21-9004c864e4b6          599            1.3   \n",
              "\n",
              "           brand                  category          crawled_at  \\\n",
              "1965        REEB  Clothing and Accessories 2021-02-10 20:31:11   \n",
              "2651              Clothing and Accessories 2021-02-10 20:38:06   \n",
              "2671              Clothing and Accessories 2021-02-10 20:38:16   \n",
              "2679              Clothing and Accessories 2021-02-10 20:38:20   \n",
              "2691              Clothing and Accessories 2021-02-10 20:38:25   \n",
              "...          ...                       ...                 ...   \n",
              "28133   TakeInCa  Clothing and Accessories 2021-02-11 01:13:37   \n",
              "28139   TakeInCa  Clothing and Accessories 2021-02-11 01:13:40   \n",
              "28144   TakeInCa  Clothing and Accessories 2021-02-11 01:13:42   \n",
              "28150   TakeInCa  Clothing and Accessories 2021-02-11 01:13:46   \n",
              "29577  K J TRADE  Clothing and Accessories 2021-02-11 01:28:18   \n",
              "\n",
              "                                             description discount  \\\n",
              "1965   Best for everyday wear Adjustable buckle closu...   9% off   \n",
              "2651                                                      50% off   \n",
              "2671   Classic Black And Silver Cufflinks Makes Your ...  50% off   \n",
              "2679                      Classic Brown Colour Cufflinks  69% off   \n",
              "2691                       Classic Grey Colour Cufflinks  70% off   \n",
              "...                                                  ...      ...   \n",
              "28133                                                     50% off   \n",
              "28139                                                     58% off   \n",
              "28144      Takeincart NY Red Beanie Solid 1 Snapback Cap  66% off   \n",
              "28150  TakeInCart provides you best quality products....  65% off   \n",
              "29577                                                     75% off   \n",
              "\n",
              "                                                  images  out_of_stock  \\\n",
              "1965   [https://rukminim1.flixcart.com/image/128/128/...          True   \n",
              "2651                                                  []         False   \n",
              "2671                                                  []         False   \n",
              "2679                                                  []          True   \n",
              "2691                                                  []          True   \n",
              "...                                                  ...           ...   \n",
              "28133                                                 []         False   \n",
              "28139  [https://rukminim1.flixcart.com/image/128/128/...         False   \n",
              "28144  [https://rukminim1.flixcart.com/image/128/128/...         False   \n",
              "28150  [https://rukminim1.flixcart.com/image/128/128/...         False   \n",
              "29577                                                 []         False   \n",
              "\n",
              "                    pid                                    product_details  \\\n",
              "1965   CAPFHV4ACHNHAMDV  [{'Fabric': '65% PES /35% CO-TWILL'}, {'Color'...   \n",
              "2651   CTPEFU9GRPG6AXY8  [{'Model Name': 'Golden Collar Bar With Remova...   \n",
              "2671   CTPEFDVVRXGJDU6H  [{'Model Name': '83'}, {'Style Code': 'TNAPZSI...   \n",
              "2679   CTPEYQGRQRM2UJGZ  [{'Model Name': 'Classic'}, {'Style Code': 'TS...   \n",
              "2691   CTPEYQGRVY95ERXZ  [{'Model Name': 'Classic'}, {'Style Code': 'TS...   \n",
              "...                 ...                                                ...   \n",
              "28133  CAPEGX3EEBSDGBZ6  [{'Fabric': 'Denim'}, {'Color': 'Blue'}, {'Sty...   \n",
              "28139  CAPEJGQFMJESQUQF  [{'Fabric': 'Wool Blend'}, {'Color': 'Red'}, {...   \n",
              "28144  CAPECM8SWFAMMZ5K  [{'Fabric': 'Polycotton'}, {'Color': 'Red'}, {...   \n",
              "28150  CAPE3MVWGTGMCXEP  [{'Fabric': 'Pure Wool'}, {'Color': 'Red, Blue...   \n",
              "29577  CAPFHJQ65YG6TBYV  [{'Fabric': 'cotton'}, {'Color': 'White'}, {'P...   \n",
              "\n",
              "                            seller selling_price          sub_category  \\\n",
              "1965                                         720  Clothing Accessories   \n",
              "2651                        TRIPIN           499  Clothing Accessories   \n",
              "2671                        TRIPIN           499  Clothing Accessories   \n",
              "2679                                         300  Clothing Accessories   \n",
              "2691                                         299  Clothing Accessories   \n",
              "...                            ...           ...                   ...   \n",
              "28133  TakeIncart(Not Enough Ratin           499  Clothing Accessories   \n",
              "28139  TakeIncart(Not Enough Ratin           499  Clothing Accessories   \n",
              "28144  TakeIncart(Not Enough Ratin           399  Clothing Accessories   \n",
              "28150  TakeIncart(Not Enough Ratin           349  Clothing Accessories   \n",
              "29577                  K J TRADERS           149  Clothing Accessories   \n",
              "\n",
              "                                                   title  \\\n",
              "1965   Active Foundation Logo Cap (Pack of 1, White) Cap   \n",
              "2651                        Tripin Brass Tie Pin  (Gold)   \n",
              "2671              Tripin Brass Cufflink  (Silver, Black)   \n",
              "2679                      Tripin Brass Cufflink  (Brown)   \n",
              "2691                       Tripin Brass Cufflink  (Grey)   \n",
              "...                                                  ...   \n",
              "28133                                        Knitted Cap   \n",
              "28139                                        Woollen Cap   \n",
              "28144                            Solid NY Red Beanie Cap   \n",
              "28150                                 Printed Woolen Cap   \n",
              "29577                        Solid muslim cap cotton Cap   \n",
              "\n",
              "                                                     url gender  \n",
              "1965   https://www.flipkart.com/reebok-active-foundat...   None  \n",
              "2651   https://www.flipkart.com/tripin-brass-tie-pin/...   None  \n",
              "2671   https://www.flipkart.com/tripin-brass-cufflink...   None  \n",
              "2679   https://www.flipkart.com/tripin-brass-cufflink...   None  \n",
              "2691   https://www.flipkart.com/tripin-brass-cufflink...   None  \n",
              "...                                                  ...    ...  \n",
              "28133  https://www.flipkart.com/takeincart-knitted-ca...   None  \n",
              "28139  https://www.flipkart.com/takeincart-woollen-ca...   None  \n",
              "28144  https://www.flipkart.com/takeincart-solid-ny-r...   None  \n",
              "28150  https://www.flipkart.com/takeincart-printed-wo...   None  \n",
              "29577  https://www.flipkart.com/k-j-traders-solid-mus...   None  \n",
              "\n",
              "[99 rows x 18 columns]"
            ]
          },
          "execution_count": 26,
          "metadata": {},
          "output_type": "execute_result"
        }
      ],
      "source": [
        "final_testing.loc[~final_testing['gender'].isin(['men', 'both', 'women'])]"
      ]
    },
    {
      "cell_type": "code",
      "execution_count": 27,
      "metadata": {
        "id": "1vtpxDaY4hue"
      },
      "outputs": [],
      "source": [
        "final_testing = final_testing.dropna(axis=0, subset=['gender'])"
      ]
    },
    {
      "cell_type": "code",
      "execution_count": 28,
      "metadata": {
        "colab": {
          "base_uri": "https://localhost:8080/"
        },
        "id": "8XY9PgMY3fz_",
        "outputId": "503383bc-7935-43c0-84d8-b80b48faa3f1"
      },
      "outputs": [
        {
          "data": {
            "text/plain": [
              "(37, 18)"
            ]
          },
          "execution_count": 28,
          "metadata": {},
          "output_type": "execute_result"
        }
      ],
      "source": [
        "final_testing.shape"
      ]
    },
    {
      "cell_type": "code",
      "execution_count": 29,
      "metadata": {
        "id": "dij-3YLf4mf8"
      },
      "outputs": [],
      "source": [
        "testing = testing.dropna(axis=0, subset=['gender'])"
      ]
    },
    {
      "cell_type": "code",
      "execution_count": 30,
      "metadata": {
        "colab": {
          "base_uri": "https://localhost:8080/"
        },
        "id": "O_NadKMy4piJ",
        "outputId": "05e801d5-35d3-45e2-c93b-728da87a881c"
      },
      "outputs": [
        {
          "data": {
            "text/plain": [
              "(391, 18)"
            ]
          },
          "execution_count": 30,
          "metadata": {},
          "output_type": "execute_result"
        }
      ],
      "source": [
        "testing.shape"
      ]
    },
    {
      "cell_type": "code",
      "execution_count": 31,
      "metadata": {
        "id": "18yIgwZC4rkz"
      },
      "outputs": [],
      "source": [
        "main_df = main_df.dropna(axis=0, subset=['gender'])"
      ]
    },
    {
      "cell_type": "code",
      "execution_count": 32,
      "metadata": {
        "colab": {
          "base_uri": "https://localhost:8080/"
        },
        "id": "adPPfBj94xsN",
        "outputId": "bbbf376f-08f8-4a18-fa41-3986897fc547"
      },
      "outputs": [
        {
          "data": {
            "text/plain": [
              "(4052, 18)"
            ]
          },
          "execution_count": 32,
          "metadata": {},
          "output_type": "execute_result"
        }
      ],
      "source": [
        "main_df.shape"
      ]
    },
    {
      "cell_type": "markdown",
      "metadata": {
        "id": "vb2tdiR441sB"
      },
      "source": [
        "So, we have filtered out 1 dataset with the genders. We combine them now,"
      ]
    },
    {
      "cell_type": "code",
      "execution_count": 33,
      "metadata": {
        "id": "pLK6stf75YMv"
      },
      "outputs": [],
      "source": [
        "dfs = [main_df, testing, final_testing]"
      ]
    },
    {
      "cell_type": "code",
      "execution_count": 34,
      "metadata": {
        "id": "6Ahiqzz55cY9"
      },
      "outputs": [],
      "source": [
        "merged1 = pd.concat(dfs)"
      ]
    },
    {
      "cell_type": "code",
      "execution_count": 35,
      "metadata": {
        "id": "iMpMQlWm5j6_"
      },
      "outputs": [],
      "source": [
        "merged1.reset_index(inplace=True)"
      ]
    },
    {
      "cell_type": "code",
      "execution_count": 36,
      "metadata": {
        "colab": {
          "base_uri": "https://localhost:8080/"
        },
        "id": "oYKm_m_Z50C2",
        "outputId": "49ce7948-96c2-45c6-d022-4a568cbcdb4f"
      },
      "outputs": [
        {
          "data": {
            "text/plain": [
              "(4480, 19)"
            ]
          },
          "execution_count": 36,
          "metadata": {},
          "output_type": "execute_result"
        }
      ],
      "source": [
        "merged1.shape"
      ]
    },
    {
      "cell_type": "markdown",
      "metadata": {
        "id": "wxcxwAl452J_"
      },
      "source": [
        "Now we try to filter the 2nd dataset (only the free (20,000 entries) part was available),"
      ]
    },
    {
      "cell_type": "code",
      "execution_count": 37,
      "metadata": {
        "colab": {
          "base_uri": "https://localhost:8080/"
        },
        "id": "e9hU7k7bziFe",
        "outputId": "f7be97ea-a606-4bea-912b-6cd7a5ce2223"
      },
      "outputs": [
        {
          "data": {
            "text/plain": [
              "12676"
            ]
          },
          "execution_count": 37,
          "metadata": {},
          "output_type": "execute_result"
        }
      ],
      "source": [
        "subdata['product_name'].nunique()"
      ]
    },
    {
      "cell_type": "code",
      "execution_count": 38,
      "metadata": {
        "id": "HZV2M3kF6E-1"
      },
      "outputs": [],
      "source": [
        "main_df = subdata.drop_duplicates(subset=['product_name'], keep='first')"
      ]
    },
    {
      "cell_type": "code",
      "execution_count": 39,
      "metadata": {
        "colab": {
          "base_uri": "https://localhost:8080/"
        },
        "id": "I8IqGlgx6SY5",
        "outputId": "805db103-9a2e-44e0-9ad6-44d5996b77ec"
      },
      "outputs": [
        {
          "data": {
            "text/plain": [
              "women    4325\n",
              "men      1920\n",
              "Name: gender, dtype: int64"
            ]
          },
          "execution_count": 39,
          "metadata": {},
          "output_type": "execute_result"
        }
      ],
      "source": [
        "main_df['gender'].value_counts()"
      ]
    },
    {
      "cell_type": "markdown",
      "metadata": {
        "id": "ZcyU7N6KUqEN"
      },
      "source": [
        "We use a combination of matching procedures to identify the gender (if any) assosciated with the product,\n",
        "\n"
      ]
    },
    {
      "cell_type": "code",
      "execution_count": 40,
      "metadata": {
        "id": "EHRrHmOc6SY6"
      },
      "outputs": [],
      "source": [
        "testing = main_df.loc[~main_df['gender'].isin(['men', 'both', 'women'])]"
      ]
    },
    {
      "cell_type": "code",
      "execution_count": 41,
      "metadata": {
        "id": "meFWd_Si6dND"
      },
      "outputs": [],
      "source": [
        "def something_doing(some_text):\n",
        "  some_text = str(some_text)\n",
        "  some_text = some_text.lower()\n",
        "  \n",
        "  if(('-women-') in some_text or ('-woman-') in some_text) and (('-men-') in some_text or ('-man-') in some_text):\n",
        "    return 'both'\n",
        "  elif('-men-') in some_text or ('-man-') in some_text:\n",
        "    return 'men'\n",
        "  elif('-women-') in some_text or ('-woman-') in some_text:\n",
        "    return 'women'\n",
        "  return None"
      ]
    },
    {
      "cell_type": "code",
      "execution_count": 42,
      "metadata": {
        "colab": {
          "base_uri": "https://localhost:8080/",
          "height": 531
        },
        "id": "CCvxolqg6ykc",
        "outputId": "db0a0448-f76d-492e-cfe0-0ee93febd470"
      },
      "outputs": [
        {
          "data": {
            "text/html": [
              "\n",
              "  <div id=\"df-a31cc539-361b-40de-9adc-766aaa6cd022\">\n",
              "    <div class=\"colab-df-container\">\n",
              "      <div>\n",
              "<style scoped>\n",
              "    .dataframe tbody tr th:only-of-type {\n",
              "        vertical-align: middle;\n",
              "    }\n",
              "\n",
              "    .dataframe tbody tr th {\n",
              "        vertical-align: top;\n",
              "    }\n",
              "\n",
              "    .dataframe thead th {\n",
              "        text-align: right;\n",
              "    }\n",
              "</style>\n",
              "<table border=\"1\" class=\"dataframe\">\n",
              "  <thead>\n",
              "    <tr style=\"text-align: right;\">\n",
              "      <th></th>\n",
              "      <th>uniq_id</th>\n",
              "      <th>crawl_timestamp</th>\n",
              "      <th>product_url</th>\n",
              "      <th>product_name</th>\n",
              "      <th>product_category_tree</th>\n",
              "      <th>pid</th>\n",
              "      <th>retail_price</th>\n",
              "      <th>discounted_price</th>\n",
              "      <th>image</th>\n",
              "      <th>is_FK_Advantage_product</th>\n",
              "      <th>description</th>\n",
              "      <th>product_rating</th>\n",
              "      <th>overall_rating</th>\n",
              "      <th>brand</th>\n",
              "      <th>product_specifications</th>\n",
              "      <th>gender</th>\n",
              "    </tr>\n",
              "  </thead>\n",
              "  <tbody>\n",
              "    <tr>\n",
              "      <th>1</th>\n",
              "      <td>7f7036a6d550aaa89d34c77bd39a5e48</td>\n",
              "      <td>2016-03-25 22:59:23 +0000</td>\n",
              "      <td>http://www.flipkart.com/fabhomedecor-fabric-do...</td>\n",
              "      <td>FabHomeDecor Fabric Double Sofa Bed</td>\n",
              "      <td>[\"Furniture &gt;&gt; Living Room Furniture &gt;&gt; Sofa B...</td>\n",
              "      <td>SBEEH3QGU7MFYJFY</td>\n",
              "      <td>32157.0</td>\n",
              "      <td>22646.0</td>\n",
              "      <td>[\"http://img6a.flixcart.com/image/sofa-bed/j/f...</td>\n",
              "      <td>False</td>\n",
              "      <td>FabHomeDecor Fabric Double Sofa Bed (Finish Co...</td>\n",
              "      <td>No rating available</td>\n",
              "      <td>No rating available</td>\n",
              "      <td>FabHomeDecor</td>\n",
              "      <td>{\"product_specification\"=&gt;[{\"key\"=&gt;\"Installati...</td>\n",
              "      <td>None</td>\n",
              "    </tr>\n",
              "    <tr>\n",
              "      <th>4</th>\n",
              "      <td>bc940ea42ee6bef5ac7cea3fb5cfbee7</td>\n",
              "      <td>2016-03-25 22:59:23 +0000</td>\n",
              "      <td>http://www.flipkart.com/sicons-all-purpose-arn...</td>\n",
              "      <td>Sicons All Purpose Arnica Dog Shampoo</td>\n",
              "      <td>[\"Pet Supplies &gt;&gt; Grooming &gt;&gt; Skin &amp; Coat Care...</td>\n",
              "      <td>PSOEH3ZYDMSYARJ5</td>\n",
              "      <td>220.0</td>\n",
              "      <td>210.0</td>\n",
              "      <td>[\"http://img5a.flixcart.com/image/pet-shampoo/...</td>\n",
              "      <td>False</td>\n",
              "      <td>Specifications of Sicons All Purpose Arnica Do...</td>\n",
              "      <td>No rating available</td>\n",
              "      <td>No rating available</td>\n",
              "      <td>Sicons</td>\n",
              "      <td>{\"product_specification\"=&gt;[{\"key\"=&gt;\"Pet Type\",...</td>\n",
              "      <td>None</td>\n",
              "    </tr>\n",
              "    <tr>\n",
              "      <th>5</th>\n",
              "      <td>c2a17313954882c1dba461863e98adf2</td>\n",
              "      <td>2016-03-25 22:59:23 +0000</td>\n",
              "      <td>http://www.flipkart.com/eternal-gandhi-super-s...</td>\n",
              "      <td>Eternal Gandhi Super Series Crystal Paper Weig...</td>\n",
              "      <td>[\"Eternal Gandhi Super Series Crystal Paper We...</td>\n",
              "      <td>PWTEB7H2E4KCYUE3</td>\n",
              "      <td>430.0</td>\n",
              "      <td>430.0</td>\n",
              "      <td>[\"http://img5a.flixcart.com/image/paper-weight...</td>\n",
              "      <td>False</td>\n",
              "      <td>Key Features of Eternal Gandhi Super Series Cr...</td>\n",
              "      <td>No rating available</td>\n",
              "      <td>No rating available</td>\n",
              "      <td>Eternal Gandhi</td>\n",
              "      <td>{\"product_specification\"=&gt;[{\"key\"=&gt;\"Model Name...</td>\n",
              "      <td>None</td>\n",
              "    </tr>\n",
              "    <tr>\n",
              "      <th>12</th>\n",
              "      <td>c29af37837afcaf44b779eca7c19295f</td>\n",
              "      <td>2016-03-25 22:59:23 +0000</td>\n",
              "      <td>http://www.flipkart.com/sicons-all-purpose-tea...</td>\n",
              "      <td>Sicons All Purpose Tea Tree Dog Shampoo</td>\n",
              "      <td>[\"Pet Supplies &gt;&gt; Grooming &gt;&gt; Skin &amp; Coat Care...</td>\n",
              "      <td>PSOEH3ZYYFETGCCD</td>\n",
              "      <td>NaN</td>\n",
              "      <td>NaN</td>\n",
              "      <td>[\"http://img6a.flixcart.com/image/pet-shampoo/...</td>\n",
              "      <td>False</td>\n",
              "      <td>Specifications of Sicons All Purpose Tea Tree ...</td>\n",
              "      <td>No rating available</td>\n",
              "      <td>No rating available</td>\n",
              "      <td>Sicons</td>\n",
              "      <td>{\"product_specification\"=&gt;[{\"key\"=&gt;\"Pet Type\",...</td>\n",
              "      <td>None</td>\n",
              "    </tr>\n",
              "    <tr>\n",
              "      <th>14</th>\n",
              "      <td>83c53f8948f508f51d2249b489ca8e7d</td>\n",
              "      <td>2016-03-25 22:59:23 +0000</td>\n",
              "      <td>http://www.flipkart.com/freelance-vacuum-bottl...</td>\n",
              "      <td>Freelance Vacuum Bottles 350 ml Bottle</td>\n",
              "      <td>[\"Pens &amp; Stationery &gt;&gt; School Supplies &gt;&gt; Wate...</td>\n",
              "      <td>BOTEGYTZ2T6WUJMM</td>\n",
              "      <td>699.0</td>\n",
              "      <td>699.0</td>\n",
              "      <td>[\"http://img5a.flixcart.com/image/bottle/j/m/m...</td>\n",
              "      <td>False</td>\n",
              "      <td>Specifications of Freelance Vacuum Bottles 350...</td>\n",
              "      <td>No rating available</td>\n",
              "      <td>No rating available</td>\n",
              "      <td>Freelance</td>\n",
              "      <td>{\"product_specification\"=&gt;[{\"key\"=&gt;\"Body Mater...</td>\n",
              "      <td>None</td>\n",
              "    </tr>\n",
              "  </tbody>\n",
              "</table>\n",
              "</div>\n",
              "      <button class=\"colab-df-convert\" onclick=\"convertToInteractive('df-a31cc539-361b-40de-9adc-766aaa6cd022')\"\n",
              "              title=\"Convert this dataframe to an interactive table.\"\n",
              "              style=\"display:none;\">\n",
              "        \n",
              "  <svg xmlns=\"http://www.w3.org/2000/svg\" height=\"24px\"viewBox=\"0 0 24 24\"\n",
              "       width=\"24px\">\n",
              "    <path d=\"M0 0h24v24H0V0z\" fill=\"none\"/>\n",
              "    <path d=\"M18.56 5.44l.94 2.06.94-2.06 2.06-.94-2.06-.94-.94-2.06-.94 2.06-2.06.94zm-11 1L8.5 8.5l.94-2.06 2.06-.94-2.06-.94L8.5 2.5l-.94 2.06-2.06.94zm10 10l.94 2.06.94-2.06 2.06-.94-2.06-.94-.94-2.06-.94 2.06-2.06.94z\"/><path d=\"M17.41 7.96l-1.37-1.37c-.4-.4-.92-.59-1.43-.59-.52 0-1.04.2-1.43.59L10.3 9.45l-7.72 7.72c-.78.78-.78 2.05 0 2.83L4 21.41c.39.39.9.59 1.41.59.51 0 1.02-.2 1.41-.59l7.78-7.78 2.81-2.81c.8-.78.8-2.07 0-2.86zM5.41 20L4 18.59l7.72-7.72 1.47 1.35L5.41 20z\"/>\n",
              "  </svg>\n",
              "      </button>\n",
              "      \n",
              "  <style>\n",
              "    .colab-df-container {\n",
              "      display:flex;\n",
              "      flex-wrap:wrap;\n",
              "      gap: 12px;\n",
              "    }\n",
              "\n",
              "    .colab-df-convert {\n",
              "      background-color: #E8F0FE;\n",
              "      border: none;\n",
              "      border-radius: 50%;\n",
              "      cursor: pointer;\n",
              "      display: none;\n",
              "      fill: #1967D2;\n",
              "      height: 32px;\n",
              "      padding: 0 0 0 0;\n",
              "      width: 32px;\n",
              "    }\n",
              "\n",
              "    .colab-df-convert:hover {\n",
              "      background-color: #E2EBFA;\n",
              "      box-shadow: 0px 1px 2px rgba(60, 64, 67, 0.3), 0px 1px 3px 1px rgba(60, 64, 67, 0.15);\n",
              "      fill: #174EA6;\n",
              "    }\n",
              "\n",
              "    [theme=dark] .colab-df-convert {\n",
              "      background-color: #3B4455;\n",
              "      fill: #D2E3FC;\n",
              "    }\n",
              "\n",
              "    [theme=dark] .colab-df-convert:hover {\n",
              "      background-color: #434B5C;\n",
              "      box-shadow: 0px 1px 3px 1px rgba(0, 0, 0, 0.15);\n",
              "      filter: drop-shadow(0px 1px 2px rgba(0, 0, 0, 0.3));\n",
              "      fill: #FFFFFF;\n",
              "    }\n",
              "  </style>\n",
              "\n",
              "      <script>\n",
              "        const buttonEl =\n",
              "          document.querySelector('#df-a31cc539-361b-40de-9adc-766aaa6cd022 button.colab-df-convert');\n",
              "        buttonEl.style.display =\n",
              "          google.colab.kernel.accessAllowed ? 'block' : 'none';\n",
              "\n",
              "        async function convertToInteractive(key) {\n",
              "          const element = document.querySelector('#df-a31cc539-361b-40de-9adc-766aaa6cd022');\n",
              "          const dataTable =\n",
              "            await google.colab.kernel.invokeFunction('convertToInteractive',\n",
              "                                                     [key], {});\n",
              "          if (!dataTable) return;\n",
              "\n",
              "          const docLinkHtml = 'Like what you see? Visit the ' +\n",
              "            '<a target=\"_blank\" href=https://colab.research.google.com/notebooks/data_table.ipynb>data table notebook</a>'\n",
              "            + ' to learn more about interactive tables.';\n",
              "          element.innerHTML = '';\n",
              "          dataTable['output_type'] = 'display_data';\n",
              "          await google.colab.output.renderOutput(dataTable, element);\n",
              "          const docLink = document.createElement('div');\n",
              "          docLink.innerHTML = docLinkHtml;\n",
              "          element.appendChild(docLink);\n",
              "        }\n",
              "      </script>\n",
              "    </div>\n",
              "  </div>\n",
              "  "
            ],
            "text/plain": [
              "                             uniq_id            crawl_timestamp  \\\n",
              "1   7f7036a6d550aaa89d34c77bd39a5e48  2016-03-25 22:59:23 +0000   \n",
              "4   bc940ea42ee6bef5ac7cea3fb5cfbee7  2016-03-25 22:59:23 +0000   \n",
              "5   c2a17313954882c1dba461863e98adf2  2016-03-25 22:59:23 +0000   \n",
              "12  c29af37837afcaf44b779eca7c19295f  2016-03-25 22:59:23 +0000   \n",
              "14  83c53f8948f508f51d2249b489ca8e7d  2016-03-25 22:59:23 +0000   \n",
              "\n",
              "                                          product_url  \\\n",
              "1   http://www.flipkart.com/fabhomedecor-fabric-do...   \n",
              "4   http://www.flipkart.com/sicons-all-purpose-arn...   \n",
              "5   http://www.flipkart.com/eternal-gandhi-super-s...   \n",
              "12  http://www.flipkart.com/sicons-all-purpose-tea...   \n",
              "14  http://www.flipkart.com/freelance-vacuum-bottl...   \n",
              "\n",
              "                                         product_name  \\\n",
              "1                 FabHomeDecor Fabric Double Sofa Bed   \n",
              "4               Sicons All Purpose Arnica Dog Shampoo   \n",
              "5   Eternal Gandhi Super Series Crystal Paper Weig...   \n",
              "12            Sicons All Purpose Tea Tree Dog Shampoo   \n",
              "14             Freelance Vacuum Bottles 350 ml Bottle   \n",
              "\n",
              "                                product_category_tree               pid  \\\n",
              "1   [\"Furniture >> Living Room Furniture >> Sofa B...  SBEEH3QGU7MFYJFY   \n",
              "4   [\"Pet Supplies >> Grooming >> Skin & Coat Care...  PSOEH3ZYDMSYARJ5   \n",
              "5   [\"Eternal Gandhi Super Series Crystal Paper We...  PWTEB7H2E4KCYUE3   \n",
              "12  [\"Pet Supplies >> Grooming >> Skin & Coat Care...  PSOEH3ZYYFETGCCD   \n",
              "14  [\"Pens & Stationery >> School Supplies >> Wate...  BOTEGYTZ2T6WUJMM   \n",
              "\n",
              "    retail_price  discounted_price  \\\n",
              "1        32157.0           22646.0   \n",
              "4          220.0             210.0   \n",
              "5          430.0             430.0   \n",
              "12           NaN               NaN   \n",
              "14         699.0             699.0   \n",
              "\n",
              "                                                image  \\\n",
              "1   [\"http://img6a.flixcart.com/image/sofa-bed/j/f...   \n",
              "4   [\"http://img5a.flixcart.com/image/pet-shampoo/...   \n",
              "5   [\"http://img5a.flixcart.com/image/paper-weight...   \n",
              "12  [\"http://img6a.flixcart.com/image/pet-shampoo/...   \n",
              "14  [\"http://img5a.flixcart.com/image/bottle/j/m/m...   \n",
              "\n",
              "    is_FK_Advantage_product  \\\n",
              "1                     False   \n",
              "4                     False   \n",
              "5                     False   \n",
              "12                    False   \n",
              "14                    False   \n",
              "\n",
              "                                          description       product_rating  \\\n",
              "1   FabHomeDecor Fabric Double Sofa Bed (Finish Co...  No rating available   \n",
              "4   Specifications of Sicons All Purpose Arnica Do...  No rating available   \n",
              "5   Key Features of Eternal Gandhi Super Series Cr...  No rating available   \n",
              "12  Specifications of Sicons All Purpose Tea Tree ...  No rating available   \n",
              "14  Specifications of Freelance Vacuum Bottles 350...  No rating available   \n",
              "\n",
              "         overall_rating           brand  \\\n",
              "1   No rating available    FabHomeDecor   \n",
              "4   No rating available          Sicons   \n",
              "5   No rating available  Eternal Gandhi   \n",
              "12  No rating available          Sicons   \n",
              "14  No rating available       Freelance   \n",
              "\n",
              "                               product_specifications gender  \n",
              "1   {\"product_specification\"=>[{\"key\"=>\"Installati...   None  \n",
              "4   {\"product_specification\"=>[{\"key\"=>\"Pet Type\",...   None  \n",
              "5   {\"product_specification\"=>[{\"key\"=>\"Model Name...   None  \n",
              "12  {\"product_specification\"=>[{\"key\"=>\"Pet Type\",...   None  \n",
              "14  {\"product_specification\"=>[{\"key\"=>\"Body Mater...   None  "
            ]
          },
          "execution_count": 42,
          "metadata": {},
          "output_type": "execute_result"
        }
      ],
      "source": [
        "testing.head()"
      ]
    },
    {
      "cell_type": "code",
      "execution_count": 43,
      "metadata": {
        "colab": {
          "base_uri": "https://localhost:8080/"
        },
        "id": "__zQeZCl6_Sf",
        "outputId": "c96555a3-4239-4693-c399-d0fd477f225d"
      },
      "outputs": [
        {
          "name": "stderr",
          "output_type": "stream",
          "text": [
            "/usr/local/lib/python3.7/dist-packages/ipykernel_launcher.py:1: SettingWithCopyWarning: \n",
            "A value is trying to be set on a copy of a slice from a DataFrame.\n",
            "Try using .loc[row_indexer,col_indexer] = value instead\n",
            "\n",
            "See the caveats in the documentation: https://pandas.pydata.org/pandas-docs/stable/user_guide/indexing.html#returning-a-view-versus-a-copy\n",
            "  \"\"\"Entry point for launching an IPython kernel.\n"
          ]
        }
      ],
      "source": [
        "testing['gender'] = testing['product_url'].apply(something_doing)"
      ]
    },
    {
      "cell_type": "code",
      "execution_count": 44,
      "metadata": {
        "colab": {
          "base_uri": "https://localhost:8080/"
        },
        "id": "PIPSZbvC7Jxe",
        "outputId": "418422c8-5ac1-480d-fce7-c4bf05f5d326"
      },
      "outputs": [
        {
          "data": {
            "text/plain": [
              "men      25\n",
              "women    22\n",
              "both      4\n",
              "Name: gender, dtype: int64"
            ]
          },
          "execution_count": 44,
          "metadata": {},
          "output_type": "execute_result"
        }
      ],
      "source": [
        "testing.gender.value_counts()"
      ]
    },
    {
      "cell_type": "code",
      "execution_count": 45,
      "metadata": {
        "id": "AURWSpAJ70Kf"
      },
      "outputs": [],
      "source": [
        "final_testing = testing.loc[~testing['gender'].isin(['men', 'both', 'women'])]"
      ]
    },
    {
      "cell_type": "code",
      "execution_count": 46,
      "metadata": {
        "id": "C7p3cRr174ky"
      },
      "outputs": [],
      "source": [
        "def something_doing(some_text):\n",
        "  some_text = str(some_text)\n",
        "  some_text = some_text.lower()\n",
        "  some_text = some_text.split(' ')\n",
        "  \n",
        "  if('woman') in some_text or ('women') in some_text:\n",
        "    return 'women'\n",
        "  elif('man') in some_text or ('men') in some_text:\n",
        "    return 'men'\n",
        "  return None"
      ]
    },
    {
      "cell_type": "code",
      "execution_count": 47,
      "metadata": {
        "colab": {
          "base_uri": "https://localhost:8080/"
        },
        "id": "prdfxnhh70Kh",
        "outputId": "90987855-0a4a-47ae-d4fb-d21ec690caa1"
      },
      "outputs": [
        {
          "name": "stderr",
          "output_type": "stream",
          "text": [
            "/usr/local/lib/python3.7/dist-packages/ipykernel_launcher.py:1: SettingWithCopyWarning: \n",
            "A value is trying to be set on a copy of a slice from a DataFrame.\n",
            "Try using .loc[row_indexer,col_indexer] = value instead\n",
            "\n",
            "See the caveats in the documentation: https://pandas.pydata.org/pandas-docs/stable/user_guide/indexing.html#returning-a-view-versus-a-copy\n",
            "  \"\"\"Entry point for launching an IPython kernel.\n"
          ]
        }
      ],
      "source": [
        "final_testing['gender'] = final_testing['description'].apply(something_doing)"
      ]
    },
    {
      "cell_type": "code",
      "execution_count": 48,
      "metadata": {
        "colab": {
          "base_uri": "https://localhost:8080/"
        },
        "id": "DcLa3iqT70Kh",
        "outputId": "dd6d0e7c-d232-410b-f524-e1196e491fbb"
      },
      "outputs": [
        {
          "data": {
            "text/plain": [
              "women    135\n",
              "men       43\n",
              "Name: gender, dtype: int64"
            ]
          },
          "execution_count": 48,
          "metadata": {},
          "output_type": "execute_result"
        }
      ],
      "source": [
        "final_testing.gender.value_counts()"
      ]
    },
    {
      "cell_type": "code",
      "execution_count": 49,
      "metadata": {
        "colab": {
          "base_uri": "https://localhost:8080/",
          "height": 531
        },
        "id": "-cG1Rnf98I7U",
        "outputId": "bec802fa-0ad1-4e06-80ba-ac3ae4b0cecf"
      },
      "outputs": [
        {
          "data": {
            "text/html": [
              "\n",
              "  <div id=\"df-1fcdd3e9-cbc9-4d38-b156-e1494873af5f\">\n",
              "    <div class=\"colab-df-container\">\n",
              "      <div>\n",
              "<style scoped>\n",
              "    .dataframe tbody tr th:only-of-type {\n",
              "        vertical-align: middle;\n",
              "    }\n",
              "\n",
              "    .dataframe tbody tr th {\n",
              "        vertical-align: top;\n",
              "    }\n",
              "\n",
              "    .dataframe thead th {\n",
              "        text-align: right;\n",
              "    }\n",
              "</style>\n",
              "<table border=\"1\" class=\"dataframe\">\n",
              "  <thead>\n",
              "    <tr style=\"text-align: right;\">\n",
              "      <th></th>\n",
              "      <th>uniq_id</th>\n",
              "      <th>crawl_timestamp</th>\n",
              "      <th>product_url</th>\n",
              "      <th>product_name</th>\n",
              "      <th>product_category_tree</th>\n",
              "      <th>pid</th>\n",
              "      <th>retail_price</th>\n",
              "      <th>discounted_price</th>\n",
              "      <th>image</th>\n",
              "      <th>is_FK_Advantage_product</th>\n",
              "      <th>description</th>\n",
              "      <th>product_rating</th>\n",
              "      <th>overall_rating</th>\n",
              "      <th>brand</th>\n",
              "      <th>product_specifications</th>\n",
              "      <th>gender</th>\n",
              "    </tr>\n",
              "  </thead>\n",
              "  <tbody>\n",
              "    <tr>\n",
              "      <th>1</th>\n",
              "      <td>7f7036a6d550aaa89d34c77bd39a5e48</td>\n",
              "      <td>2016-03-25 22:59:23 +0000</td>\n",
              "      <td>http://www.flipkart.com/fabhomedecor-fabric-do...</td>\n",
              "      <td>FabHomeDecor Fabric Double Sofa Bed</td>\n",
              "      <td>[\"Furniture &gt;&gt; Living Room Furniture &gt;&gt; Sofa B...</td>\n",
              "      <td>SBEEH3QGU7MFYJFY</td>\n",
              "      <td>32157.0</td>\n",
              "      <td>22646.0</td>\n",
              "      <td>[\"http://img6a.flixcart.com/image/sofa-bed/j/f...</td>\n",
              "      <td>False</td>\n",
              "      <td>FabHomeDecor Fabric Double Sofa Bed (Finish Co...</td>\n",
              "      <td>No rating available</td>\n",
              "      <td>No rating available</td>\n",
              "      <td>FabHomeDecor</td>\n",
              "      <td>{\"product_specification\"=&gt;[{\"key\"=&gt;\"Installati...</td>\n",
              "      <td>None</td>\n",
              "    </tr>\n",
              "    <tr>\n",
              "      <th>4</th>\n",
              "      <td>bc940ea42ee6bef5ac7cea3fb5cfbee7</td>\n",
              "      <td>2016-03-25 22:59:23 +0000</td>\n",
              "      <td>http://www.flipkart.com/sicons-all-purpose-arn...</td>\n",
              "      <td>Sicons All Purpose Arnica Dog Shampoo</td>\n",
              "      <td>[\"Pet Supplies &gt;&gt; Grooming &gt;&gt; Skin &amp; Coat Care...</td>\n",
              "      <td>PSOEH3ZYDMSYARJ5</td>\n",
              "      <td>220.0</td>\n",
              "      <td>210.0</td>\n",
              "      <td>[\"http://img5a.flixcart.com/image/pet-shampoo/...</td>\n",
              "      <td>False</td>\n",
              "      <td>Specifications of Sicons All Purpose Arnica Do...</td>\n",
              "      <td>No rating available</td>\n",
              "      <td>No rating available</td>\n",
              "      <td>Sicons</td>\n",
              "      <td>{\"product_specification\"=&gt;[{\"key\"=&gt;\"Pet Type\",...</td>\n",
              "      <td>None</td>\n",
              "    </tr>\n",
              "    <tr>\n",
              "      <th>5</th>\n",
              "      <td>c2a17313954882c1dba461863e98adf2</td>\n",
              "      <td>2016-03-25 22:59:23 +0000</td>\n",
              "      <td>http://www.flipkart.com/eternal-gandhi-super-s...</td>\n",
              "      <td>Eternal Gandhi Super Series Crystal Paper Weig...</td>\n",
              "      <td>[\"Eternal Gandhi Super Series Crystal Paper We...</td>\n",
              "      <td>PWTEB7H2E4KCYUE3</td>\n",
              "      <td>430.0</td>\n",
              "      <td>430.0</td>\n",
              "      <td>[\"http://img5a.flixcart.com/image/paper-weight...</td>\n",
              "      <td>False</td>\n",
              "      <td>Key Features of Eternal Gandhi Super Series Cr...</td>\n",
              "      <td>No rating available</td>\n",
              "      <td>No rating available</td>\n",
              "      <td>Eternal Gandhi</td>\n",
              "      <td>{\"product_specification\"=&gt;[{\"key\"=&gt;\"Model Name...</td>\n",
              "      <td>None</td>\n",
              "    </tr>\n",
              "    <tr>\n",
              "      <th>12</th>\n",
              "      <td>c29af37837afcaf44b779eca7c19295f</td>\n",
              "      <td>2016-03-25 22:59:23 +0000</td>\n",
              "      <td>http://www.flipkart.com/sicons-all-purpose-tea...</td>\n",
              "      <td>Sicons All Purpose Tea Tree Dog Shampoo</td>\n",
              "      <td>[\"Pet Supplies &gt;&gt; Grooming &gt;&gt; Skin &amp; Coat Care...</td>\n",
              "      <td>PSOEH3ZYYFETGCCD</td>\n",
              "      <td>NaN</td>\n",
              "      <td>NaN</td>\n",
              "      <td>[\"http://img6a.flixcart.com/image/pet-shampoo/...</td>\n",
              "      <td>False</td>\n",
              "      <td>Specifications of Sicons All Purpose Tea Tree ...</td>\n",
              "      <td>No rating available</td>\n",
              "      <td>No rating available</td>\n",
              "      <td>Sicons</td>\n",
              "      <td>{\"product_specification\"=&gt;[{\"key\"=&gt;\"Pet Type\",...</td>\n",
              "      <td>None</td>\n",
              "    </tr>\n",
              "    <tr>\n",
              "      <th>14</th>\n",
              "      <td>83c53f8948f508f51d2249b489ca8e7d</td>\n",
              "      <td>2016-03-25 22:59:23 +0000</td>\n",
              "      <td>http://www.flipkart.com/freelance-vacuum-bottl...</td>\n",
              "      <td>Freelance Vacuum Bottles 350 ml Bottle</td>\n",
              "      <td>[\"Pens &amp; Stationery &gt;&gt; School Supplies &gt;&gt; Wate...</td>\n",
              "      <td>BOTEGYTZ2T6WUJMM</td>\n",
              "      <td>699.0</td>\n",
              "      <td>699.0</td>\n",
              "      <td>[\"http://img5a.flixcart.com/image/bottle/j/m/m...</td>\n",
              "      <td>False</td>\n",
              "      <td>Specifications of Freelance Vacuum Bottles 350...</td>\n",
              "      <td>No rating available</td>\n",
              "      <td>No rating available</td>\n",
              "      <td>Freelance</td>\n",
              "      <td>{\"product_specification\"=&gt;[{\"key\"=&gt;\"Body Mater...</td>\n",
              "      <td>None</td>\n",
              "    </tr>\n",
              "  </tbody>\n",
              "</table>\n",
              "</div>\n",
              "      <button class=\"colab-df-convert\" onclick=\"convertToInteractive('df-1fcdd3e9-cbc9-4d38-b156-e1494873af5f')\"\n",
              "              title=\"Convert this dataframe to an interactive table.\"\n",
              "              style=\"display:none;\">\n",
              "        \n",
              "  <svg xmlns=\"http://www.w3.org/2000/svg\" height=\"24px\"viewBox=\"0 0 24 24\"\n",
              "       width=\"24px\">\n",
              "    <path d=\"M0 0h24v24H0V0z\" fill=\"none\"/>\n",
              "    <path d=\"M18.56 5.44l.94 2.06.94-2.06 2.06-.94-2.06-.94-.94-2.06-.94 2.06-2.06.94zm-11 1L8.5 8.5l.94-2.06 2.06-.94-2.06-.94L8.5 2.5l-.94 2.06-2.06.94zm10 10l.94 2.06.94-2.06 2.06-.94-2.06-.94-.94-2.06-.94 2.06-2.06.94z\"/><path d=\"M17.41 7.96l-1.37-1.37c-.4-.4-.92-.59-1.43-.59-.52 0-1.04.2-1.43.59L10.3 9.45l-7.72 7.72c-.78.78-.78 2.05 0 2.83L4 21.41c.39.39.9.59 1.41.59.51 0 1.02-.2 1.41-.59l7.78-7.78 2.81-2.81c.8-.78.8-2.07 0-2.86zM5.41 20L4 18.59l7.72-7.72 1.47 1.35L5.41 20z\"/>\n",
              "  </svg>\n",
              "      </button>\n",
              "      \n",
              "  <style>\n",
              "    .colab-df-container {\n",
              "      display:flex;\n",
              "      flex-wrap:wrap;\n",
              "      gap: 12px;\n",
              "    }\n",
              "\n",
              "    .colab-df-convert {\n",
              "      background-color: #E8F0FE;\n",
              "      border: none;\n",
              "      border-radius: 50%;\n",
              "      cursor: pointer;\n",
              "      display: none;\n",
              "      fill: #1967D2;\n",
              "      height: 32px;\n",
              "      padding: 0 0 0 0;\n",
              "      width: 32px;\n",
              "    }\n",
              "\n",
              "    .colab-df-convert:hover {\n",
              "      background-color: #E2EBFA;\n",
              "      box-shadow: 0px 1px 2px rgba(60, 64, 67, 0.3), 0px 1px 3px 1px rgba(60, 64, 67, 0.15);\n",
              "      fill: #174EA6;\n",
              "    }\n",
              "\n",
              "    [theme=dark] .colab-df-convert {\n",
              "      background-color: #3B4455;\n",
              "      fill: #D2E3FC;\n",
              "    }\n",
              "\n",
              "    [theme=dark] .colab-df-convert:hover {\n",
              "      background-color: #434B5C;\n",
              "      box-shadow: 0px 1px 3px 1px rgba(0, 0, 0, 0.15);\n",
              "      filter: drop-shadow(0px 1px 2px rgba(0, 0, 0, 0.3));\n",
              "      fill: #FFFFFF;\n",
              "    }\n",
              "  </style>\n",
              "\n",
              "      <script>\n",
              "        const buttonEl =\n",
              "          document.querySelector('#df-1fcdd3e9-cbc9-4d38-b156-e1494873af5f button.colab-df-convert');\n",
              "        buttonEl.style.display =\n",
              "          google.colab.kernel.accessAllowed ? 'block' : 'none';\n",
              "\n",
              "        async function convertToInteractive(key) {\n",
              "          const element = document.querySelector('#df-1fcdd3e9-cbc9-4d38-b156-e1494873af5f');\n",
              "          const dataTable =\n",
              "            await google.colab.kernel.invokeFunction('convertToInteractive',\n",
              "                                                     [key], {});\n",
              "          if (!dataTable) return;\n",
              "\n",
              "          const docLinkHtml = 'Like what you see? Visit the ' +\n",
              "            '<a target=\"_blank\" href=https://colab.research.google.com/notebooks/data_table.ipynb>data table notebook</a>'\n",
              "            + ' to learn more about interactive tables.';\n",
              "          element.innerHTML = '';\n",
              "          dataTable['output_type'] = 'display_data';\n",
              "          await google.colab.output.renderOutput(dataTable, element);\n",
              "          const docLink = document.createElement('div');\n",
              "          docLink.innerHTML = docLinkHtml;\n",
              "          element.appendChild(docLink);\n",
              "        }\n",
              "      </script>\n",
              "    </div>\n",
              "  </div>\n",
              "  "
            ],
            "text/plain": [
              "                             uniq_id            crawl_timestamp  \\\n",
              "1   7f7036a6d550aaa89d34c77bd39a5e48  2016-03-25 22:59:23 +0000   \n",
              "4   bc940ea42ee6bef5ac7cea3fb5cfbee7  2016-03-25 22:59:23 +0000   \n",
              "5   c2a17313954882c1dba461863e98adf2  2016-03-25 22:59:23 +0000   \n",
              "12  c29af37837afcaf44b779eca7c19295f  2016-03-25 22:59:23 +0000   \n",
              "14  83c53f8948f508f51d2249b489ca8e7d  2016-03-25 22:59:23 +0000   \n",
              "\n",
              "                                          product_url  \\\n",
              "1   http://www.flipkart.com/fabhomedecor-fabric-do...   \n",
              "4   http://www.flipkart.com/sicons-all-purpose-arn...   \n",
              "5   http://www.flipkart.com/eternal-gandhi-super-s...   \n",
              "12  http://www.flipkart.com/sicons-all-purpose-tea...   \n",
              "14  http://www.flipkart.com/freelance-vacuum-bottl...   \n",
              "\n",
              "                                         product_name  \\\n",
              "1                 FabHomeDecor Fabric Double Sofa Bed   \n",
              "4               Sicons All Purpose Arnica Dog Shampoo   \n",
              "5   Eternal Gandhi Super Series Crystal Paper Weig...   \n",
              "12            Sicons All Purpose Tea Tree Dog Shampoo   \n",
              "14             Freelance Vacuum Bottles 350 ml Bottle   \n",
              "\n",
              "                                product_category_tree               pid  \\\n",
              "1   [\"Furniture >> Living Room Furniture >> Sofa B...  SBEEH3QGU7MFYJFY   \n",
              "4   [\"Pet Supplies >> Grooming >> Skin & Coat Care...  PSOEH3ZYDMSYARJ5   \n",
              "5   [\"Eternal Gandhi Super Series Crystal Paper We...  PWTEB7H2E4KCYUE3   \n",
              "12  [\"Pet Supplies >> Grooming >> Skin & Coat Care...  PSOEH3ZYYFETGCCD   \n",
              "14  [\"Pens & Stationery >> School Supplies >> Wate...  BOTEGYTZ2T6WUJMM   \n",
              "\n",
              "    retail_price  discounted_price  \\\n",
              "1        32157.0           22646.0   \n",
              "4          220.0             210.0   \n",
              "5          430.0             430.0   \n",
              "12           NaN               NaN   \n",
              "14         699.0             699.0   \n",
              "\n",
              "                                                image  \\\n",
              "1   [\"http://img6a.flixcart.com/image/sofa-bed/j/f...   \n",
              "4   [\"http://img5a.flixcart.com/image/pet-shampoo/...   \n",
              "5   [\"http://img5a.flixcart.com/image/paper-weight...   \n",
              "12  [\"http://img6a.flixcart.com/image/pet-shampoo/...   \n",
              "14  [\"http://img5a.flixcart.com/image/bottle/j/m/m...   \n",
              "\n",
              "    is_FK_Advantage_product  \\\n",
              "1                     False   \n",
              "4                     False   \n",
              "5                     False   \n",
              "12                    False   \n",
              "14                    False   \n",
              "\n",
              "                                          description       product_rating  \\\n",
              "1   FabHomeDecor Fabric Double Sofa Bed (Finish Co...  No rating available   \n",
              "4   Specifications of Sicons All Purpose Arnica Do...  No rating available   \n",
              "5   Key Features of Eternal Gandhi Super Series Cr...  No rating available   \n",
              "12  Specifications of Sicons All Purpose Tea Tree ...  No rating available   \n",
              "14  Specifications of Freelance Vacuum Bottles 350...  No rating available   \n",
              "\n",
              "         overall_rating           brand  \\\n",
              "1   No rating available    FabHomeDecor   \n",
              "4   No rating available          Sicons   \n",
              "5   No rating available  Eternal Gandhi   \n",
              "12  No rating available          Sicons   \n",
              "14  No rating available       Freelance   \n",
              "\n",
              "                               product_specifications gender  \n",
              "1   {\"product_specification\"=>[{\"key\"=>\"Installati...   None  \n",
              "4   {\"product_specification\"=>[{\"key\"=>\"Pet Type\",...   None  \n",
              "5   {\"product_specification\"=>[{\"key\"=>\"Model Name...   None  \n",
              "12  {\"product_specification\"=>[{\"key\"=>\"Pet Type\",...   None  \n",
              "14  {\"product_specification\"=>[{\"key\"=>\"Body Mater...   None  "
            ]
          },
          "execution_count": 49,
          "metadata": {},
          "output_type": "execute_result"
        }
      ],
      "source": [
        "final_testing.head()"
      ]
    },
    {
      "cell_type": "code",
      "execution_count": 50,
      "metadata": {
        "colab": {
          "base_uri": "https://localhost:8080/",
          "height": 991
        },
        "id": "6cuHj5MX70Ki",
        "outputId": "2d9bc40e-a759-482d-c308-8e8395a07f27"
      },
      "outputs": [
        {
          "data": {
            "text/html": [
              "\n",
              "  <div id=\"df-4e84c7f9-ae30-40eb-8116-1c45bb7ecb62\">\n",
              "    <div class=\"colab-df-container\">\n",
              "      <div>\n",
              "<style scoped>\n",
              "    .dataframe tbody tr th:only-of-type {\n",
              "        vertical-align: middle;\n",
              "    }\n",
              "\n",
              "    .dataframe tbody tr th {\n",
              "        vertical-align: top;\n",
              "    }\n",
              "\n",
              "    .dataframe thead th {\n",
              "        text-align: right;\n",
              "    }\n",
              "</style>\n",
              "<table border=\"1\" class=\"dataframe\">\n",
              "  <thead>\n",
              "    <tr style=\"text-align: right;\">\n",
              "      <th></th>\n",
              "      <th>uniq_id</th>\n",
              "      <th>crawl_timestamp</th>\n",
              "      <th>product_url</th>\n",
              "      <th>product_name</th>\n",
              "      <th>product_category_tree</th>\n",
              "      <th>pid</th>\n",
              "      <th>retail_price</th>\n",
              "      <th>discounted_price</th>\n",
              "      <th>image</th>\n",
              "      <th>is_FK_Advantage_product</th>\n",
              "      <th>description</th>\n",
              "      <th>product_rating</th>\n",
              "      <th>overall_rating</th>\n",
              "      <th>brand</th>\n",
              "      <th>product_specifications</th>\n",
              "      <th>gender</th>\n",
              "    </tr>\n",
              "  </thead>\n",
              "  <tbody>\n",
              "    <tr>\n",
              "      <th>76</th>\n",
              "      <td>64d5d4a258243731dc7bbb1eef49ad74</td>\n",
              "      <td>2016-04-30 03:22:56 +0000</td>\n",
              "      <td>http://www.flipkart.com/eurospa-cotton-terry-f...</td>\n",
              "      <td>Eurospa Cotton Terry Face Towel Set</td>\n",
              "      <td>[\"Baby Care &gt;&gt; Baby Bath &amp; Skin &gt;&gt; Baby Bath T...</td>\n",
              "      <td>BTWEG6SHXTDB2A2Y</td>\n",
              "      <td>NaN</td>\n",
              "      <td>NaN</td>\n",
              "      <td>[\"http://img5a.flixcart.com/image/bath-towel/a...</td>\n",
              "      <td>False</td>\n",
              "      <td>Key Features of Eurospa Cotton Terry Face Towe...</td>\n",
              "      <td>No rating available</td>\n",
              "      <td>No rating available</td>\n",
              "      <td>Eurospa</td>\n",
              "      <td>{\"product_specification\"=&gt;[{\"key\"=&gt;\"Material\",...</td>\n",
              "      <td>women</td>\n",
              "    </tr>\n",
              "    <tr>\n",
              "      <th>108</th>\n",
              "      <td>710ed5f2393a4b9e8823aa0029f71f93</td>\n",
              "      <td>2015-12-04 07:25:36 +0000</td>\n",
              "      <td>http://www.flipkart.com/tag-heuer-cau1116-ba08...</td>\n",
              "      <td>TAG Heuer CAU1116.BA0858 Formula 1 Analog Watc...</td>\n",
              "      <td>[\"Watches &gt;&gt; Wrist Watches &gt;&gt; TAG Heuer Wrist ...</td>\n",
              "      <td>WATEA6UGFGKZKDJC</td>\n",
              "      <td>107750.0</td>\n",
              "      <td>107750.0</td>\n",
              "      <td>[\"http://img5a.flixcart.com/image/watch/d/j/c/...</td>\n",
              "      <td>False</td>\n",
              "      <td>TAG Heuer CAU1116.BA0858 Formula 1 Analog Watc...</td>\n",
              "      <td>No rating available</td>\n",
              "      <td>No rating available</td>\n",
              "      <td>NaN</td>\n",
              "      <td>{\"product_specification\"=&gt;[{\"key\"=&gt;\"Chronograp...</td>\n",
              "      <td>men</td>\n",
              "    </tr>\n",
              "    <tr>\n",
              "      <th>114</th>\n",
              "      <td>16655211772e017f8e207c24b8340214</td>\n",
              "      <td>2015-12-04 07:25:36 +0000</td>\n",
              "      <td>http://www.flipkart.com/costa-swiss-cs-2001-an...</td>\n",
              "      <td>Costa Swiss CS-2001 Analog Watch  - For Boys, Men</td>\n",
              "      <td>[\"Watches &gt;&gt; Wrist Watches &gt;&gt; Costa Swiss Wris...</td>\n",
              "      <td>WATEBVHAWSYYS8EY</td>\n",
              "      <td>1199.0</td>\n",
              "      <td>429.0</td>\n",
              "      <td>[\"http://img6a.flixcart.com/image/watch/8/e/y/...</td>\n",
              "      <td>False</td>\n",
              "      <td>Costa Swiss CS-2001 Analog Watch  - For Boys, ...</td>\n",
              "      <td>No rating available</td>\n",
              "      <td>No rating available</td>\n",
              "      <td>NaN</td>\n",
              "      <td>{\"product_specification\"=&gt;[{\"key\"=&gt;\"Chronograp...</td>\n",
              "      <td>men</td>\n",
              "    </tr>\n",
              "    <tr>\n",
              "      <th>134</th>\n",
              "      <td>08452abdadb3db1e686b94a9c52fc7b6</td>\n",
              "      <td>2015-12-04 07:25:36 +0000</td>\n",
              "      <td>http://www.flipkart.com/cartier-w6701005-analo...</td>\n",
              "      <td>Cartier W6701005 Analog Watch  - For Boys, Men</td>\n",
              "      <td>[\"Watches &gt;&gt; Wrist Watches &gt;&gt; Cartier Wrist Wa...</td>\n",
              "      <td>WATEAK8SE2RUK7GM</td>\n",
              "      <td>201000.0</td>\n",
              "      <td>201000.0</td>\n",
              "      <td>[\"http://img6a.flixcart.com/image/watch/7/g/m/...</td>\n",
              "      <td>False</td>\n",
              "      <td>Cartier W6701005 Analog Watch  - For Boys, Men...</td>\n",
              "      <td>No rating available</td>\n",
              "      <td>No rating available</td>\n",
              "      <td>NaN</td>\n",
              "      <td>{\"product_specification\"=&gt;[{\"key\"=&gt;\"Chronograp...</td>\n",
              "      <td>men</td>\n",
              "    </tr>\n",
              "    <tr>\n",
              "      <th>137</th>\n",
              "      <td>1e8741b5ae27a513546c94b3f3312aee</td>\n",
              "      <td>2015-12-04 07:25:36 +0000</td>\n",
              "      <td>http://www.flipkart.com/lois-caron-lcs-4032-an...</td>\n",
              "      <td>Lois Caron LCS-4032 Analog Watch  - For Boys, Men</td>\n",
              "      <td>[\"Watches &gt;&gt; Wrist Watches &gt;&gt; Lois Caron Wrist...</td>\n",
              "      <td>WATED53FKKH4S8E4</td>\n",
              "      <td>1200.0</td>\n",
              "      <td>399.0</td>\n",
              "      <td>[\"http://img5a.flixcart.com/image/watch/8/e/4/...</td>\n",
              "      <td>False</td>\n",
              "      <td>Lois Caron LCS-4032 Analog Watch  - For Boys, ...</td>\n",
              "      <td>No rating available</td>\n",
              "      <td>No rating available</td>\n",
              "      <td>NaN</td>\n",
              "      <td>{\"product_specification\"=&gt;[{\"key\"=&gt;\"Type\", \"va...</td>\n",
              "      <td>men</td>\n",
              "    </tr>\n",
              "    <tr>\n",
              "      <th>...</th>\n",
              "      <td>...</td>\n",
              "      <td>...</td>\n",
              "      <td>...</td>\n",
              "      <td>...</td>\n",
              "      <td>...</td>\n",
              "      <td>...</td>\n",
              "      <td>...</td>\n",
              "      <td>...</td>\n",
              "      <td>...</td>\n",
              "      <td>...</td>\n",
              "      <td>...</td>\n",
              "      <td>...</td>\n",
              "      <td>...</td>\n",
              "      <td>...</td>\n",
              "      <td>...</td>\n",
              "      <td>...</td>\n",
              "    </tr>\n",
              "    <tr>\n",
              "      <th>19399</th>\n",
              "      <td>6537eabee141f9c903fda503423451fb</td>\n",
              "      <td>2016-06-12 21:55:11 +0000</td>\n",
              "      <td>http://www.flipkart.com/raju-purse-collection-...</td>\n",
              "      <td>raju purse collection Shoulder Bag</td>\n",
              "      <td>[\"Bags, Wallets &amp; Belts &gt;&gt; Bags &gt;&gt; Hand Bags &gt;...</td>\n",
              "      <td>HMBEJKHKC7YSHUTB</td>\n",
              "      <td>499.0</td>\n",
              "      <td>499.0</td>\n",
              "      <td>[\"http://img6a.flixcart.com/image/hand-messeng...</td>\n",
              "      <td>False</td>\n",
              "      <td>Key Features of raju purse collection Shoulder...</td>\n",
              "      <td>No rating available</td>\n",
              "      <td>No rating available</td>\n",
              "      <td>raju purse collection</td>\n",
              "      <td>{\"product_specification\"=&gt;[{\"key\"=&gt;\"Closure\", ...</td>\n",
              "      <td>women</td>\n",
              "    </tr>\n",
              "    <tr>\n",
              "      <th>19400</th>\n",
              "      <td>80859babcef7c89e143f05e91463006f</td>\n",
              "      <td>2016-06-12 21:55:11 +0000</td>\n",
              "      <td>http://www.flipkart.com/all-day-365-shoulder-b...</td>\n",
              "      <td>ALL DAY 365 Shoulder Bag</td>\n",
              "      <td>[\"Bags, Wallets &amp; Belts &gt;&gt; Bags &gt;&gt; Hand Bags &gt;...</td>\n",
              "      <td>HMBEJJ5GZDSPV69C</td>\n",
              "      <td>999.0</td>\n",
              "      <td>499.0</td>\n",
              "      <td>[\"http://img6a.flixcart.com/image/hand-messeng...</td>\n",
              "      <td>False</td>\n",
              "      <td>Key Features of ALL DAY 365 Shoulder Bag Ideal...</td>\n",
              "      <td>No rating available</td>\n",
              "      <td>No rating available</td>\n",
              "      <td>ALL DAY 365</td>\n",
              "      <td>{\"product_specification\"=&gt;[{\"key\"=&gt;\"Closure\", ...</td>\n",
              "      <td>women</td>\n",
              "    </tr>\n",
              "    <tr>\n",
              "      <th>19401</th>\n",
              "      <td>6835eb1d99ef8ba9a5e3f4739782dc88</td>\n",
              "      <td>2016-06-12 21:55:11 +0000</td>\n",
              "      <td>http://www.flipkart.com/raju-purse-collection-...</td>\n",
              "      <td>Raju Purse Collection Shoulder Bag</td>\n",
              "      <td>[\"Bags, Wallets &amp; Belts &gt;&gt; Bags &gt;&gt; Hand Bags &gt;...</td>\n",
              "      <td>HMBEJKHYMFZKTZJ4</td>\n",
              "      <td>999.0</td>\n",
              "      <td>499.0</td>\n",
              "      <td>[\"http://img6a.flixcart.com/image/hand-messeng...</td>\n",
              "      <td>False</td>\n",
              "      <td>Key Features of Raju Purse Collection Shoulder...</td>\n",
              "      <td>No rating available</td>\n",
              "      <td>No rating available</td>\n",
              "      <td>Raju Purse Collection</td>\n",
              "      <td>{\"product_specification\"=&gt;[{\"key\"=&gt;\"Closure\", ...</td>\n",
              "      <td>women</td>\n",
              "    </tr>\n",
              "    <tr>\n",
              "      <th>19408</th>\n",
              "      <td>18c052a812c204463ef2f025b32a425b</td>\n",
              "      <td>2016-06-12 21:55:11 +0000</td>\n",
              "      <td>http://www.flipkart.com/gowell-canvas-shoes/p/...</td>\n",
              "      <td>GoWell Canvas Shoes</td>\n",
              "      <td>[\"Footwear &gt;&gt; Kids' &amp; Infant Footwear &gt;&gt; For G...</td>\n",
              "      <td>SHOEJKF2SPCST6GN</td>\n",
              "      <td>999.0</td>\n",
              "      <td>349.0</td>\n",
              "      <td>[\"http://img6a.flixcart.com/image/shoe/g/u/z/w...</td>\n",
              "      <td>False</td>\n",
              "      <td>Key Features of GoWell Canvas Shoes Material: ...</td>\n",
              "      <td>No rating available</td>\n",
              "      <td>No rating available</td>\n",
              "      <td>GoWell</td>\n",
              "      <td>{\"product_specification\"=&gt;[{\"key\"=&gt;\"Ideal For\"...</td>\n",
              "      <td>women</td>\n",
              "    </tr>\n",
              "    <tr>\n",
              "      <th>19416</th>\n",
              "      <td>4649ec2bf43d7d3ba7935605c4c52b10</td>\n",
              "      <td>2016-06-12 21:55:11 +0000</td>\n",
              "      <td>http://www.flipkart.com/raju-purse-collection-...</td>\n",
              "      <td>raju purse collection Hand-held Bag</td>\n",
              "      <td>[\"Bags, Wallets &amp; Belts &gt;&gt; Bags &gt;&gt; Hand Bags &gt;...</td>\n",
              "      <td>HMBEJKMQNC6YXEMN</td>\n",
              "      <td>999.0</td>\n",
              "      <td>499.0</td>\n",
              "      <td>[\"http://img6a.flixcart.com/image/hand-messeng...</td>\n",
              "      <td>False</td>\n",
              "      <td>Key Features of raju purse collection Hand-hel...</td>\n",
              "      <td>No rating available</td>\n",
              "      <td>No rating available</td>\n",
              "      <td>raju purse collection</td>\n",
              "      <td>{\"product_specification\"=&gt;[{\"key\"=&gt;\"Closure\", ...</td>\n",
              "      <td>women</td>\n",
              "    </tr>\n",
              "  </tbody>\n",
              "</table>\n",
              "<p>178 rows × 16 columns</p>\n",
              "</div>\n",
              "      <button class=\"colab-df-convert\" onclick=\"convertToInteractive('df-4e84c7f9-ae30-40eb-8116-1c45bb7ecb62')\"\n",
              "              title=\"Convert this dataframe to an interactive table.\"\n",
              "              style=\"display:none;\">\n",
              "        \n",
              "  <svg xmlns=\"http://www.w3.org/2000/svg\" height=\"24px\"viewBox=\"0 0 24 24\"\n",
              "       width=\"24px\">\n",
              "    <path d=\"M0 0h24v24H0V0z\" fill=\"none\"/>\n",
              "    <path d=\"M18.56 5.44l.94 2.06.94-2.06 2.06-.94-2.06-.94-.94-2.06-.94 2.06-2.06.94zm-11 1L8.5 8.5l.94-2.06 2.06-.94-2.06-.94L8.5 2.5l-.94 2.06-2.06.94zm10 10l.94 2.06.94-2.06 2.06-.94-2.06-.94-.94-2.06-.94 2.06-2.06.94z\"/><path d=\"M17.41 7.96l-1.37-1.37c-.4-.4-.92-.59-1.43-.59-.52 0-1.04.2-1.43.59L10.3 9.45l-7.72 7.72c-.78.78-.78 2.05 0 2.83L4 21.41c.39.39.9.59 1.41.59.51 0 1.02-.2 1.41-.59l7.78-7.78 2.81-2.81c.8-.78.8-2.07 0-2.86zM5.41 20L4 18.59l7.72-7.72 1.47 1.35L5.41 20z\"/>\n",
              "  </svg>\n",
              "      </button>\n",
              "      \n",
              "  <style>\n",
              "    .colab-df-container {\n",
              "      display:flex;\n",
              "      flex-wrap:wrap;\n",
              "      gap: 12px;\n",
              "    }\n",
              "\n",
              "    .colab-df-convert {\n",
              "      background-color: #E8F0FE;\n",
              "      border: none;\n",
              "      border-radius: 50%;\n",
              "      cursor: pointer;\n",
              "      display: none;\n",
              "      fill: #1967D2;\n",
              "      height: 32px;\n",
              "      padding: 0 0 0 0;\n",
              "      width: 32px;\n",
              "    }\n",
              "\n",
              "    .colab-df-convert:hover {\n",
              "      background-color: #E2EBFA;\n",
              "      box-shadow: 0px 1px 2px rgba(60, 64, 67, 0.3), 0px 1px 3px 1px rgba(60, 64, 67, 0.15);\n",
              "      fill: #174EA6;\n",
              "    }\n",
              "\n",
              "    [theme=dark] .colab-df-convert {\n",
              "      background-color: #3B4455;\n",
              "      fill: #D2E3FC;\n",
              "    }\n",
              "\n",
              "    [theme=dark] .colab-df-convert:hover {\n",
              "      background-color: #434B5C;\n",
              "      box-shadow: 0px 1px 3px 1px rgba(0, 0, 0, 0.15);\n",
              "      filter: drop-shadow(0px 1px 2px rgba(0, 0, 0, 0.3));\n",
              "      fill: #FFFFFF;\n",
              "    }\n",
              "  </style>\n",
              "\n",
              "      <script>\n",
              "        const buttonEl =\n",
              "          document.querySelector('#df-4e84c7f9-ae30-40eb-8116-1c45bb7ecb62 button.colab-df-convert');\n",
              "        buttonEl.style.display =\n",
              "          google.colab.kernel.accessAllowed ? 'block' : 'none';\n",
              "\n",
              "        async function convertToInteractive(key) {\n",
              "          const element = document.querySelector('#df-4e84c7f9-ae30-40eb-8116-1c45bb7ecb62');\n",
              "          const dataTable =\n",
              "            await google.colab.kernel.invokeFunction('convertToInteractive',\n",
              "                                                     [key], {});\n",
              "          if (!dataTable) return;\n",
              "\n",
              "          const docLinkHtml = 'Like what you see? Visit the ' +\n",
              "            '<a target=\"_blank\" href=https://colab.research.google.com/notebooks/data_table.ipynb>data table notebook</a>'\n",
              "            + ' to learn more about interactive tables.';\n",
              "          element.innerHTML = '';\n",
              "          dataTable['output_type'] = 'display_data';\n",
              "          await google.colab.output.renderOutput(dataTable, element);\n",
              "          const docLink = document.createElement('div');\n",
              "          docLink.innerHTML = docLinkHtml;\n",
              "          element.appendChild(docLink);\n",
              "        }\n",
              "      </script>\n",
              "    </div>\n",
              "  </div>\n",
              "  "
            ],
            "text/plain": [
              "                                uniq_id            crawl_timestamp  \\\n",
              "76     64d5d4a258243731dc7bbb1eef49ad74  2016-04-30 03:22:56 +0000   \n",
              "108    710ed5f2393a4b9e8823aa0029f71f93  2015-12-04 07:25:36 +0000   \n",
              "114    16655211772e017f8e207c24b8340214  2015-12-04 07:25:36 +0000   \n",
              "134    08452abdadb3db1e686b94a9c52fc7b6  2015-12-04 07:25:36 +0000   \n",
              "137    1e8741b5ae27a513546c94b3f3312aee  2015-12-04 07:25:36 +0000   \n",
              "...                                 ...                        ...   \n",
              "19399  6537eabee141f9c903fda503423451fb  2016-06-12 21:55:11 +0000   \n",
              "19400  80859babcef7c89e143f05e91463006f  2016-06-12 21:55:11 +0000   \n",
              "19401  6835eb1d99ef8ba9a5e3f4739782dc88  2016-06-12 21:55:11 +0000   \n",
              "19408  18c052a812c204463ef2f025b32a425b  2016-06-12 21:55:11 +0000   \n",
              "19416  4649ec2bf43d7d3ba7935605c4c52b10  2016-06-12 21:55:11 +0000   \n",
              "\n",
              "                                             product_url  \\\n",
              "76     http://www.flipkart.com/eurospa-cotton-terry-f...   \n",
              "108    http://www.flipkart.com/tag-heuer-cau1116-ba08...   \n",
              "114    http://www.flipkart.com/costa-swiss-cs-2001-an...   \n",
              "134    http://www.flipkart.com/cartier-w6701005-analo...   \n",
              "137    http://www.flipkart.com/lois-caron-lcs-4032-an...   \n",
              "...                                                  ...   \n",
              "19399  http://www.flipkart.com/raju-purse-collection-...   \n",
              "19400  http://www.flipkart.com/all-day-365-shoulder-b...   \n",
              "19401  http://www.flipkart.com/raju-purse-collection-...   \n",
              "19408  http://www.flipkart.com/gowell-canvas-shoes/p/...   \n",
              "19416  http://www.flipkart.com/raju-purse-collection-...   \n",
              "\n",
              "                                            product_name  \\\n",
              "76                   Eurospa Cotton Terry Face Towel Set   \n",
              "108    TAG Heuer CAU1116.BA0858 Formula 1 Analog Watc...   \n",
              "114    Costa Swiss CS-2001 Analog Watch  - For Boys, Men   \n",
              "134       Cartier W6701005 Analog Watch  - For Boys, Men   \n",
              "137    Lois Caron LCS-4032 Analog Watch  - For Boys, Men   \n",
              "...                                                  ...   \n",
              "19399                 raju purse collection Shoulder Bag   \n",
              "19400                           ALL DAY 365 Shoulder Bag   \n",
              "19401                 Raju Purse Collection Shoulder Bag   \n",
              "19408                                GoWell Canvas Shoes   \n",
              "19416                raju purse collection Hand-held Bag   \n",
              "\n",
              "                                   product_category_tree               pid  \\\n",
              "76     [\"Baby Care >> Baby Bath & Skin >> Baby Bath T...  BTWEG6SHXTDB2A2Y   \n",
              "108    [\"Watches >> Wrist Watches >> TAG Heuer Wrist ...  WATEA6UGFGKZKDJC   \n",
              "114    [\"Watches >> Wrist Watches >> Costa Swiss Wris...  WATEBVHAWSYYS8EY   \n",
              "134    [\"Watches >> Wrist Watches >> Cartier Wrist Wa...  WATEAK8SE2RUK7GM   \n",
              "137    [\"Watches >> Wrist Watches >> Lois Caron Wrist...  WATED53FKKH4S8E4   \n",
              "...                                                  ...               ...   \n",
              "19399  [\"Bags, Wallets & Belts >> Bags >> Hand Bags >...  HMBEJKHKC7YSHUTB   \n",
              "19400  [\"Bags, Wallets & Belts >> Bags >> Hand Bags >...  HMBEJJ5GZDSPV69C   \n",
              "19401  [\"Bags, Wallets & Belts >> Bags >> Hand Bags >...  HMBEJKHYMFZKTZJ4   \n",
              "19408  [\"Footwear >> Kids' & Infant Footwear >> For G...  SHOEJKF2SPCST6GN   \n",
              "19416  [\"Bags, Wallets & Belts >> Bags >> Hand Bags >...  HMBEJKMQNC6YXEMN   \n",
              "\n",
              "       retail_price  discounted_price  \\\n",
              "76              NaN               NaN   \n",
              "108        107750.0          107750.0   \n",
              "114          1199.0             429.0   \n",
              "134        201000.0          201000.0   \n",
              "137          1200.0             399.0   \n",
              "...             ...               ...   \n",
              "19399         499.0             499.0   \n",
              "19400         999.0             499.0   \n",
              "19401         999.0             499.0   \n",
              "19408         999.0             349.0   \n",
              "19416         999.0             499.0   \n",
              "\n",
              "                                                   image  \\\n",
              "76     [\"http://img5a.flixcart.com/image/bath-towel/a...   \n",
              "108    [\"http://img5a.flixcart.com/image/watch/d/j/c/...   \n",
              "114    [\"http://img6a.flixcart.com/image/watch/8/e/y/...   \n",
              "134    [\"http://img6a.flixcart.com/image/watch/7/g/m/...   \n",
              "137    [\"http://img5a.flixcart.com/image/watch/8/e/4/...   \n",
              "...                                                  ...   \n",
              "19399  [\"http://img6a.flixcart.com/image/hand-messeng...   \n",
              "19400  [\"http://img6a.flixcart.com/image/hand-messeng...   \n",
              "19401  [\"http://img6a.flixcart.com/image/hand-messeng...   \n",
              "19408  [\"http://img6a.flixcart.com/image/shoe/g/u/z/w...   \n",
              "19416  [\"http://img6a.flixcart.com/image/hand-messeng...   \n",
              "\n",
              "       is_FK_Advantage_product  \\\n",
              "76                       False   \n",
              "108                      False   \n",
              "114                      False   \n",
              "134                      False   \n",
              "137                      False   \n",
              "...                        ...   \n",
              "19399                    False   \n",
              "19400                    False   \n",
              "19401                    False   \n",
              "19408                    False   \n",
              "19416                    False   \n",
              "\n",
              "                                             description       product_rating  \\\n",
              "76     Key Features of Eurospa Cotton Terry Face Towe...  No rating available   \n",
              "108    TAG Heuer CAU1116.BA0858 Formula 1 Analog Watc...  No rating available   \n",
              "114    Costa Swiss CS-2001 Analog Watch  - For Boys, ...  No rating available   \n",
              "134    Cartier W6701005 Analog Watch  - For Boys, Men...  No rating available   \n",
              "137    Lois Caron LCS-4032 Analog Watch  - For Boys, ...  No rating available   \n",
              "...                                                  ...                  ...   \n",
              "19399  Key Features of raju purse collection Shoulder...  No rating available   \n",
              "19400  Key Features of ALL DAY 365 Shoulder Bag Ideal...  No rating available   \n",
              "19401  Key Features of Raju Purse Collection Shoulder...  No rating available   \n",
              "19408  Key Features of GoWell Canvas Shoes Material: ...  No rating available   \n",
              "19416  Key Features of raju purse collection Hand-hel...  No rating available   \n",
              "\n",
              "            overall_rating                  brand  \\\n",
              "76     No rating available                Eurospa   \n",
              "108    No rating available                    NaN   \n",
              "114    No rating available                    NaN   \n",
              "134    No rating available                    NaN   \n",
              "137    No rating available                    NaN   \n",
              "...                    ...                    ...   \n",
              "19399  No rating available  raju purse collection   \n",
              "19400  No rating available            ALL DAY 365   \n",
              "19401  No rating available  Raju Purse Collection   \n",
              "19408  No rating available                 GoWell   \n",
              "19416  No rating available  raju purse collection   \n",
              "\n",
              "                                  product_specifications gender  \n",
              "76     {\"product_specification\"=>[{\"key\"=>\"Material\",...  women  \n",
              "108    {\"product_specification\"=>[{\"key\"=>\"Chronograp...    men  \n",
              "114    {\"product_specification\"=>[{\"key\"=>\"Chronograp...    men  \n",
              "134    {\"product_specification\"=>[{\"key\"=>\"Chronograp...    men  \n",
              "137    {\"product_specification\"=>[{\"key\"=>\"Type\", \"va...    men  \n",
              "...                                                  ...    ...  \n",
              "19399  {\"product_specification\"=>[{\"key\"=>\"Closure\", ...  women  \n",
              "19400  {\"product_specification\"=>[{\"key\"=>\"Closure\", ...  women  \n",
              "19401  {\"product_specification\"=>[{\"key\"=>\"Closure\", ...  women  \n",
              "19408  {\"product_specification\"=>[{\"key\"=>\"Ideal For\"...  women  \n",
              "19416  {\"product_specification\"=>[{\"key\"=>\"Closure\", ...  women  \n",
              "\n",
              "[178 rows x 16 columns]"
            ]
          },
          "execution_count": 50,
          "metadata": {},
          "output_type": "execute_result"
        }
      ],
      "source": [
        "final_testing.loc[final_testing['gender'].isin(['men', 'both', 'women'])]"
      ]
    },
    {
      "cell_type": "code",
      "execution_count": 51,
      "metadata": {
        "id": "3FEtUgDi9GXB"
      },
      "outputs": [],
      "source": [
        "final_testing = final_testing.dropna(axis=0, subset=['gender'])"
      ]
    },
    {
      "cell_type": "code",
      "execution_count": 52,
      "metadata": {
        "colab": {
          "base_uri": "https://localhost:8080/"
        },
        "id": "npTsaDer9GXD",
        "outputId": "da18de82-c2e1-45de-c652-a1fe92d0d542"
      },
      "outputs": [
        {
          "data": {
            "text/plain": [
              "(178, 16)"
            ]
          },
          "execution_count": 52,
          "metadata": {},
          "output_type": "execute_result"
        }
      ],
      "source": [
        "final_testing.shape"
      ]
    },
    {
      "cell_type": "code",
      "execution_count": 53,
      "metadata": {
        "id": "cl1rN0P39GXD"
      },
      "outputs": [],
      "source": [
        "testing = testing.dropna(axis=0, subset=['gender'])"
      ]
    },
    {
      "cell_type": "code",
      "execution_count": 54,
      "metadata": {
        "colab": {
          "base_uri": "https://localhost:8080/"
        },
        "id": "aFtyfrnN9GXE",
        "outputId": "6bc778f6-5549-49b5-95c1-92656caab0ce"
      },
      "outputs": [
        {
          "data": {
            "text/plain": [
              "(51, 16)"
            ]
          },
          "execution_count": 54,
          "metadata": {},
          "output_type": "execute_result"
        }
      ],
      "source": [
        "testing.shape"
      ]
    },
    {
      "cell_type": "code",
      "execution_count": 55,
      "metadata": {
        "id": "TXJvLON79GXE"
      },
      "outputs": [],
      "source": [
        "main_df = main_df.dropna(axis=0, subset=['gender'])"
      ]
    },
    {
      "cell_type": "code",
      "execution_count": 56,
      "metadata": {
        "colab": {
          "base_uri": "https://localhost:8080/"
        },
        "id": "Bm5sbYbD9GXF",
        "outputId": "fa2de50e-b656-42c0-d030-876a9678d1f9"
      },
      "outputs": [
        {
          "data": {
            "text/plain": [
              "(6245, 16)"
            ]
          },
          "execution_count": 56,
          "metadata": {},
          "output_type": "execute_result"
        }
      ],
      "source": [
        "main_df.shape"
      ]
    },
    {
      "cell_type": "markdown",
      "metadata": {
        "id": "BvPK3Lls9KMA"
      },
      "source": [
        "Now we combine the second dataset,"
      ]
    },
    {
      "cell_type": "code",
      "execution_count": 57,
      "metadata": {
        "id": "TuA05eMg9Ry3"
      },
      "outputs": [],
      "source": [
        "dfs = [main_df, testing, final_testing]"
      ]
    },
    {
      "cell_type": "code",
      "execution_count": 58,
      "metadata": {
        "id": "xJHCMYE09Ry4"
      },
      "outputs": [],
      "source": [
        "merged2 = pd.concat(dfs)"
      ]
    },
    {
      "cell_type": "code",
      "execution_count": 59,
      "metadata": {
        "id": "2ouubs2L9Ry5"
      },
      "outputs": [],
      "source": [
        "merged2.reset_index(inplace=True)"
      ]
    },
    {
      "cell_type": "code",
      "execution_count": 60,
      "metadata": {
        "colab": {
          "base_uri": "https://localhost:8080/",
          "height": 600
        },
        "id": "1EOxe1_K9W6N",
        "outputId": "50483bcc-2c42-4122-9496-a5b4e7efbe7f"
      },
      "outputs": [
        {
          "data": {
            "text/html": [
              "\n",
              "  <div id=\"df-e04004e6-a49f-4a11-aa0d-d047b564fc02\">\n",
              "    <div class=\"colab-df-container\">\n",
              "      <div>\n",
              "<style scoped>\n",
              "    .dataframe tbody tr th:only-of-type {\n",
              "        vertical-align: middle;\n",
              "    }\n",
              "\n",
              "    .dataframe tbody tr th {\n",
              "        vertical-align: top;\n",
              "    }\n",
              "\n",
              "    .dataframe thead th {\n",
              "        text-align: right;\n",
              "    }\n",
              "</style>\n",
              "<table border=\"1\" class=\"dataframe\">\n",
              "  <thead>\n",
              "    <tr style=\"text-align: right;\">\n",
              "      <th></th>\n",
              "      <th>index</th>\n",
              "      <th>uniq_id</th>\n",
              "      <th>crawl_timestamp</th>\n",
              "      <th>product_url</th>\n",
              "      <th>product_name</th>\n",
              "      <th>product_category_tree</th>\n",
              "      <th>pid</th>\n",
              "      <th>retail_price</th>\n",
              "      <th>discounted_price</th>\n",
              "      <th>image</th>\n",
              "      <th>is_FK_Advantage_product</th>\n",
              "      <th>description</th>\n",
              "      <th>product_rating</th>\n",
              "      <th>overall_rating</th>\n",
              "      <th>brand</th>\n",
              "      <th>product_specifications</th>\n",
              "      <th>gender</th>\n",
              "    </tr>\n",
              "  </thead>\n",
              "  <tbody>\n",
              "    <tr>\n",
              "      <th>0</th>\n",
              "      <td>0</td>\n",
              "      <td>c2d766ca982eca8304150849735ffef9</td>\n",
              "      <td>2016-03-25 22:59:23 +0000</td>\n",
              "      <td>http://www.flipkart.com/alisha-solid-women-s-c...</td>\n",
              "      <td>Alisha Solid Women's Cycling Shorts</td>\n",
              "      <td>[\"Clothing &gt;&gt; Women's Clothing &gt;&gt; Lingerie, Sl...</td>\n",
              "      <td>SRTEH2FF9KEDEFGF</td>\n",
              "      <td>999.0</td>\n",
              "      <td>379.0</td>\n",
              "      <td>[\"http://img5a.flixcart.com/image/short/u/4/a/...</td>\n",
              "      <td>False</td>\n",
              "      <td>Key Features of Alisha Solid Women's Cycling S...</td>\n",
              "      <td>No rating available</td>\n",
              "      <td>No rating available</td>\n",
              "      <td>Alisha</td>\n",
              "      <td>{\"product_specification\"=&gt;[{\"key\"=&gt;\"Number of ...</td>\n",
              "      <td>women</td>\n",
              "    </tr>\n",
              "    <tr>\n",
              "      <th>1</th>\n",
              "      <td>2</td>\n",
              "      <td>f449ec65dcbc041b6ae5e6a32717d01b</td>\n",
              "      <td>2016-03-25 22:59:23 +0000</td>\n",
              "      <td>http://www.flipkart.com/aw-bellies/p/itmeh4grg...</td>\n",
              "      <td>AW Bellies</td>\n",
              "      <td>[\"Footwear &gt;&gt; Women's Footwear &gt;&gt; Ballerinas &gt;...</td>\n",
              "      <td>SHOEH4GRSUBJGZXE</td>\n",
              "      <td>999.0</td>\n",
              "      <td>499.0</td>\n",
              "      <td>[\"http://img5a.flixcart.com/image/shoe/7/z/z/r...</td>\n",
              "      <td>False</td>\n",
              "      <td>Key Features of AW Bellies Sandals Wedges Heel...</td>\n",
              "      <td>No rating available</td>\n",
              "      <td>No rating available</td>\n",
              "      <td>AW</td>\n",
              "      <td>{\"product_specification\"=&gt;[{\"key\"=&gt;\"Ideal For\"...</td>\n",
              "      <td>women</td>\n",
              "    </tr>\n",
              "    <tr>\n",
              "      <th>2</th>\n",
              "      <td>8</td>\n",
              "      <td>29c8d290caa451f97b1c32df64477a2c</td>\n",
              "      <td>2016-03-25 22:59:23 +0000</td>\n",
              "      <td>http://www.flipkart.com/dilli-bazaaar-bellies-...</td>\n",
              "      <td>dilli bazaaar Bellies, Corporate Casuals, Casuals</td>\n",
              "      <td>[\"Footwear &gt;&gt; Women's Footwear &gt;&gt; Ballerinas &gt;...</td>\n",
              "      <td>SHOEH3DZBFR88SCK</td>\n",
              "      <td>699.0</td>\n",
              "      <td>349.0</td>\n",
              "      <td>[\"http://img6a.flixcart.com/image/shoe/b/p/n/p...</td>\n",
              "      <td>False</td>\n",
              "      <td>Key Features of dilli bazaaar Bellies, Corpora...</td>\n",
              "      <td>No rating available</td>\n",
              "      <td>No rating available</td>\n",
              "      <td>dilli bazaaar</td>\n",
              "      <td>{\"product_specification\"=&gt;[{\"key\"=&gt;\"Occasion\",...</td>\n",
              "      <td>women</td>\n",
              "    </tr>\n",
              "    <tr>\n",
              "      <th>3</th>\n",
              "      <td>10</td>\n",
              "      <td>e54bc0a7c3429da2ebef0b30331fe3d2</td>\n",
              "      <td>2016-03-25 22:59:23 +0000</td>\n",
              "      <td>http://www.flipkart.com/ladela-bellies/p/itmeh...</td>\n",
              "      <td>Ladela Bellies</td>\n",
              "      <td>[\"Footwear &gt;&gt; Women's Footwear &gt;&gt; Ballerinas &gt;...</td>\n",
              "      <td>SHOEH4KM2W3Z6EH5</td>\n",
              "      <td>1724.0</td>\n",
              "      <td>950.0</td>\n",
              "      <td>[\"http://img5a.flixcart.com/image/shoe/s/g/m/b...</td>\n",
              "      <td>False</td>\n",
              "      <td>Key Features of Ladela Bellies Brand: LADELA C...</td>\n",
              "      <td>5</td>\n",
              "      <td>5</td>\n",
              "      <td>Ladela</td>\n",
              "      <td>{\"product_specification\"=&gt;[{\"key\"=&gt;\"Occasion\",...</td>\n",
              "      <td>women</td>\n",
              "    </tr>\n",
              "    <tr>\n",
              "      <th>4</th>\n",
              "      <td>11</td>\n",
              "      <td>c73e78fb440ff8972e0762daed4fc109</td>\n",
              "      <td>2016-03-25 22:59:23 +0000</td>\n",
              "      <td>http://www.flipkart.com/carrel-printed-women-s...</td>\n",
              "      <td>Carrel Printed Women's</td>\n",
              "      <td>[\"Clothing &gt;&gt; Women's Clothing &gt;&gt; Sports &amp; Gym...</td>\n",
              "      <td>SWIEHF3EF5PZAZUY</td>\n",
              "      <td>2299.0</td>\n",
              "      <td>910.0</td>\n",
              "      <td>[\"http://img6a.flixcart.com/image/swimsuit/5/v...</td>\n",
              "      <td>False</td>\n",
              "      <td>Key Features of Carrel Printed Women's Fabric:...</td>\n",
              "      <td>No rating available</td>\n",
              "      <td>No rating available</td>\n",
              "      <td>Carrel</td>\n",
              "      <td>{\"product_specification\"=&gt;[{\"key\"=&gt;\"Neck\", \"va...</td>\n",
              "      <td>women</td>\n",
              "    </tr>\n",
              "  </tbody>\n",
              "</table>\n",
              "</div>\n",
              "      <button class=\"colab-df-convert\" onclick=\"convertToInteractive('df-e04004e6-a49f-4a11-aa0d-d047b564fc02')\"\n",
              "              title=\"Convert this dataframe to an interactive table.\"\n",
              "              style=\"display:none;\">\n",
              "        \n",
              "  <svg xmlns=\"http://www.w3.org/2000/svg\" height=\"24px\"viewBox=\"0 0 24 24\"\n",
              "       width=\"24px\">\n",
              "    <path d=\"M0 0h24v24H0V0z\" fill=\"none\"/>\n",
              "    <path d=\"M18.56 5.44l.94 2.06.94-2.06 2.06-.94-2.06-.94-.94-2.06-.94 2.06-2.06.94zm-11 1L8.5 8.5l.94-2.06 2.06-.94-2.06-.94L8.5 2.5l-.94 2.06-2.06.94zm10 10l.94 2.06.94-2.06 2.06-.94-2.06-.94-.94-2.06-.94 2.06-2.06.94z\"/><path d=\"M17.41 7.96l-1.37-1.37c-.4-.4-.92-.59-1.43-.59-.52 0-1.04.2-1.43.59L10.3 9.45l-7.72 7.72c-.78.78-.78 2.05 0 2.83L4 21.41c.39.39.9.59 1.41.59.51 0 1.02-.2 1.41-.59l7.78-7.78 2.81-2.81c.8-.78.8-2.07 0-2.86zM5.41 20L4 18.59l7.72-7.72 1.47 1.35L5.41 20z\"/>\n",
              "  </svg>\n",
              "      </button>\n",
              "      \n",
              "  <style>\n",
              "    .colab-df-container {\n",
              "      display:flex;\n",
              "      flex-wrap:wrap;\n",
              "      gap: 12px;\n",
              "    }\n",
              "\n",
              "    .colab-df-convert {\n",
              "      background-color: #E8F0FE;\n",
              "      border: none;\n",
              "      border-radius: 50%;\n",
              "      cursor: pointer;\n",
              "      display: none;\n",
              "      fill: #1967D2;\n",
              "      height: 32px;\n",
              "      padding: 0 0 0 0;\n",
              "      width: 32px;\n",
              "    }\n",
              "\n",
              "    .colab-df-convert:hover {\n",
              "      background-color: #E2EBFA;\n",
              "      box-shadow: 0px 1px 2px rgba(60, 64, 67, 0.3), 0px 1px 3px 1px rgba(60, 64, 67, 0.15);\n",
              "      fill: #174EA6;\n",
              "    }\n",
              "\n",
              "    [theme=dark] .colab-df-convert {\n",
              "      background-color: #3B4455;\n",
              "      fill: #D2E3FC;\n",
              "    }\n",
              "\n",
              "    [theme=dark] .colab-df-convert:hover {\n",
              "      background-color: #434B5C;\n",
              "      box-shadow: 0px 1px 3px 1px rgba(0, 0, 0, 0.15);\n",
              "      filter: drop-shadow(0px 1px 2px rgba(0, 0, 0, 0.3));\n",
              "      fill: #FFFFFF;\n",
              "    }\n",
              "  </style>\n",
              "\n",
              "      <script>\n",
              "        const buttonEl =\n",
              "          document.querySelector('#df-e04004e6-a49f-4a11-aa0d-d047b564fc02 button.colab-df-convert');\n",
              "        buttonEl.style.display =\n",
              "          google.colab.kernel.accessAllowed ? 'block' : 'none';\n",
              "\n",
              "        async function convertToInteractive(key) {\n",
              "          const element = document.querySelector('#df-e04004e6-a49f-4a11-aa0d-d047b564fc02');\n",
              "          const dataTable =\n",
              "            await google.colab.kernel.invokeFunction('convertToInteractive',\n",
              "                                                     [key], {});\n",
              "          if (!dataTable) return;\n",
              "\n",
              "          const docLinkHtml = 'Like what you see? Visit the ' +\n",
              "            '<a target=\"_blank\" href=https://colab.research.google.com/notebooks/data_table.ipynb>data table notebook</a>'\n",
              "            + ' to learn more about interactive tables.';\n",
              "          element.innerHTML = '';\n",
              "          dataTable['output_type'] = 'display_data';\n",
              "          await google.colab.output.renderOutput(dataTable, element);\n",
              "          const docLink = document.createElement('div');\n",
              "          docLink.innerHTML = docLinkHtml;\n",
              "          element.appendChild(docLink);\n",
              "        }\n",
              "      </script>\n",
              "    </div>\n",
              "  </div>\n",
              "  "
            ],
            "text/plain": [
              "   index                           uniq_id            crawl_timestamp  \\\n",
              "0      0  c2d766ca982eca8304150849735ffef9  2016-03-25 22:59:23 +0000   \n",
              "1      2  f449ec65dcbc041b6ae5e6a32717d01b  2016-03-25 22:59:23 +0000   \n",
              "2      8  29c8d290caa451f97b1c32df64477a2c  2016-03-25 22:59:23 +0000   \n",
              "3     10  e54bc0a7c3429da2ebef0b30331fe3d2  2016-03-25 22:59:23 +0000   \n",
              "4     11  c73e78fb440ff8972e0762daed4fc109  2016-03-25 22:59:23 +0000   \n",
              "\n",
              "                                         product_url  \\\n",
              "0  http://www.flipkart.com/alisha-solid-women-s-c...   \n",
              "1  http://www.flipkart.com/aw-bellies/p/itmeh4grg...   \n",
              "2  http://www.flipkart.com/dilli-bazaaar-bellies-...   \n",
              "3  http://www.flipkart.com/ladela-bellies/p/itmeh...   \n",
              "4  http://www.flipkart.com/carrel-printed-women-s...   \n",
              "\n",
              "                                        product_name  \\\n",
              "0                Alisha Solid Women's Cycling Shorts   \n",
              "1                                         AW Bellies   \n",
              "2  dilli bazaaar Bellies, Corporate Casuals, Casuals   \n",
              "3                                     Ladela Bellies   \n",
              "4                             Carrel Printed Women's   \n",
              "\n",
              "                               product_category_tree               pid  \\\n",
              "0  [\"Clothing >> Women's Clothing >> Lingerie, Sl...  SRTEH2FF9KEDEFGF   \n",
              "1  [\"Footwear >> Women's Footwear >> Ballerinas >...  SHOEH4GRSUBJGZXE   \n",
              "2  [\"Footwear >> Women's Footwear >> Ballerinas >...  SHOEH3DZBFR88SCK   \n",
              "3  [\"Footwear >> Women's Footwear >> Ballerinas >...  SHOEH4KM2W3Z6EH5   \n",
              "4  [\"Clothing >> Women's Clothing >> Sports & Gym...  SWIEHF3EF5PZAZUY   \n",
              "\n",
              "   retail_price  discounted_price  \\\n",
              "0         999.0             379.0   \n",
              "1         999.0             499.0   \n",
              "2         699.0             349.0   \n",
              "3        1724.0             950.0   \n",
              "4        2299.0             910.0   \n",
              "\n",
              "                                               image  is_FK_Advantage_product  \\\n",
              "0  [\"http://img5a.flixcart.com/image/short/u/4/a/...                    False   \n",
              "1  [\"http://img5a.flixcart.com/image/shoe/7/z/z/r...                    False   \n",
              "2  [\"http://img6a.flixcart.com/image/shoe/b/p/n/p...                    False   \n",
              "3  [\"http://img5a.flixcart.com/image/shoe/s/g/m/b...                    False   \n",
              "4  [\"http://img6a.flixcart.com/image/swimsuit/5/v...                    False   \n",
              "\n",
              "                                         description       product_rating  \\\n",
              "0  Key Features of Alisha Solid Women's Cycling S...  No rating available   \n",
              "1  Key Features of AW Bellies Sandals Wedges Heel...  No rating available   \n",
              "2  Key Features of dilli bazaaar Bellies, Corpora...  No rating available   \n",
              "3  Key Features of Ladela Bellies Brand: LADELA C...                    5   \n",
              "4  Key Features of Carrel Printed Women's Fabric:...  No rating available   \n",
              "\n",
              "        overall_rating          brand  \\\n",
              "0  No rating available         Alisha   \n",
              "1  No rating available             AW   \n",
              "2  No rating available  dilli bazaaar   \n",
              "3                    5         Ladela   \n",
              "4  No rating available         Carrel   \n",
              "\n",
              "                              product_specifications gender  \n",
              "0  {\"product_specification\"=>[{\"key\"=>\"Number of ...  women  \n",
              "1  {\"product_specification\"=>[{\"key\"=>\"Ideal For\"...  women  \n",
              "2  {\"product_specification\"=>[{\"key\"=>\"Occasion\",...  women  \n",
              "3  {\"product_specification\"=>[{\"key\"=>\"Occasion\",...  women  \n",
              "4  {\"product_specification\"=>[{\"key\"=>\"Neck\", \"va...  women  "
            ]
          },
          "execution_count": 60,
          "metadata": {},
          "output_type": "execute_result"
        }
      ],
      "source": [
        "merged2.head()"
      ]
    },
    {
      "cell_type": "markdown",
      "metadata": {
        "id": "Oiv2-LTD9mgj"
      },
      "source": [
        "Combining the two dataframes, to create a document set that will be used for comparison,"
      ]
    },
    {
      "cell_type": "code",
      "execution_count": 61,
      "metadata": {
        "id": "k77oT5rD9xDa"
      },
      "outputs": [],
      "source": [
        "merged2.rename(columns={'product_name':'title', 'product_category_tree':'category'}, inplace=True)"
      ]
    },
    {
      "cell_type": "markdown",
      "metadata": {
        "id": "O4DPIqC78Vep"
      },
      "source": [
        "For the scope of this statement, we will drop:\n",
        "\n",
        "\n",
        "> _id, actual_price, average_rating, crawled_at, discount, images, out_of_stock, pid, selling_price\n",
        "\n"
      ]
    },
    {
      "cell_type": "code",
      "execution_count": 62,
      "metadata": {
        "id": "hOEWPFoZ8VBc"
      },
      "outputs": [],
      "source": [
        "drop_columns = ['_id', 'actual_price', 'average_rating', 'crawled_at', 'discount', 'images', 'out_of_stock', 'pid', 'selling_price']"
      ]
    },
    {
      "cell_type": "code",
      "execution_count": 63,
      "metadata": {
        "id": "ShqTRbHe85Mo"
      },
      "outputs": [],
      "source": [
        "data.drop(drop_columns, axis=1, inplace=True)"
      ]
    },
    {
      "cell_type": "code",
      "execution_count": 64,
      "metadata": {
        "colab": {
          "base_uri": "https://localhost:8080/"
        },
        "id": "pNuLNnUN8-up",
        "outputId": "58f4e3b9-613c-4853-d9d8-25ec64048801"
      },
      "outputs": [
        {
          "data": {
            "text/plain": [
              "[{'Style Code': '1005BLUE'},\n",
              " {'Closure': 'Drawstring, Elastic'},\n",
              " {'Pockets': 'Side Pockets'},\n",
              " {'Fabric': 'Cotton Blend'},\n",
              " {'Pattern': 'Solid'},\n",
              " {'Color': 'Blue'}]"
            ]
          },
          "execution_count": 64,
          "metadata": {},
          "output_type": "execute_result"
        }
      ],
      "source": [
        "data['product_details'][1]"
      ]
    },
    {
      "cell_type": "code",
      "execution_count": 65,
      "metadata": {
        "colab": {
          "base_uri": "https://localhost:8080/"
        },
        "id": "vyBqD0MRwbox",
        "outputId": "2f306273-489e-476c-ff8e-935b7798ba5b"
      },
      "outputs": [
        {
          "data": {
            "text/plain": [
              "Index(['brand', 'category', 'description', 'product_details', 'seller',\n",
              "       'sub_category', 'title', 'url', 'gender'],\n",
              "      dtype='object')"
            ]
          },
          "execution_count": 65,
          "metadata": {},
          "output_type": "execute_result"
        }
      ],
      "source": [
        "data.columns"
      ]
    },
    {
      "cell_type": "code",
      "execution_count": 66,
      "metadata": {
        "colab": {
          "base_uri": "https://localhost:8080/"
        },
        "id": "QYHHiGwz9ZTi",
        "outputId": "d97cfb9e-6f2c-4415-c7ec-9b89c4ffe0d8"
      },
      "outputs": [
        {
          "data": {
            "text/plain": [
              "Index(['index', '_id', 'actual_price', 'average_rating', 'brand', 'category',\n",
              "       'crawled_at', 'description', 'discount', 'images', 'out_of_stock',\n",
              "       'pid', 'product_details', 'seller', 'selling_price', 'sub_category',\n",
              "       'title', 'url', 'gender'],\n",
              "      dtype='object')"
            ]
          },
          "execution_count": 66,
          "metadata": {},
          "output_type": "execute_result"
        }
      ],
      "source": [
        "merged1.columns"
      ]
    },
    {
      "cell_type": "code",
      "execution_count": 67,
      "metadata": {
        "colab": {
          "base_uri": "https://localhost:8080/"
        },
        "id": "EwkO0N_zN2I5",
        "outputId": "a1662ab4-54ea-4444-9d1a-5dbc3e853afa"
      },
      "outputs": [
        {
          "data": {
            "text/plain": [
              "men      4438\n",
              "both       36\n",
              "women       6\n",
              "Name: gender, dtype: int64"
            ]
          },
          "execution_count": 67,
          "metadata": {},
          "output_type": "execute_result"
        }
      ],
      "source": [
        "merged1.gender.value_counts()"
      ]
    },
    {
      "cell_type": "code",
      "execution_count": 68,
      "metadata": {
        "colab": {
          "base_uri": "https://localhost:8080/"
        },
        "id": "Qij2BhYN-WMk",
        "outputId": "c893924b-ed2c-46dd-e1f1-9435e26512ff"
      },
      "outputs": [
        {
          "data": {
            "text/plain": [
              "women    4482\n",
              "men      1988\n",
              "both        4\n",
              "Name: gender, dtype: int64"
            ]
          },
          "execution_count": 68,
          "metadata": {},
          "output_type": "execute_result"
        }
      ],
      "source": [
        "merged2.gender.value_counts()"
      ]
    },
    {
      "cell_type": "markdown",
      "metadata": {
        "id": "9T8I0EKP-y2s"
      },
      "source": [
        "Doing Preprocesing,\n",
        "\n",
        "1.   Removing all irrelevant characters (Numbers and Punctuation)\n",
        "2.   Convert all characters into lowercase\n",
        "3.   Tokenization\n",
        "4.   Removing Stopwords\n",
        "5.   Stemming and Lemmatization\n",
        "6.   Removing the words having length <=2\n",
        "7.   Convert the list of tokens into back to the string\n"
      ]
    },
    {
      "cell_type": "markdown",
      "metadata": {
        "id": "TI9HYjFRALu0"
      },
      "source": [
        "1. Removing irrelevant,"
      ]
    },
    {
      "cell_type": "code",
      "execution_count": 69,
      "metadata": {
        "id": "o7AqBYFM_HNf"
      },
      "outputs": [],
      "source": [
        "def remove_irrelevant(some_text):\n",
        "  return re.sub('[^a-zA-Z]', ' ', some_text)"
      ]
    },
    {
      "cell_type": "code",
      "execution_count": 70,
      "metadata": {
        "colab": {
          "base_uri": "https://localhost:8080/",
          "height": 617
        },
        "id": "fmYDWiU_AEOJ",
        "outputId": "63f0da5b-c231-4d90-d831-c929ab422a42"
      },
      "outputs": [
        {
          "data": {
            "text/html": [
              "\n",
              "  <div id=\"df-3a3ee6d5-4585-455d-8fdc-bf1e65da556f\">\n",
              "    <div class=\"colab-df-container\">\n",
              "      <div>\n",
              "<style scoped>\n",
              "    .dataframe tbody tr th:only-of-type {\n",
              "        vertical-align: middle;\n",
              "    }\n",
              "\n",
              "    .dataframe tbody tr th {\n",
              "        vertical-align: top;\n",
              "    }\n",
              "\n",
              "    .dataframe thead th {\n",
              "        text-align: right;\n",
              "    }\n",
              "</style>\n",
              "<table border=\"1\" class=\"dataframe\">\n",
              "  <thead>\n",
              "    <tr style=\"text-align: right;\">\n",
              "      <th></th>\n",
              "      <th>index</th>\n",
              "      <th>_id</th>\n",
              "      <th>actual_price</th>\n",
              "      <th>average_rating</th>\n",
              "      <th>brand</th>\n",
              "      <th>category</th>\n",
              "      <th>crawled_at</th>\n",
              "      <th>description</th>\n",
              "      <th>discount</th>\n",
              "      <th>images</th>\n",
              "      <th>out_of_stock</th>\n",
              "      <th>pid</th>\n",
              "      <th>product_details</th>\n",
              "      <th>seller</th>\n",
              "      <th>selling_price</th>\n",
              "      <th>sub_category</th>\n",
              "      <th>title</th>\n",
              "      <th>url</th>\n",
              "      <th>gender</th>\n",
              "    </tr>\n",
              "  </thead>\n",
              "  <tbody>\n",
              "    <tr>\n",
              "      <th>0</th>\n",
              "      <td>0</td>\n",
              "      <td>fa8e22d6-c0b6-5229-bb9e-ad52eda39a0a</td>\n",
              "      <td>2,999</td>\n",
              "      <td>3.9</td>\n",
              "      <td>York</td>\n",
              "      <td>Clothing and Accessories</td>\n",
              "      <td>2021-02-10 20:11:51</td>\n",
              "      <td>Yorker trackpants made from 100% rich combed c...</td>\n",
              "      <td>69% off</td>\n",
              "      <td>[https://rukminim1.flixcart.com/image/128/128/...</td>\n",
              "      <td>False</td>\n",
              "      <td>TKPFCZ9EA7H5FYZH</td>\n",
              "      <td>[{'Style Code': '1005COMBO2'}, {'Closure': 'El...</td>\n",
              "      <td>Shyam Enterprises</td>\n",
              "      <td>921</td>\n",
              "      <td>Bottomwear</td>\n",
              "      <td>Solid Men Multicolor Track Pants</td>\n",
              "      <td>https://www.flipkart.com/yorker-solid-men-mult...</td>\n",
              "      <td>men</td>\n",
              "    </tr>\n",
              "    <tr>\n",
              "      <th>1</th>\n",
              "      <td>1</td>\n",
              "      <td>893e6980-f2a0-531f-b056-34dd63fe912c</td>\n",
              "      <td>1,499</td>\n",
              "      <td>3.9</td>\n",
              "      <td>York</td>\n",
              "      <td>Clothing and Accessories</td>\n",
              "      <td>2021-02-10 20:11:52</td>\n",
              "      <td>Yorker trackpants made from 100% rich combed c...</td>\n",
              "      <td>66% off</td>\n",
              "      <td>[https://rukminim1.flixcart.com/image/128/128/...</td>\n",
              "      <td>False</td>\n",
              "      <td>TKPFCZ9EJZV2UVRZ</td>\n",
              "      <td>[{'Style Code': '1005BLUE'}, {'Closure': 'Draw...</td>\n",
              "      <td>Shyam Enterprises</td>\n",
              "      <td>499</td>\n",
              "      <td>Bottomwear</td>\n",
              "      <td>Solid Men Blue Track Pants</td>\n",
              "      <td>https://www.flipkart.com/yorker-solid-men-blue...</td>\n",
              "      <td>men</td>\n",
              "    </tr>\n",
              "    <tr>\n",
              "      <th>2</th>\n",
              "      <td>4</td>\n",
              "      <td>750caa3d-6264-53ca-8ce1-94118a1d8951</td>\n",
              "      <td>2,999</td>\n",
              "      <td>3.9</td>\n",
              "      <td>York</td>\n",
              "      <td>Clothing and Accessories</td>\n",
              "      <td>2021-02-10 20:11:53</td>\n",
              "      <td>Yorker trackpants made from 100% rich combed c...</td>\n",
              "      <td>68% off</td>\n",
              "      <td>[https://rukminim1.flixcart.com/image/128/128/...</td>\n",
              "      <td>False</td>\n",
              "      <td>TKPFCZ9EVXKBSUD7</td>\n",
              "      <td>[{'Style Code': '1005COMBO1'}, {'Closure': 'Dr...</td>\n",
              "      <td>Shyam Enterprises</td>\n",
              "      <td>943</td>\n",
              "      <td>Bottomwear</td>\n",
              "      <td>Solid Men Brown, Grey Track Pants</td>\n",
              "      <td>https://www.flipkart.com/yorker-solid-men-brow...</td>\n",
              "      <td>men</td>\n",
              "    </tr>\n",
              "    <tr>\n",
              "      <th>3</th>\n",
              "      <td>6</td>\n",
              "      <td>1b1d40cc-4eaa-54cf-8938-e59ecae5f19e</td>\n",
              "      <td>1,499</td>\n",
              "      <td>3.8</td>\n",
              "      <td>York</td>\n",
              "      <td>Clothing and Accessories</td>\n",
              "      <td>2021-02-10 20:11:54</td>\n",
              "      <td>Yorker trackpants made from 100% rich combed c...</td>\n",
              "      <td>68% off</td>\n",
              "      <td>[https://rukminim1.flixcart.com/image/128/128/...</td>\n",
              "      <td>False</td>\n",
              "      <td>TKPFDABN3GXYPFHE</td>\n",
              "      <td>[{'Style Code': '1005NAVI'}, {'Closure': 'Elas...</td>\n",
              "      <td>Shyam Enterprises</td>\n",
              "      <td>466</td>\n",
              "      <td>Bottomwear</td>\n",
              "      <td>Solid Men Dark Blue Track Pants</td>\n",
              "      <td>https://www.flipkart.com/yorker-solid-men-dark...</td>\n",
              "      <td>men</td>\n",
              "    </tr>\n",
              "    <tr>\n",
              "      <th>4</th>\n",
              "      <td>7</td>\n",
              "      <td>a33cf2e2-c5e4-5f06-b3aa-8f46a6fd1aef</td>\n",
              "      <td>1,499</td>\n",
              "      <td>3.8</td>\n",
              "      <td>York</td>\n",
              "      <td>Clothing and Accessories</td>\n",
              "      <td>2021-02-10 20:11:55</td>\n",
              "      <td>Yorker trackpants made from 100% rich combed c...</td>\n",
              "      <td>63% off</td>\n",
              "      <td>[https://rukminim1.flixcart.com/image/128/128/...</td>\n",
              "      <td>False</td>\n",
              "      <td>TKPFCZ9ESGZYT8NH</td>\n",
              "      <td>[{'Style Code': '1005DSKIN'}, {'Closure': 'Ela...</td>\n",
              "      <td>Shyam Enterprises</td>\n",
              "      <td>545</td>\n",
              "      <td>Bottomwear</td>\n",
              "      <td>Solid Men Beige Track Pants</td>\n",
              "      <td>https://www.flipkart.com/yorker-solid-men-beig...</td>\n",
              "      <td>men</td>\n",
              "    </tr>\n",
              "  </tbody>\n",
              "</table>\n",
              "</div>\n",
              "      <button class=\"colab-df-convert\" onclick=\"convertToInteractive('df-3a3ee6d5-4585-455d-8fdc-bf1e65da556f')\"\n",
              "              title=\"Convert this dataframe to an interactive table.\"\n",
              "              style=\"display:none;\">\n",
              "        \n",
              "  <svg xmlns=\"http://www.w3.org/2000/svg\" height=\"24px\"viewBox=\"0 0 24 24\"\n",
              "       width=\"24px\">\n",
              "    <path d=\"M0 0h24v24H0V0z\" fill=\"none\"/>\n",
              "    <path d=\"M18.56 5.44l.94 2.06.94-2.06 2.06-.94-2.06-.94-.94-2.06-.94 2.06-2.06.94zm-11 1L8.5 8.5l.94-2.06 2.06-.94-2.06-.94L8.5 2.5l-.94 2.06-2.06.94zm10 10l.94 2.06.94-2.06 2.06-.94-2.06-.94-.94-2.06-.94 2.06-2.06.94z\"/><path d=\"M17.41 7.96l-1.37-1.37c-.4-.4-.92-.59-1.43-.59-.52 0-1.04.2-1.43.59L10.3 9.45l-7.72 7.72c-.78.78-.78 2.05 0 2.83L4 21.41c.39.39.9.59 1.41.59.51 0 1.02-.2 1.41-.59l7.78-7.78 2.81-2.81c.8-.78.8-2.07 0-2.86zM5.41 20L4 18.59l7.72-7.72 1.47 1.35L5.41 20z\"/>\n",
              "  </svg>\n",
              "      </button>\n",
              "      \n",
              "  <style>\n",
              "    .colab-df-container {\n",
              "      display:flex;\n",
              "      flex-wrap:wrap;\n",
              "      gap: 12px;\n",
              "    }\n",
              "\n",
              "    .colab-df-convert {\n",
              "      background-color: #E8F0FE;\n",
              "      border: none;\n",
              "      border-radius: 50%;\n",
              "      cursor: pointer;\n",
              "      display: none;\n",
              "      fill: #1967D2;\n",
              "      height: 32px;\n",
              "      padding: 0 0 0 0;\n",
              "      width: 32px;\n",
              "    }\n",
              "\n",
              "    .colab-df-convert:hover {\n",
              "      background-color: #E2EBFA;\n",
              "      box-shadow: 0px 1px 2px rgba(60, 64, 67, 0.3), 0px 1px 3px 1px rgba(60, 64, 67, 0.15);\n",
              "      fill: #174EA6;\n",
              "    }\n",
              "\n",
              "    [theme=dark] .colab-df-convert {\n",
              "      background-color: #3B4455;\n",
              "      fill: #D2E3FC;\n",
              "    }\n",
              "\n",
              "    [theme=dark] .colab-df-convert:hover {\n",
              "      background-color: #434B5C;\n",
              "      box-shadow: 0px 1px 3px 1px rgba(0, 0, 0, 0.15);\n",
              "      filter: drop-shadow(0px 1px 2px rgba(0, 0, 0, 0.3));\n",
              "      fill: #FFFFFF;\n",
              "    }\n",
              "  </style>\n",
              "\n",
              "      <script>\n",
              "        const buttonEl =\n",
              "          document.querySelector('#df-3a3ee6d5-4585-455d-8fdc-bf1e65da556f button.colab-df-convert');\n",
              "        buttonEl.style.display =\n",
              "          google.colab.kernel.accessAllowed ? 'block' : 'none';\n",
              "\n",
              "        async function convertToInteractive(key) {\n",
              "          const element = document.querySelector('#df-3a3ee6d5-4585-455d-8fdc-bf1e65da556f');\n",
              "          const dataTable =\n",
              "            await google.colab.kernel.invokeFunction('convertToInteractive',\n",
              "                                                     [key], {});\n",
              "          if (!dataTable) return;\n",
              "\n",
              "          const docLinkHtml = 'Like what you see? Visit the ' +\n",
              "            '<a target=\"_blank\" href=https://colab.research.google.com/notebooks/data_table.ipynb>data table notebook</a>'\n",
              "            + ' to learn more about interactive tables.';\n",
              "          element.innerHTML = '';\n",
              "          dataTable['output_type'] = 'display_data';\n",
              "          await google.colab.output.renderOutput(dataTable, element);\n",
              "          const docLink = document.createElement('div');\n",
              "          docLink.innerHTML = docLinkHtml;\n",
              "          element.appendChild(docLink);\n",
              "        }\n",
              "      </script>\n",
              "    </div>\n",
              "  </div>\n",
              "  "
            ],
            "text/plain": [
              "   index                                   _id actual_price average_rating  \\\n",
              "0      0  fa8e22d6-c0b6-5229-bb9e-ad52eda39a0a        2,999            3.9   \n",
              "1      1  893e6980-f2a0-531f-b056-34dd63fe912c        1,499            3.9   \n",
              "2      4  750caa3d-6264-53ca-8ce1-94118a1d8951        2,999            3.9   \n",
              "3      6  1b1d40cc-4eaa-54cf-8938-e59ecae5f19e        1,499            3.8   \n",
              "4      7  a33cf2e2-c5e4-5f06-b3aa-8f46a6fd1aef        1,499            3.8   \n",
              "\n",
              "  brand                  category          crawled_at  \\\n",
              "0  York  Clothing and Accessories 2021-02-10 20:11:51   \n",
              "1  York  Clothing and Accessories 2021-02-10 20:11:52   \n",
              "2  York  Clothing and Accessories 2021-02-10 20:11:53   \n",
              "3  York  Clothing and Accessories 2021-02-10 20:11:54   \n",
              "4  York  Clothing and Accessories 2021-02-10 20:11:55   \n",
              "\n",
              "                                         description discount  \\\n",
              "0  Yorker trackpants made from 100% rich combed c...  69% off   \n",
              "1  Yorker trackpants made from 100% rich combed c...  66% off   \n",
              "2  Yorker trackpants made from 100% rich combed c...  68% off   \n",
              "3  Yorker trackpants made from 100% rich combed c...  68% off   \n",
              "4  Yorker trackpants made from 100% rich combed c...  63% off   \n",
              "\n",
              "                                              images  out_of_stock  \\\n",
              "0  [https://rukminim1.flixcart.com/image/128/128/...         False   \n",
              "1  [https://rukminim1.flixcart.com/image/128/128/...         False   \n",
              "2  [https://rukminim1.flixcart.com/image/128/128/...         False   \n",
              "3  [https://rukminim1.flixcart.com/image/128/128/...         False   \n",
              "4  [https://rukminim1.flixcart.com/image/128/128/...         False   \n",
              "\n",
              "                pid                                    product_details  \\\n",
              "0  TKPFCZ9EA7H5FYZH  [{'Style Code': '1005COMBO2'}, {'Closure': 'El...   \n",
              "1  TKPFCZ9EJZV2UVRZ  [{'Style Code': '1005BLUE'}, {'Closure': 'Draw...   \n",
              "2  TKPFCZ9EVXKBSUD7  [{'Style Code': '1005COMBO1'}, {'Closure': 'Dr...   \n",
              "3  TKPFDABN3GXYPFHE  [{'Style Code': '1005NAVI'}, {'Closure': 'Elas...   \n",
              "4  TKPFCZ9ESGZYT8NH  [{'Style Code': '1005DSKIN'}, {'Closure': 'Ela...   \n",
              "\n",
              "              seller selling_price sub_category  \\\n",
              "0  Shyam Enterprises           921   Bottomwear   \n",
              "1  Shyam Enterprises           499   Bottomwear   \n",
              "2  Shyam Enterprises           943   Bottomwear   \n",
              "3  Shyam Enterprises           466   Bottomwear   \n",
              "4  Shyam Enterprises           545   Bottomwear   \n",
              "\n",
              "                               title  \\\n",
              "0   Solid Men Multicolor Track Pants   \n",
              "1         Solid Men Blue Track Pants   \n",
              "2  Solid Men Brown, Grey Track Pants   \n",
              "3    Solid Men Dark Blue Track Pants   \n",
              "4        Solid Men Beige Track Pants   \n",
              "\n",
              "                                                 url gender  \n",
              "0  https://www.flipkart.com/yorker-solid-men-mult...    men  \n",
              "1  https://www.flipkart.com/yorker-solid-men-blue...    men  \n",
              "2  https://www.flipkart.com/yorker-solid-men-brow...    men  \n",
              "3  https://www.flipkart.com/yorker-solid-men-dark...    men  \n",
              "4  https://www.flipkart.com/yorker-solid-men-beig...    men  "
            ]
          },
          "execution_count": 70,
          "metadata": {},
          "output_type": "execute_result"
        }
      ],
      "source": [
        "merged1.head()"
      ]
    },
    {
      "cell_type": "markdown",
      "metadata": {
        "id": "AIsuV4MBAUlw"
      },
      "source": [
        "2. Converting to lowercase,"
      ]
    },
    {
      "cell_type": "code",
      "execution_count": 71,
      "metadata": {
        "id": "KU4tzAi-ATTa"
      },
      "outputs": [],
      "source": [
        "def make_lowercase(some_text):\n",
        "  some_text = str(some_text).lower()\n",
        "  if 't shirt' in some_text:\n",
        "    some_text = some_text.replace('t shirt', 'tshirt') #tshirt behaves as an exceptional case with t being identified as trivial by most preprocessing techniques\n",
        "  return some_text"
      ]
    },
    {
      "cell_type": "markdown",
      "metadata": {
        "id": "-Ix6DkvCAk-3"
      },
      "source": [
        "3. Tokenization,"
      ]
    },
    {
      "cell_type": "code",
      "execution_count": 72,
      "metadata": {
        "id": "ReAvjwc_AoTa"
      },
      "outputs": [],
      "source": [
        "import nltk\n",
        "from nltk.tokenize import word_tokenize"
      ]
    },
    {
      "cell_type": "code",
      "execution_count": 73,
      "metadata": {
        "colab": {
          "base_uri": "https://localhost:8080/"
        },
        "id": "W9WVakyvBCXn",
        "outputId": "2e1faa02-b8bd-4755-f7d7-b12a29549080"
      },
      "outputs": [
        {
          "name": "stderr",
          "output_type": "stream",
          "text": [
            "[nltk_data] Downloading package punkt to /root/nltk_data...\n",
            "[nltk_data]   Unzipping tokenizers/punkt.zip.\n"
          ]
        },
        {
          "data": {
            "text/plain": [
              "True"
            ]
          },
          "execution_count": 73,
          "metadata": {},
          "output_type": "execute_result"
        }
      ],
      "source": [
        "nltk.download('punkt')"
      ]
    },
    {
      "cell_type": "code",
      "execution_count": 74,
      "metadata": {
        "id": "GvipV3YDAxVf"
      },
      "outputs": [],
      "source": [
        "def do_tokenization(some_text):\n",
        "  return word_tokenize(some_text)"
      ]
    },
    {
      "cell_type": "markdown",
      "metadata": {
        "id": "U8wzC1FYBO41"
      },
      "source": [
        "4. Removing stopwords,"
      ]
    },
    {
      "cell_type": "code",
      "execution_count": 75,
      "metadata": {
        "id": "F0lQvWU1BJ6b"
      },
      "outputs": [],
      "source": [
        "from nltk.corpus import stopwords"
      ]
    },
    {
      "cell_type": "code",
      "execution_count": 76,
      "metadata": {
        "colab": {
          "base_uri": "https://localhost:8080/"
        },
        "id": "v9Gd9QY9BdQf",
        "outputId": "7cc4efd6-d934-4e08-9cb5-a66c5f683e21"
      },
      "outputs": [
        {
          "name": "stderr",
          "output_type": "stream",
          "text": [
            "[nltk_data] Downloading package stopwords to /root/nltk_data...\n",
            "[nltk_data]   Unzipping corpora/stopwords.zip.\n"
          ]
        },
        {
          "data": {
            "text/plain": [
              "True"
            ]
          },
          "execution_count": 76,
          "metadata": {},
          "output_type": "execute_result"
        }
      ],
      "source": [
        "nltk.download('stopwords')"
      ]
    },
    {
      "cell_type": "code",
      "execution_count": 77,
      "metadata": {
        "id": "8BKtBS-sBV8V"
      },
      "outputs": [],
      "source": [
        "stop_words = set(stopwords.words('english'))"
      ]
    },
    {
      "cell_type": "code",
      "execution_count": 78,
      "metadata": {
        "id": "s3-CbPdABcHh"
      },
      "outputs": [],
      "source": [
        "def remove_stopwords(token):\n",
        "  return [item for item in token if item not in stop_words]"
      ]
    },
    {
      "cell_type": "markdown",
      "metadata": {
        "id": "2Fl7aAlqB0hT"
      },
      "source": [
        "5. Stemming and Lemmatization, (we go for Lemmatization)"
      ]
    },
    {
      "cell_type": "code",
      "execution_count": 79,
      "metadata": {
        "id": "_QIZYPllB3OD"
      },
      "outputs": [],
      "source": [
        "from nltk.stem import WordNetLemmatizer"
      ]
    },
    {
      "cell_type": "code",
      "execution_count": 80,
      "metadata": {
        "colab": {
          "base_uri": "https://localhost:8080/"
        },
        "id": "zCMOwF1CCc25",
        "outputId": "b0fccd11-bdf5-428c-f3a9-5bf0ee314470"
      },
      "outputs": [
        {
          "name": "stderr",
          "output_type": "stream",
          "text": [
            "[nltk_data] Downloading package wordnet to /root/nltk_data...\n",
            "[nltk_data] Downloading package omw-1.4 to /root/nltk_data...\n"
          ]
        },
        {
          "data": {
            "text/plain": [
              "True"
            ]
          },
          "execution_count": 80,
          "metadata": {},
          "output_type": "execute_result"
        }
      ],
      "source": [
        "nltk.download('wordnet')\n",
        "nltk.download('omw-1.4')"
      ]
    },
    {
      "cell_type": "code",
      "execution_count": 81,
      "metadata": {
        "id": "lQKOlXn9CHRm"
      },
      "outputs": [],
      "source": [
        "lemma = WordNetLemmatizer()"
      ]
    },
    {
      "cell_type": "code",
      "execution_count": 82,
      "metadata": {
        "id": "wjgiAFuiCKT2"
      },
      "outputs": [],
      "source": [
        "def do_lemmatization(token):\n",
        "  return [lemma.lemmatize(word=w, pos='v') for w in token]"
      ]
    },
    {
      "cell_type": "markdown",
      "metadata": {
        "id": "fOiW8mjbCqt_"
      },
      "source": [
        "6. Removng words with length <=2,"
      ]
    },
    {
      "cell_type": "code",
      "execution_count": 83,
      "metadata": {
        "id": "Wu2jCWmUCtg6"
      },
      "outputs": [],
      "source": [
        "def remove_small(token):\n",
        "  return [i for i in token if len(i) > 2]"
      ]
    },
    {
      "cell_type": "markdown",
      "metadata": {
        "id": "5btdAgb4C7Fg"
      },
      "source": [
        "7. Convert back to String,"
      ]
    },
    {
      "cell_type": "code",
      "execution_count": 84,
      "metadata": {
        "id": "GHlh-N4zDDE9"
      },
      "outputs": [],
      "source": [
        "def convert_to_string(token):\n",
        "  return ' '.join(token)"
      ]
    },
    {
      "cell_type": "code",
      "execution_count": 85,
      "metadata": {
        "id": "GTvpBJtVDKOd"
      },
      "outputs": [],
      "source": [
        "def do_cleaning():\n",
        "  merged1['ntitle'] = merged1['title'].apply(remove_irrelevant)\n",
        "  merged2['ntitle'] = merged2['title'].apply(remove_irrelevant)\n",
        "\n",
        "  merged1['ntitle'] = merged1['ntitle'].apply(make_lowercase)\n",
        "  merged2['ntitle'] = merged2['ntitle'].apply(make_lowercase)\n",
        "\n",
        "  merged1['ntitle'] = merged1['ntitle'].apply(do_tokenization)\n",
        "  merged2['ntitle'] = merged2['ntitle'].apply(do_tokenization)\n",
        "\n",
        "  merged1['ntitle'] = merged1['ntitle'].apply(remove_stopwords)\n",
        "  merged2['ntitle'] = merged2['ntitle'].apply(remove_stopwords)\n",
        "\n",
        "  merged1['ntitle'] = merged1['ntitle'].apply(do_lemmatization)\n",
        "  merged2['ntitle'] = merged2['ntitle'].apply(do_lemmatization)\n",
        "\n",
        "  merged1['ntitle'] = merged1['ntitle'].apply(remove_small)\n",
        "  merged2['ntitle'] = merged2['ntitle'].apply(remove_small)\n",
        "\n",
        "  merged1['ntitle'] = merged1['ntitle'].apply(convert_to_string)\n",
        "  merged2['ntitle'] = merged2['ntitle'].apply(convert_to_string)"
      ]
    },
    {
      "cell_type": "code",
      "execution_count": 86,
      "metadata": {
        "id": "miq98vYhVItd"
      },
      "outputs": [],
      "source": [
        "def document_cleaning():\n",
        "  document_list['title'] = document_list['title'].apply(remove_irrelevant)\n",
        "  document_list['title'] = document_list['title'].apply(make_lowercase)\n",
        "  document_list['title'] = document_list['title'].apply(do_tokenization)\n",
        "  document_list['title'] = document_list['title'].apply(remove_stopwords)\n",
        "  document_list['title'] = document_list['title'].apply(do_lemmatization)\n",
        "  document_list['title'] = document_list['title'].apply(remove_small)\n",
        "  document_list['title'] = document_list['title'].apply(convert_to_string)"
      ]
    },
    {
      "cell_type": "code",
      "execution_count": 87,
      "metadata": {
        "id": "-stZv9QMYRus"
      },
      "outputs": [],
      "source": [
        "do_cleaning()"
      ]
    },
    {
      "cell_type": "markdown",
      "metadata": {
        "id": "KHop7i5O_prA"
      },
      "source": [
        "Dropping old index,"
      ]
    },
    {
      "cell_type": "code",
      "execution_count": 88,
      "metadata": {
        "id": "0Gr9frtp_sVW"
      },
      "outputs": [],
      "source": [
        "merged1.drop('index', axis=1, inplace=True)"
      ]
    },
    {
      "cell_type": "code",
      "execution_count": 89,
      "metadata": {
        "id": "QPLgr15z_wsV"
      },
      "outputs": [],
      "source": [
        "merged2.drop('index', axis=1, inplace=True)"
      ]
    },
    {
      "cell_type": "markdown",
      "metadata": {
        "id": "eTpItFua_1A2"
      },
      "source": [
        "Viewing the dataframes,"
      ]
    },
    {
      "cell_type": "code",
      "execution_count": 90,
      "metadata": {
        "colab": {
          "base_uri": "https://localhost:8080/",
          "height": 416
        },
        "id": "EntbaaVh_200",
        "outputId": "7b3cb63f-62b9-4316-eebe-60b3c3a1d146"
      },
      "outputs": [
        {
          "data": {
            "text/html": [
              "\n",
              "  <div id=\"df-7188d0a4-ebeb-4caa-9840-906dcb40ec84\">\n",
              "    <div class=\"colab-df-container\">\n",
              "      <div>\n",
              "<style scoped>\n",
              "    .dataframe tbody tr th:only-of-type {\n",
              "        vertical-align: middle;\n",
              "    }\n",
              "\n",
              "    .dataframe tbody tr th {\n",
              "        vertical-align: top;\n",
              "    }\n",
              "\n",
              "    .dataframe thead th {\n",
              "        text-align: right;\n",
              "    }\n",
              "</style>\n",
              "<table border=\"1\" class=\"dataframe\">\n",
              "  <thead>\n",
              "    <tr style=\"text-align: right;\">\n",
              "      <th></th>\n",
              "      <th>_id</th>\n",
              "      <th>actual_price</th>\n",
              "      <th>average_rating</th>\n",
              "      <th>brand</th>\n",
              "      <th>category</th>\n",
              "      <th>crawled_at</th>\n",
              "      <th>description</th>\n",
              "      <th>discount</th>\n",
              "      <th>images</th>\n",
              "      <th>out_of_stock</th>\n",
              "      <th>pid</th>\n",
              "      <th>product_details</th>\n",
              "      <th>seller</th>\n",
              "      <th>selling_price</th>\n",
              "      <th>sub_category</th>\n",
              "      <th>title</th>\n",
              "      <th>url</th>\n",
              "      <th>gender</th>\n",
              "      <th>ntitle</th>\n",
              "    </tr>\n",
              "  </thead>\n",
              "  <tbody>\n",
              "    <tr>\n",
              "      <th>0</th>\n",
              "      <td>fa8e22d6-c0b6-5229-bb9e-ad52eda39a0a</td>\n",
              "      <td>2,999</td>\n",
              "      <td>3.9</td>\n",
              "      <td>York</td>\n",
              "      <td>Clothing and Accessories</td>\n",
              "      <td>2021-02-10 20:11:51</td>\n",
              "      <td>Yorker trackpants made from 100% rich combed c...</td>\n",
              "      <td>69% off</td>\n",
              "      <td>[https://rukminim1.flixcart.com/image/128/128/...</td>\n",
              "      <td>False</td>\n",
              "      <td>TKPFCZ9EA7H5FYZH</td>\n",
              "      <td>[{'Style Code': '1005COMBO2'}, {'Closure': 'El...</td>\n",
              "      <td>Shyam Enterprises</td>\n",
              "      <td>921</td>\n",
              "      <td>Bottomwear</td>\n",
              "      <td>Solid Men Multicolor Track Pants</td>\n",
              "      <td>https://www.flipkart.com/yorker-solid-men-mult...</td>\n",
              "      <td>men</td>\n",
              "      <td>solid men multicolor track pant</td>\n",
              "    </tr>\n",
              "    <tr>\n",
              "      <th>1</th>\n",
              "      <td>893e6980-f2a0-531f-b056-34dd63fe912c</td>\n",
              "      <td>1,499</td>\n",
              "      <td>3.9</td>\n",
              "      <td>York</td>\n",
              "      <td>Clothing and Accessories</td>\n",
              "      <td>2021-02-10 20:11:52</td>\n",
              "      <td>Yorker trackpants made from 100% rich combed c...</td>\n",
              "      <td>66% off</td>\n",
              "      <td>[https://rukminim1.flixcart.com/image/128/128/...</td>\n",
              "      <td>False</td>\n",
              "      <td>TKPFCZ9EJZV2UVRZ</td>\n",
              "      <td>[{'Style Code': '1005BLUE'}, {'Closure': 'Draw...</td>\n",
              "      <td>Shyam Enterprises</td>\n",
              "      <td>499</td>\n",
              "      <td>Bottomwear</td>\n",
              "      <td>Solid Men Blue Track Pants</td>\n",
              "      <td>https://www.flipkart.com/yorker-solid-men-blue...</td>\n",
              "      <td>men</td>\n",
              "      <td>solid men blue track pant</td>\n",
              "    </tr>\n",
              "    <tr>\n",
              "      <th>2</th>\n",
              "      <td>750caa3d-6264-53ca-8ce1-94118a1d8951</td>\n",
              "      <td>2,999</td>\n",
              "      <td>3.9</td>\n",
              "      <td>York</td>\n",
              "      <td>Clothing and Accessories</td>\n",
              "      <td>2021-02-10 20:11:53</td>\n",
              "      <td>Yorker trackpants made from 100% rich combed c...</td>\n",
              "      <td>68% off</td>\n",
              "      <td>[https://rukminim1.flixcart.com/image/128/128/...</td>\n",
              "      <td>False</td>\n",
              "      <td>TKPFCZ9EVXKBSUD7</td>\n",
              "      <td>[{'Style Code': '1005COMBO1'}, {'Closure': 'Dr...</td>\n",
              "      <td>Shyam Enterprises</td>\n",
              "      <td>943</td>\n",
              "      <td>Bottomwear</td>\n",
              "      <td>Solid Men Brown, Grey Track Pants</td>\n",
              "      <td>https://www.flipkart.com/yorker-solid-men-brow...</td>\n",
              "      <td>men</td>\n",
              "      <td>solid men brown grey track pant</td>\n",
              "    </tr>\n",
              "  </tbody>\n",
              "</table>\n",
              "</div>\n",
              "      <button class=\"colab-df-convert\" onclick=\"convertToInteractive('df-7188d0a4-ebeb-4caa-9840-906dcb40ec84')\"\n",
              "              title=\"Convert this dataframe to an interactive table.\"\n",
              "              style=\"display:none;\">\n",
              "        \n",
              "  <svg xmlns=\"http://www.w3.org/2000/svg\" height=\"24px\"viewBox=\"0 0 24 24\"\n",
              "       width=\"24px\">\n",
              "    <path d=\"M0 0h24v24H0V0z\" fill=\"none\"/>\n",
              "    <path d=\"M18.56 5.44l.94 2.06.94-2.06 2.06-.94-2.06-.94-.94-2.06-.94 2.06-2.06.94zm-11 1L8.5 8.5l.94-2.06 2.06-.94-2.06-.94L8.5 2.5l-.94 2.06-2.06.94zm10 10l.94 2.06.94-2.06 2.06-.94-2.06-.94-.94-2.06-.94 2.06-2.06.94z\"/><path d=\"M17.41 7.96l-1.37-1.37c-.4-.4-.92-.59-1.43-.59-.52 0-1.04.2-1.43.59L10.3 9.45l-7.72 7.72c-.78.78-.78 2.05 0 2.83L4 21.41c.39.39.9.59 1.41.59.51 0 1.02-.2 1.41-.59l7.78-7.78 2.81-2.81c.8-.78.8-2.07 0-2.86zM5.41 20L4 18.59l7.72-7.72 1.47 1.35L5.41 20z\"/>\n",
              "  </svg>\n",
              "      </button>\n",
              "      \n",
              "  <style>\n",
              "    .colab-df-container {\n",
              "      display:flex;\n",
              "      flex-wrap:wrap;\n",
              "      gap: 12px;\n",
              "    }\n",
              "\n",
              "    .colab-df-convert {\n",
              "      background-color: #E8F0FE;\n",
              "      border: none;\n",
              "      border-radius: 50%;\n",
              "      cursor: pointer;\n",
              "      display: none;\n",
              "      fill: #1967D2;\n",
              "      height: 32px;\n",
              "      padding: 0 0 0 0;\n",
              "      width: 32px;\n",
              "    }\n",
              "\n",
              "    .colab-df-convert:hover {\n",
              "      background-color: #E2EBFA;\n",
              "      box-shadow: 0px 1px 2px rgba(60, 64, 67, 0.3), 0px 1px 3px 1px rgba(60, 64, 67, 0.15);\n",
              "      fill: #174EA6;\n",
              "    }\n",
              "\n",
              "    [theme=dark] .colab-df-convert {\n",
              "      background-color: #3B4455;\n",
              "      fill: #D2E3FC;\n",
              "    }\n",
              "\n",
              "    [theme=dark] .colab-df-convert:hover {\n",
              "      background-color: #434B5C;\n",
              "      box-shadow: 0px 1px 3px 1px rgba(0, 0, 0, 0.15);\n",
              "      filter: drop-shadow(0px 1px 2px rgba(0, 0, 0, 0.3));\n",
              "      fill: #FFFFFF;\n",
              "    }\n",
              "  </style>\n",
              "\n",
              "      <script>\n",
              "        const buttonEl =\n",
              "          document.querySelector('#df-7188d0a4-ebeb-4caa-9840-906dcb40ec84 button.colab-df-convert');\n",
              "        buttonEl.style.display =\n",
              "          google.colab.kernel.accessAllowed ? 'block' : 'none';\n",
              "\n",
              "        async function convertToInteractive(key) {\n",
              "          const element = document.querySelector('#df-7188d0a4-ebeb-4caa-9840-906dcb40ec84');\n",
              "          const dataTable =\n",
              "            await google.colab.kernel.invokeFunction('convertToInteractive',\n",
              "                                                     [key], {});\n",
              "          if (!dataTable) return;\n",
              "\n",
              "          const docLinkHtml = 'Like what you see? Visit the ' +\n",
              "            '<a target=\"_blank\" href=https://colab.research.google.com/notebooks/data_table.ipynb>data table notebook</a>'\n",
              "            + ' to learn more about interactive tables.';\n",
              "          element.innerHTML = '';\n",
              "          dataTable['output_type'] = 'display_data';\n",
              "          await google.colab.output.renderOutput(dataTable, element);\n",
              "          const docLink = document.createElement('div');\n",
              "          docLink.innerHTML = docLinkHtml;\n",
              "          element.appendChild(docLink);\n",
              "        }\n",
              "      </script>\n",
              "    </div>\n",
              "  </div>\n",
              "  "
            ],
            "text/plain": [
              "                                    _id actual_price average_rating brand  \\\n",
              "0  fa8e22d6-c0b6-5229-bb9e-ad52eda39a0a        2,999            3.9  York   \n",
              "1  893e6980-f2a0-531f-b056-34dd63fe912c        1,499            3.9  York   \n",
              "2  750caa3d-6264-53ca-8ce1-94118a1d8951        2,999            3.9  York   \n",
              "\n",
              "                   category          crawled_at  \\\n",
              "0  Clothing and Accessories 2021-02-10 20:11:51   \n",
              "1  Clothing and Accessories 2021-02-10 20:11:52   \n",
              "2  Clothing and Accessories 2021-02-10 20:11:53   \n",
              "\n",
              "                                         description discount  \\\n",
              "0  Yorker trackpants made from 100% rich combed c...  69% off   \n",
              "1  Yorker trackpants made from 100% rich combed c...  66% off   \n",
              "2  Yorker trackpants made from 100% rich combed c...  68% off   \n",
              "\n",
              "                                              images  out_of_stock  \\\n",
              "0  [https://rukminim1.flixcart.com/image/128/128/...         False   \n",
              "1  [https://rukminim1.flixcart.com/image/128/128/...         False   \n",
              "2  [https://rukminim1.flixcart.com/image/128/128/...         False   \n",
              "\n",
              "                pid                                    product_details  \\\n",
              "0  TKPFCZ9EA7H5FYZH  [{'Style Code': '1005COMBO2'}, {'Closure': 'El...   \n",
              "1  TKPFCZ9EJZV2UVRZ  [{'Style Code': '1005BLUE'}, {'Closure': 'Draw...   \n",
              "2  TKPFCZ9EVXKBSUD7  [{'Style Code': '1005COMBO1'}, {'Closure': 'Dr...   \n",
              "\n",
              "              seller selling_price sub_category  \\\n",
              "0  Shyam Enterprises           921   Bottomwear   \n",
              "1  Shyam Enterprises           499   Bottomwear   \n",
              "2  Shyam Enterprises           943   Bottomwear   \n",
              "\n",
              "                               title  \\\n",
              "0   Solid Men Multicolor Track Pants   \n",
              "1         Solid Men Blue Track Pants   \n",
              "2  Solid Men Brown, Grey Track Pants   \n",
              "\n",
              "                                                 url gender  \\\n",
              "0  https://www.flipkart.com/yorker-solid-men-mult...    men   \n",
              "1  https://www.flipkart.com/yorker-solid-men-blue...    men   \n",
              "2  https://www.flipkart.com/yorker-solid-men-brow...    men   \n",
              "\n",
              "                            ntitle  \n",
              "0  solid men multicolor track pant  \n",
              "1        solid men blue track pant  \n",
              "2  solid men brown grey track pant  "
            ]
          },
          "execution_count": 90,
          "metadata": {},
          "output_type": "execute_result"
        }
      ],
      "source": [
        "merged1.head(3)"
      ]
    },
    {
      "cell_type": "code",
      "execution_count": 91,
      "metadata": {
        "colab": {
          "base_uri": "https://localhost:8080/",
          "height": 520
        },
        "id": "GVGpCyT1_6MT",
        "outputId": "de7a7fff-16d1-45ec-c6cd-49544423ed15"
      },
      "outputs": [
        {
          "data": {
            "text/html": [
              "\n",
              "  <div id=\"df-476a780c-9583-4c6a-87bb-92c09e320907\">\n",
              "    <div class=\"colab-df-container\">\n",
              "      <div>\n",
              "<style scoped>\n",
              "    .dataframe tbody tr th:only-of-type {\n",
              "        vertical-align: middle;\n",
              "    }\n",
              "\n",
              "    .dataframe tbody tr th {\n",
              "        vertical-align: top;\n",
              "    }\n",
              "\n",
              "    .dataframe thead th {\n",
              "        text-align: right;\n",
              "    }\n",
              "</style>\n",
              "<table border=\"1\" class=\"dataframe\">\n",
              "  <thead>\n",
              "    <tr style=\"text-align: right;\">\n",
              "      <th></th>\n",
              "      <th>uniq_id</th>\n",
              "      <th>crawl_timestamp</th>\n",
              "      <th>product_url</th>\n",
              "      <th>title</th>\n",
              "      <th>category</th>\n",
              "      <th>pid</th>\n",
              "      <th>retail_price</th>\n",
              "      <th>discounted_price</th>\n",
              "      <th>image</th>\n",
              "      <th>is_FK_Advantage_product</th>\n",
              "      <th>description</th>\n",
              "      <th>product_rating</th>\n",
              "      <th>overall_rating</th>\n",
              "      <th>brand</th>\n",
              "      <th>product_specifications</th>\n",
              "      <th>gender</th>\n",
              "      <th>ntitle</th>\n",
              "    </tr>\n",
              "  </thead>\n",
              "  <tbody>\n",
              "    <tr>\n",
              "      <th>0</th>\n",
              "      <td>c2d766ca982eca8304150849735ffef9</td>\n",
              "      <td>2016-03-25 22:59:23 +0000</td>\n",
              "      <td>http://www.flipkart.com/alisha-solid-women-s-c...</td>\n",
              "      <td>Alisha Solid Women's Cycling Shorts</td>\n",
              "      <td>[\"Clothing &gt;&gt; Women's Clothing &gt;&gt; Lingerie, Sl...</td>\n",
              "      <td>SRTEH2FF9KEDEFGF</td>\n",
              "      <td>999.0</td>\n",
              "      <td>379.0</td>\n",
              "      <td>[\"http://img5a.flixcart.com/image/short/u/4/a/...</td>\n",
              "      <td>False</td>\n",
              "      <td>Key Features of Alisha Solid Women's Cycling S...</td>\n",
              "      <td>No rating available</td>\n",
              "      <td>No rating available</td>\n",
              "      <td>Alisha</td>\n",
              "      <td>{\"product_specification\"=&gt;[{\"key\"=&gt;\"Number of ...</td>\n",
              "      <td>women</td>\n",
              "      <td>alisha solid women cycle short</td>\n",
              "    </tr>\n",
              "    <tr>\n",
              "      <th>1</th>\n",
              "      <td>f449ec65dcbc041b6ae5e6a32717d01b</td>\n",
              "      <td>2016-03-25 22:59:23 +0000</td>\n",
              "      <td>http://www.flipkart.com/aw-bellies/p/itmeh4grg...</td>\n",
              "      <td>AW Bellies</td>\n",
              "      <td>[\"Footwear &gt;&gt; Women's Footwear &gt;&gt; Ballerinas &gt;...</td>\n",
              "      <td>SHOEH4GRSUBJGZXE</td>\n",
              "      <td>999.0</td>\n",
              "      <td>499.0</td>\n",
              "      <td>[\"http://img5a.flixcart.com/image/shoe/7/z/z/r...</td>\n",
              "      <td>False</td>\n",
              "      <td>Key Features of AW Bellies Sandals Wedges Heel...</td>\n",
              "      <td>No rating available</td>\n",
              "      <td>No rating available</td>\n",
              "      <td>AW</td>\n",
              "      <td>{\"product_specification\"=&gt;[{\"key\"=&gt;\"Ideal For\"...</td>\n",
              "      <td>women</td>\n",
              "      <td>belly</td>\n",
              "    </tr>\n",
              "    <tr>\n",
              "      <th>2</th>\n",
              "      <td>29c8d290caa451f97b1c32df64477a2c</td>\n",
              "      <td>2016-03-25 22:59:23 +0000</td>\n",
              "      <td>http://www.flipkart.com/dilli-bazaaar-bellies-...</td>\n",
              "      <td>dilli bazaaar Bellies, Corporate Casuals, Casuals</td>\n",
              "      <td>[\"Footwear &gt;&gt; Women's Footwear &gt;&gt; Ballerinas &gt;...</td>\n",
              "      <td>SHOEH3DZBFR88SCK</td>\n",
              "      <td>699.0</td>\n",
              "      <td>349.0</td>\n",
              "      <td>[\"http://img6a.flixcart.com/image/shoe/b/p/n/p...</td>\n",
              "      <td>False</td>\n",
              "      <td>Key Features of dilli bazaaar Bellies, Corpora...</td>\n",
              "      <td>No rating available</td>\n",
              "      <td>No rating available</td>\n",
              "      <td>dilli bazaaar</td>\n",
              "      <td>{\"product_specification\"=&gt;[{\"key\"=&gt;\"Occasion\",...</td>\n",
              "      <td>women</td>\n",
              "      <td>dilli bazaaar belly corporate casuals casuals</td>\n",
              "    </tr>\n",
              "  </tbody>\n",
              "</table>\n",
              "</div>\n",
              "      <button class=\"colab-df-convert\" onclick=\"convertToInteractive('df-476a780c-9583-4c6a-87bb-92c09e320907')\"\n",
              "              title=\"Convert this dataframe to an interactive table.\"\n",
              "              style=\"display:none;\">\n",
              "        \n",
              "  <svg xmlns=\"http://www.w3.org/2000/svg\" height=\"24px\"viewBox=\"0 0 24 24\"\n",
              "       width=\"24px\">\n",
              "    <path d=\"M0 0h24v24H0V0z\" fill=\"none\"/>\n",
              "    <path d=\"M18.56 5.44l.94 2.06.94-2.06 2.06-.94-2.06-.94-.94-2.06-.94 2.06-2.06.94zm-11 1L8.5 8.5l.94-2.06 2.06-.94-2.06-.94L8.5 2.5l-.94 2.06-2.06.94zm10 10l.94 2.06.94-2.06 2.06-.94-2.06-.94-.94-2.06-.94 2.06-2.06.94z\"/><path d=\"M17.41 7.96l-1.37-1.37c-.4-.4-.92-.59-1.43-.59-.52 0-1.04.2-1.43.59L10.3 9.45l-7.72 7.72c-.78.78-.78 2.05 0 2.83L4 21.41c.39.39.9.59 1.41.59.51 0 1.02-.2 1.41-.59l7.78-7.78 2.81-2.81c.8-.78.8-2.07 0-2.86zM5.41 20L4 18.59l7.72-7.72 1.47 1.35L5.41 20z\"/>\n",
              "  </svg>\n",
              "      </button>\n",
              "      \n",
              "  <style>\n",
              "    .colab-df-container {\n",
              "      display:flex;\n",
              "      flex-wrap:wrap;\n",
              "      gap: 12px;\n",
              "    }\n",
              "\n",
              "    .colab-df-convert {\n",
              "      background-color: #E8F0FE;\n",
              "      border: none;\n",
              "      border-radius: 50%;\n",
              "      cursor: pointer;\n",
              "      display: none;\n",
              "      fill: #1967D2;\n",
              "      height: 32px;\n",
              "      padding: 0 0 0 0;\n",
              "      width: 32px;\n",
              "    }\n",
              "\n",
              "    .colab-df-convert:hover {\n",
              "      background-color: #E2EBFA;\n",
              "      box-shadow: 0px 1px 2px rgba(60, 64, 67, 0.3), 0px 1px 3px 1px rgba(60, 64, 67, 0.15);\n",
              "      fill: #174EA6;\n",
              "    }\n",
              "\n",
              "    [theme=dark] .colab-df-convert {\n",
              "      background-color: #3B4455;\n",
              "      fill: #D2E3FC;\n",
              "    }\n",
              "\n",
              "    [theme=dark] .colab-df-convert:hover {\n",
              "      background-color: #434B5C;\n",
              "      box-shadow: 0px 1px 3px 1px rgba(0, 0, 0, 0.15);\n",
              "      filter: drop-shadow(0px 1px 2px rgba(0, 0, 0, 0.3));\n",
              "      fill: #FFFFFF;\n",
              "    }\n",
              "  </style>\n",
              "\n",
              "      <script>\n",
              "        const buttonEl =\n",
              "          document.querySelector('#df-476a780c-9583-4c6a-87bb-92c09e320907 button.colab-df-convert');\n",
              "        buttonEl.style.display =\n",
              "          google.colab.kernel.accessAllowed ? 'block' : 'none';\n",
              "\n",
              "        async function convertToInteractive(key) {\n",
              "          const element = document.querySelector('#df-476a780c-9583-4c6a-87bb-92c09e320907');\n",
              "          const dataTable =\n",
              "            await google.colab.kernel.invokeFunction('convertToInteractive',\n",
              "                                                     [key], {});\n",
              "          if (!dataTable) return;\n",
              "\n",
              "          const docLinkHtml = 'Like what you see? Visit the ' +\n",
              "            '<a target=\"_blank\" href=https://colab.research.google.com/notebooks/data_table.ipynb>data table notebook</a>'\n",
              "            + ' to learn more about interactive tables.';\n",
              "          element.innerHTML = '';\n",
              "          dataTable['output_type'] = 'display_data';\n",
              "          await google.colab.output.renderOutput(dataTable, element);\n",
              "          const docLink = document.createElement('div');\n",
              "          docLink.innerHTML = docLinkHtml;\n",
              "          element.appendChild(docLink);\n",
              "        }\n",
              "      </script>\n",
              "    </div>\n",
              "  </div>\n",
              "  "
            ],
            "text/plain": [
              "                            uniq_id            crawl_timestamp  \\\n",
              "0  c2d766ca982eca8304150849735ffef9  2016-03-25 22:59:23 +0000   \n",
              "1  f449ec65dcbc041b6ae5e6a32717d01b  2016-03-25 22:59:23 +0000   \n",
              "2  29c8d290caa451f97b1c32df64477a2c  2016-03-25 22:59:23 +0000   \n",
              "\n",
              "                                         product_url  \\\n",
              "0  http://www.flipkart.com/alisha-solid-women-s-c...   \n",
              "1  http://www.flipkart.com/aw-bellies/p/itmeh4grg...   \n",
              "2  http://www.flipkart.com/dilli-bazaaar-bellies-...   \n",
              "\n",
              "                                               title  \\\n",
              "0                Alisha Solid Women's Cycling Shorts   \n",
              "1                                         AW Bellies   \n",
              "2  dilli bazaaar Bellies, Corporate Casuals, Casuals   \n",
              "\n",
              "                                            category               pid  \\\n",
              "0  [\"Clothing >> Women's Clothing >> Lingerie, Sl...  SRTEH2FF9KEDEFGF   \n",
              "1  [\"Footwear >> Women's Footwear >> Ballerinas >...  SHOEH4GRSUBJGZXE   \n",
              "2  [\"Footwear >> Women's Footwear >> Ballerinas >...  SHOEH3DZBFR88SCK   \n",
              "\n",
              "   retail_price  discounted_price  \\\n",
              "0         999.0             379.0   \n",
              "1         999.0             499.0   \n",
              "2         699.0             349.0   \n",
              "\n",
              "                                               image  is_FK_Advantage_product  \\\n",
              "0  [\"http://img5a.flixcart.com/image/short/u/4/a/...                    False   \n",
              "1  [\"http://img5a.flixcart.com/image/shoe/7/z/z/r...                    False   \n",
              "2  [\"http://img6a.flixcart.com/image/shoe/b/p/n/p...                    False   \n",
              "\n",
              "                                         description       product_rating  \\\n",
              "0  Key Features of Alisha Solid Women's Cycling S...  No rating available   \n",
              "1  Key Features of AW Bellies Sandals Wedges Heel...  No rating available   \n",
              "2  Key Features of dilli bazaaar Bellies, Corpora...  No rating available   \n",
              "\n",
              "        overall_rating          brand  \\\n",
              "0  No rating available         Alisha   \n",
              "1  No rating available             AW   \n",
              "2  No rating available  dilli bazaaar   \n",
              "\n",
              "                              product_specifications gender  \\\n",
              "0  {\"product_specification\"=>[{\"key\"=>\"Number of ...  women   \n",
              "1  {\"product_specification\"=>[{\"key\"=>\"Ideal For\"...  women   \n",
              "2  {\"product_specification\"=>[{\"key\"=>\"Occasion\",...  women   \n",
              "\n",
              "                                          ntitle  \n",
              "0                 alisha solid women cycle short  \n",
              "1                                          belly  \n",
              "2  dilli bazaaar belly corporate casuals casuals  "
            ]
          },
          "execution_count": 91,
          "metadata": {},
          "output_type": "execute_result"
        }
      ],
      "source": [
        "merged2.head(3)"
      ]
    },
    {
      "cell_type": "markdown",
      "metadata": {
        "id": "VHh3xO4VDSda"
      },
      "source": [
        "Now we construct our corpus,"
      ]
    },
    {
      "cell_type": "code",
      "execution_count": 92,
      "metadata": {
        "id": "RO8hZ9pyCUWW"
      },
      "outputs": [],
      "source": [
        "my_data = [merged1['title'], merged2['title']]"
      ]
    },
    {
      "cell_type": "code",
      "execution_count": 93,
      "metadata": {
        "id": "8H6nArT6Clu7"
      },
      "outputs": [],
      "source": [
        "documents = pd.concat(my_data)"
      ]
    },
    {
      "cell_type": "code",
      "execution_count": 94,
      "metadata": {
        "colab": {
          "base_uri": "https://localhost:8080/"
        },
        "id": "j97LsrRvCyFf",
        "outputId": "532aba52-10c6-44f4-90da-4ddee7384c7e"
      },
      "outputs": [
        {
          "data": {
            "text/plain": [
              "0     Solid Men Multicolor Track Pants\n",
              "1           Solid Men Blue Track Pants\n",
              "2    Solid Men Brown, Grey Track Pants\n",
              "3      Solid Men Dark Blue Track Pants\n",
              "4          Solid Men Beige Track Pants\n",
              "Name: title, dtype: object"
            ]
          },
          "execution_count": 94,
          "metadata": {},
          "output_type": "execute_result"
        }
      ],
      "source": [
        "documents.head()"
      ]
    },
    {
      "cell_type": "code",
      "execution_count": 95,
      "metadata": {
        "colab": {
          "base_uri": "https://localhost:8080/"
        },
        "id": "d4T5NBzqC0ag",
        "outputId": "548fc5ba-f876-4daf-ea9e-7a953bb92394"
      },
      "outputs": [
        {
          "data": {
            "text/plain": [
              "(10954,)"
            ]
          },
          "execution_count": 95,
          "metadata": {},
          "output_type": "execute_result"
        }
      ],
      "source": [
        "documents.shape"
      ]
    },
    {
      "cell_type": "code",
      "execution_count": 96,
      "metadata": {
        "colab": {
          "base_uri": "https://localhost:8080/"
        },
        "id": "r17wOtD3C9px",
        "outputId": "52971b8c-3185-4ebd-f801-2120d9324eec"
      },
      "outputs": [
        {
          "data": {
            "text/plain": [
              "10954"
            ]
          },
          "execution_count": 96,
          "metadata": {},
          "output_type": "execute_result"
        }
      ],
      "source": [
        "documents.nunique()"
      ]
    },
    {
      "cell_type": "code",
      "execution_count": 97,
      "metadata": {
        "id": "E_gdrqfyC9pz"
      },
      "outputs": [],
      "source": [
        "documents = documents.drop_duplicates()"
      ]
    },
    {
      "cell_type": "code",
      "execution_count": 98,
      "metadata": {
        "colab": {
          "base_uri": "https://localhost:8080/"
        },
        "id": "pX8qQRvUDMZG",
        "outputId": "91cace48-90bb-4a0a-c71b-c5265c89a587"
      },
      "outputs": [
        {
          "data": {
            "text/plain": [
              "(10954,)"
            ]
          },
          "execution_count": 98,
          "metadata": {},
          "output_type": "execute_result"
        }
      ],
      "source": [
        "documents.shape"
      ]
    },
    {
      "cell_type": "markdown",
      "metadata": {
        "id": "0Jd9i7VScSGX"
      },
      "source": [
        "### **Construction of Smart Mapper**"
      ]
    },
    {
      "cell_type": "code",
      "execution_count": 99,
      "metadata": {
        "id": "tQloIBzGDXOZ"
      },
      "outputs": [],
      "source": [
        "document_list = pd.DataFrame(documents)"
      ]
    },
    {
      "cell_type": "code",
      "execution_count": 100,
      "metadata": {
        "colab": {
          "base_uri": "https://localhost:8080/",
          "height": 1000
        },
        "id": "uNSgmu9vGqJ6",
        "outputId": "0f723ab9-4338-4551-a6ac-0d768e9aed38"
      },
      "outputs": [
        {
          "data": {
            "text/html": [
              "\n",
              "  <div id=\"df-5ee17640-778f-4eda-9d46-a23363c93f2e\">\n",
              "    <div class=\"colab-df-container\">\n",
              "      <div>\n",
              "<style scoped>\n",
              "    .dataframe tbody tr th:only-of-type {\n",
              "        vertical-align: middle;\n",
              "    }\n",
              "\n",
              "    .dataframe tbody tr th {\n",
              "        vertical-align: top;\n",
              "    }\n",
              "\n",
              "    .dataframe thead th {\n",
              "        text-align: right;\n",
              "    }\n",
              "</style>\n",
              "<table border=\"1\" class=\"dataframe\">\n",
              "  <thead>\n",
              "    <tr style=\"text-align: right;\">\n",
              "      <th></th>\n",
              "      <th>title</th>\n",
              "    </tr>\n",
              "  </thead>\n",
              "  <tbody>\n",
              "    <tr>\n",
              "      <th>0</th>\n",
              "      <td>Solid Men Multicolor Track Pants</td>\n",
              "    </tr>\n",
              "    <tr>\n",
              "      <th>1</th>\n",
              "      <td>Solid Men Blue Track Pants</td>\n",
              "    </tr>\n",
              "    <tr>\n",
              "      <th>2</th>\n",
              "      <td>Solid Men Brown, Grey Track Pants</td>\n",
              "    </tr>\n",
              "    <tr>\n",
              "      <th>3</th>\n",
              "      <td>Solid Men Dark Blue Track Pants</td>\n",
              "    </tr>\n",
              "    <tr>\n",
              "      <th>4</th>\n",
              "      <td>Solid Men Beige Track Pants</td>\n",
              "    </tr>\n",
              "    <tr>\n",
              "      <th>...</th>\n",
              "      <td>...</td>\n",
              "    </tr>\n",
              "    <tr>\n",
              "      <th>6469</th>\n",
              "      <td>raju purse collection Shoulder Bag</td>\n",
              "    </tr>\n",
              "    <tr>\n",
              "      <th>6470</th>\n",
              "      <td>ALL DAY 365 Shoulder Bag</td>\n",
              "    </tr>\n",
              "    <tr>\n",
              "      <th>6471</th>\n",
              "      <td>Raju Purse Collection Shoulder Bag</td>\n",
              "    </tr>\n",
              "    <tr>\n",
              "      <th>6472</th>\n",
              "      <td>GoWell Canvas Shoes</td>\n",
              "    </tr>\n",
              "    <tr>\n",
              "      <th>6473</th>\n",
              "      <td>raju purse collection Hand-held Bag</td>\n",
              "    </tr>\n",
              "  </tbody>\n",
              "</table>\n",
              "<p>10954 rows × 1 columns</p>\n",
              "</div>\n",
              "      <button class=\"colab-df-convert\" onclick=\"convertToInteractive('df-5ee17640-778f-4eda-9d46-a23363c93f2e')\"\n",
              "              title=\"Convert this dataframe to an interactive table.\"\n",
              "              style=\"display:none;\">\n",
              "        \n",
              "  <svg xmlns=\"http://www.w3.org/2000/svg\" height=\"24px\"viewBox=\"0 0 24 24\"\n",
              "       width=\"24px\">\n",
              "    <path d=\"M0 0h24v24H0V0z\" fill=\"none\"/>\n",
              "    <path d=\"M18.56 5.44l.94 2.06.94-2.06 2.06-.94-2.06-.94-.94-2.06-.94 2.06-2.06.94zm-11 1L8.5 8.5l.94-2.06 2.06-.94-2.06-.94L8.5 2.5l-.94 2.06-2.06.94zm10 10l.94 2.06.94-2.06 2.06-.94-2.06-.94-.94-2.06-.94 2.06-2.06.94z\"/><path d=\"M17.41 7.96l-1.37-1.37c-.4-.4-.92-.59-1.43-.59-.52 0-1.04.2-1.43.59L10.3 9.45l-7.72 7.72c-.78.78-.78 2.05 0 2.83L4 21.41c.39.39.9.59 1.41.59.51 0 1.02-.2 1.41-.59l7.78-7.78 2.81-2.81c.8-.78.8-2.07 0-2.86zM5.41 20L4 18.59l7.72-7.72 1.47 1.35L5.41 20z\"/>\n",
              "  </svg>\n",
              "      </button>\n",
              "      \n",
              "  <style>\n",
              "    .colab-df-container {\n",
              "      display:flex;\n",
              "      flex-wrap:wrap;\n",
              "      gap: 12px;\n",
              "    }\n",
              "\n",
              "    .colab-df-convert {\n",
              "      background-color: #E8F0FE;\n",
              "      border: none;\n",
              "      border-radius: 50%;\n",
              "      cursor: pointer;\n",
              "      display: none;\n",
              "      fill: #1967D2;\n",
              "      height: 32px;\n",
              "      padding: 0 0 0 0;\n",
              "      width: 32px;\n",
              "    }\n",
              "\n",
              "    .colab-df-convert:hover {\n",
              "      background-color: #E2EBFA;\n",
              "      box-shadow: 0px 1px 2px rgba(60, 64, 67, 0.3), 0px 1px 3px 1px rgba(60, 64, 67, 0.15);\n",
              "      fill: #174EA6;\n",
              "    }\n",
              "\n",
              "    [theme=dark] .colab-df-convert {\n",
              "      background-color: #3B4455;\n",
              "      fill: #D2E3FC;\n",
              "    }\n",
              "\n",
              "    [theme=dark] .colab-df-convert:hover {\n",
              "      background-color: #434B5C;\n",
              "      box-shadow: 0px 1px 3px 1px rgba(0, 0, 0, 0.15);\n",
              "      filter: drop-shadow(0px 1px 2px rgba(0, 0, 0, 0.3));\n",
              "      fill: #FFFFFF;\n",
              "    }\n",
              "  </style>\n",
              "\n",
              "      <script>\n",
              "        const buttonEl =\n",
              "          document.querySelector('#df-5ee17640-778f-4eda-9d46-a23363c93f2e button.colab-df-convert');\n",
              "        buttonEl.style.display =\n",
              "          google.colab.kernel.accessAllowed ? 'block' : 'none';\n",
              "\n",
              "        async function convertToInteractive(key) {\n",
              "          const element = document.querySelector('#df-5ee17640-778f-4eda-9d46-a23363c93f2e');\n",
              "          const dataTable =\n",
              "            await google.colab.kernel.invokeFunction('convertToInteractive',\n",
              "                                                     [key], {});\n",
              "          if (!dataTable) return;\n",
              "\n",
              "          const docLinkHtml = 'Like what you see? Visit the ' +\n",
              "            '<a target=\"_blank\" href=https://colab.research.google.com/notebooks/data_table.ipynb>data table notebook</a>'\n",
              "            + ' to learn more about interactive tables.';\n",
              "          element.innerHTML = '';\n",
              "          dataTable['output_type'] = 'display_data';\n",
              "          await google.colab.output.renderOutput(dataTable, element);\n",
              "          const docLink = document.createElement('div');\n",
              "          docLink.innerHTML = docLinkHtml;\n",
              "          element.appendChild(docLink);\n",
              "        }\n",
              "      </script>\n",
              "    </div>\n",
              "  </div>\n",
              "  "
            ],
            "text/plain": [
              "                                    title\n",
              "0        Solid Men Multicolor Track Pants\n",
              "1              Solid Men Blue Track Pants\n",
              "2       Solid Men Brown, Grey Track Pants\n",
              "3         Solid Men Dark Blue Track Pants\n",
              "4             Solid Men Beige Track Pants\n",
              "...                                   ...\n",
              "6469   raju purse collection Shoulder Bag\n",
              "6470             ALL DAY 365 Shoulder Bag\n",
              "6471   Raju Purse Collection Shoulder Bag\n",
              "6472                  GoWell Canvas Shoes\n",
              "6473  raju purse collection Hand-held Bag\n",
              "\n",
              "[10954 rows x 1 columns]"
            ]
          },
          "execution_count": 100,
          "metadata": {},
          "output_type": "execute_result"
        }
      ],
      "source": [
        "document_list"
      ]
    },
    {
      "cell_type": "code",
      "execution_count": 101,
      "metadata": {
        "colab": {
          "base_uri": "https://localhost:8080/",
          "height": 381
        },
        "id": "CLD5KOqIDafw",
        "outputId": "4209102d-91cb-4c49-f553-f6a9ca4abda1"
      },
      "outputs": [
        {
          "data": {
            "text/html": [
              "\n",
              "  <div id=\"df-21bc9969-b1d5-4767-b56b-7850aad2dab4\">\n",
              "    <div class=\"colab-df-container\">\n",
              "      <div>\n",
              "<style scoped>\n",
              "    .dataframe tbody tr th:only-of-type {\n",
              "        vertical-align: middle;\n",
              "    }\n",
              "\n",
              "    .dataframe tbody tr th {\n",
              "        vertical-align: top;\n",
              "    }\n",
              "\n",
              "    .dataframe thead th {\n",
              "        text-align: right;\n",
              "    }\n",
              "</style>\n",
              "<table border=\"1\" class=\"dataframe\">\n",
              "  <thead>\n",
              "    <tr style=\"text-align: right;\">\n",
              "      <th></th>\n",
              "      <th>title</th>\n",
              "    </tr>\n",
              "  </thead>\n",
              "  <tbody>\n",
              "    <tr>\n",
              "      <th>0</th>\n",
              "      <td>Solid Men Multicolor Track Pants</td>\n",
              "    </tr>\n",
              "    <tr>\n",
              "      <th>1</th>\n",
              "      <td>Solid Men Blue Track Pants</td>\n",
              "    </tr>\n",
              "    <tr>\n",
              "      <th>2</th>\n",
              "      <td>Solid Men Brown, Grey Track Pants</td>\n",
              "    </tr>\n",
              "  </tbody>\n",
              "</table>\n",
              "</div>\n",
              "      <button class=\"colab-df-convert\" onclick=\"convertToInteractive('df-21bc9969-b1d5-4767-b56b-7850aad2dab4')\"\n",
              "              title=\"Convert this dataframe to an interactive table.\"\n",
              "              style=\"display:none;\">\n",
              "        \n",
              "  <svg xmlns=\"http://www.w3.org/2000/svg\" height=\"24px\"viewBox=\"0 0 24 24\"\n",
              "       width=\"24px\">\n",
              "    <path d=\"M0 0h24v24H0V0z\" fill=\"none\"/>\n",
              "    <path d=\"M18.56 5.44l.94 2.06.94-2.06 2.06-.94-2.06-.94-.94-2.06-.94 2.06-2.06.94zm-11 1L8.5 8.5l.94-2.06 2.06-.94-2.06-.94L8.5 2.5l-.94 2.06-2.06.94zm10 10l.94 2.06.94-2.06 2.06-.94-2.06-.94-.94-2.06-.94 2.06-2.06.94z\"/><path d=\"M17.41 7.96l-1.37-1.37c-.4-.4-.92-.59-1.43-.59-.52 0-1.04.2-1.43.59L10.3 9.45l-7.72 7.72c-.78.78-.78 2.05 0 2.83L4 21.41c.39.39.9.59 1.41.59.51 0 1.02-.2 1.41-.59l7.78-7.78 2.81-2.81c.8-.78.8-2.07 0-2.86zM5.41 20L4 18.59l7.72-7.72 1.47 1.35L5.41 20z\"/>\n",
              "  </svg>\n",
              "      </button>\n",
              "      \n",
              "  <style>\n",
              "    .colab-df-container {\n",
              "      display:flex;\n",
              "      flex-wrap:wrap;\n",
              "      gap: 12px;\n",
              "    }\n",
              "\n",
              "    .colab-df-convert {\n",
              "      background-color: #E8F0FE;\n",
              "      border: none;\n",
              "      border-radius: 50%;\n",
              "      cursor: pointer;\n",
              "      display: none;\n",
              "      fill: #1967D2;\n",
              "      height: 32px;\n",
              "      padding: 0 0 0 0;\n",
              "      width: 32px;\n",
              "    }\n",
              "\n",
              "    .colab-df-convert:hover {\n",
              "      background-color: #E2EBFA;\n",
              "      box-shadow: 0px 1px 2px rgba(60, 64, 67, 0.3), 0px 1px 3px 1px rgba(60, 64, 67, 0.15);\n",
              "      fill: #174EA6;\n",
              "    }\n",
              "\n",
              "    [theme=dark] .colab-df-convert {\n",
              "      background-color: #3B4455;\n",
              "      fill: #D2E3FC;\n",
              "    }\n",
              "\n",
              "    [theme=dark] .colab-df-convert:hover {\n",
              "      background-color: #434B5C;\n",
              "      box-shadow: 0px 1px 3px 1px rgba(0, 0, 0, 0.15);\n",
              "      filter: drop-shadow(0px 1px 2px rgba(0, 0, 0, 0.3));\n",
              "      fill: #FFFFFF;\n",
              "    }\n",
              "  </style>\n",
              "\n",
              "      <script>\n",
              "        const buttonEl =\n",
              "          document.querySelector('#df-21bc9969-b1d5-4767-b56b-7850aad2dab4 button.colab-df-convert');\n",
              "        buttonEl.style.display =\n",
              "          google.colab.kernel.accessAllowed ? 'block' : 'none';\n",
              "\n",
              "        async function convertToInteractive(key) {\n",
              "          const element = document.querySelector('#df-21bc9969-b1d5-4767-b56b-7850aad2dab4');\n",
              "          const dataTable =\n",
              "            await google.colab.kernel.invokeFunction('convertToInteractive',\n",
              "                                                     [key], {});\n",
              "          if (!dataTable) return;\n",
              "\n",
              "          const docLinkHtml = 'Like what you see? Visit the ' +\n",
              "            '<a target=\"_blank\" href=https://colab.research.google.com/notebooks/data_table.ipynb>data table notebook</a>'\n",
              "            + ' to learn more about interactive tables.';\n",
              "          element.innerHTML = '';\n",
              "          dataTable['output_type'] = 'display_data';\n",
              "          await google.colab.output.renderOutput(dataTable, element);\n",
              "          const docLink = document.createElement('div');\n",
              "          docLink.innerHTML = docLinkHtml;\n",
              "          element.appendChild(docLink);\n",
              "        }\n",
              "      </script>\n",
              "    </div>\n",
              "  </div>\n",
              "  "
            ],
            "text/plain": [
              "                               title\n",
              "0   Solid Men Multicolor Track Pants\n",
              "1         Solid Men Blue Track Pants\n",
              "2  Solid Men Brown, Grey Track Pants"
            ]
          },
          "execution_count": 101,
          "metadata": {},
          "output_type": "execute_result"
        }
      ],
      "source": [
        "document_list[:3]"
      ]
    },
    {
      "cell_type": "code",
      "execution_count": 102,
      "metadata": {
        "id": "GaVYkau5VWZR"
      },
      "outputs": [],
      "source": [
        "document_cleaning()"
      ]
    },
    {
      "cell_type": "markdown",
      "metadata": {
        "id": "z_SYZHaxV8yy"
      },
      "source": [
        "For the purpose of constructing a smart, fast and lightweight mapper that would enable quick and accurate responses multiple approaches were considered, including:\n",
        "\n",
        "\n",
        "1.   Natural Language Understanding (NLU) with BERT Emebeddings \n",
        "2.   Word2Vec, Doc2Vec sentence embeddings\n",
        "3.   spaCy (small and big)\n",
        "4.   Combination of multiple edit distances including Sørensen-Dice, Levenshtein and Needleman-Wunsch amongst many others\n",
        "5.   A modified implementation of *Fuzzy Sysnets*, inspired from the [paper](https://doi.org/10.48550/ARXIV.2006.04042 )  \n",
        "\n",
        "So, in our version we make use of Fuzzy Sysnets alongside the essence of Rule-based learning.\n",
        "\n"
      ]
    },
    {
      "cell_type": "code",
      "execution_count": 103,
      "metadata": {
        "id": "ATAKWI92cU0V"
      },
      "outputs": [],
      "source": [
        "from nltk.corpus import wordnet"
      ]
    },
    {
      "cell_type": "code",
      "execution_count": 104,
      "metadata": {
        "id": "zjA7bX6FcU0a"
      },
      "outputs": [],
      "source": [
        "document_list.reset_index(inplace=True)"
      ]
    },
    {
      "cell_type": "code",
      "execution_count": 105,
      "metadata": {
        "id": "DkRAObFZcU0e"
      },
      "outputs": [],
      "source": [
        "document_list.drop('index', axis=1, inplace=True)"
      ]
    },
    {
      "cell_type": "code",
      "execution_count": 106,
      "metadata": {
        "colab": {
          "base_uri": "https://localhost:8080/"
        },
        "id": "QXvqWmtQcU0Y",
        "outputId": "c30b3843-e4ef-4763-f615-a4dda9b4d466"
      },
      "outputs": [
        {
          "name": "stdout",
          "output_type": "stream",
          "text": [
            "Looking in indexes: https://pypi.org/simple, https://us-python.pkg.dev/colab-wheels/public/simple/\n",
            "Collecting fuzzywuzzy\n",
            "  Downloading fuzzywuzzy-0.18.0-py2.py3-none-any.whl (18 kB)\n",
            "Installing collected packages: fuzzywuzzy\n",
            "Successfully installed fuzzywuzzy-0.18.0\n"
          ]
        }
      ],
      "source": [
        "pip install fuzzywuzzy"
      ]
    },
    {
      "cell_type": "code",
      "execution_count": 107,
      "metadata": {
        "colab": {
          "base_uri": "https://localhost:8080/"
        },
        "id": "7AB0b8cMcU0g",
        "outputId": "f84eb43c-9d4e-4b3e-ceed-2ecd070f6f9d"
      },
      "outputs": [
        {
          "name": "stderr",
          "output_type": "stream",
          "text": [
            "/usr/local/lib/python3.7/dist-packages/fuzzywuzzy/fuzz.py:11: UserWarning: Using slow pure-python SequenceMatcher. Install python-Levenshtein to remove this warning\n",
            "  warnings.warn('Using slow pure-python SequenceMatcher. Install python-Levenshtein to remove this warning')\n"
          ]
        }
      ],
      "source": [
        "from fuzzywuzzy import fuzz\n",
        "from fuzzywuzzy import process"
      ]
    },
    {
      "cell_type": "code",
      "execution_count": 108,
      "metadata": {
        "colab": {
          "base_uri": "https://localhost:8080/"
        },
        "id": "tRBnH93CcU0h",
        "outputId": "ac967bb7-0184-4d1c-c55c-aa67311b8175"
      },
      "outputs": [
        {
          "name": "stdout",
          "output_type": "stream",
          "text": [
            "3\n"
          ]
        }
      ],
      "source": [
        "word = wordnet.synsets('ladies')\n",
        "print(len(word))"
      ]
    },
    {
      "cell_type": "code",
      "execution_count": 109,
      "metadata": {
        "colab": {
          "base_uri": "https://localhost:8080/"
        },
        "id": "nEAjDJmjcU0i",
        "outputId": "c62a3335-72c1-4580-f105-abcf58407588"
      },
      "outputs": [
        {
          "name": "stdout",
          "output_type": "stream",
          "text": [
            "[['lady'], ['dame', 'madam', \"ma'am\", 'lady', 'gentlewoman'], ['Lady', 'noblewoman', 'peeress']]\n"
          ]
        }
      ],
      "source": [
        "print([w.lemma_names() for w in word])"
      ]
    },
    {
      "cell_type": "code",
      "execution_count": 110,
      "metadata": {
        "colab": {
          "base_uri": "https://localhost:8080/"
        },
        "id": "8wij0Bo7cU0j",
        "outputId": "67b7c695-0b6e-4089-d916-3e9ffc4afcd9"
      },
      "outputs": [
        {
          "name": "stdout",
          "output_type": "stream",
          "text": [
            "['lady']\n",
            "['dame', 'madam', \"ma'am\", 'lady', 'gentlewoman']\n",
            "['Lady', 'noblewoman', 'peeress']\n"
          ]
        }
      ],
      "source": [
        "for w in word:\n",
        "  print(w.lemma_names())"
      ]
    },
    {
      "cell_type": "code",
      "execution_count": 111,
      "metadata": {
        "id": "t4FvbAN5cU0k"
      },
      "outputs": [],
      "source": [
        "final_result = []\n",
        "for i in document_list.title:\n",
        "  lst = i.split(' ')\n",
        "  result = []\n",
        "  for word in lst:\n",
        "    my_word = wordnet.synsets(word)\n",
        "    if len(my_word) == 0:\n",
        "      result.append(word)\n",
        "      continue\n",
        "    for inner_word in my_word:\n",
        "      for x in inner_word.lemma_names():\n",
        "        result.append(x)\n",
        "  final_result.append(' '.join(result))"
      ]
    },
    {
      "cell_type": "code",
      "execution_count": 112,
      "metadata": {
        "colab": {
          "base_uri": "https://localhost:8080/",
          "height": 641
        },
        "id": "yu8Qo0LccU0l",
        "outputId": "c886d75a-438d-4620-b726-1dc8ca1e3613"
      },
      "outputs": [
        {
          "data": {
            "application/vnd.google.colaboratory.intrinsic+json": {
              "type": "string"
            },
            "text/plain": [
              "'solid men multicolor track pant'"
            ]
          },
          "execution_count": 112,
          "metadata": {},
          "output_type": "execute_result"
        }
      ],
      "source": [
        "document_list['title'][0]"
      ]
    },
    {
      "cell_type": "code",
      "execution_count": 113,
      "metadata": {
        "colab": {
          "base_uri": "https://localhost:8080/",
          "height": 1000
        },
        "id": "8w1jj0TfcU0n",
        "outputId": "2b7ca5cb-922e-4ba0-c77c-66106d85c622"
      },
      "outputs": [
        {
          "data": {
            "application/vnd.google.colaboratory.intrinsic+json": {
              "type": "string"
            },
            "text/plain": [
              "\"solid solid solidness solid_state solid solid solid solid solid solid hearty satisfying solid square substantial solid strong substantial firm solid solid solid solid solid upstanding solid solid self-colored self-coloured solid unanimous whole work_force workforce manpower hands men man adult_male serviceman military_man man military_personnel man homo man human_being human man man valet valet_de_chambre gentleman gentleman's_gentleman man man Man Isle_of_Man man piece world human_race humanity humankind human_beings humans mankind man motley calico multicolor multi-color multicolour multi-colour multicolored multi-colored multicoloured multi-coloured painted particolored particoloured piebald pied varicolored varicoloured path track course lead track trail track racetrack racecourse raceway track cut track track caterpillar_track caterpillar_tread track data_track track track rail rails runway track cart_track cartroad track running track track chase chase_after trail tail tag give_chase dog go_after track traverse track cover cross pass_over get_over get_across cut_through cut_across track pant trouser pant gasp pant pant puff gasp heave pant\""
            ]
          },
          "execution_count": 113,
          "metadata": {},
          "output_type": "execute_result"
        }
      ],
      "source": [
        "final_result[0]"
      ]
    },
    {
      "cell_type": "code",
      "execution_count": 114,
      "metadata": {
        "id": "TyYkZKnBcU0x"
      },
      "outputs": [],
      "source": [
        "clothing_types = ['Outer wear', 'Active wear', 'Swimwear', 'Legwear', 'Neckwear', 'Shawls', 'Bridal', 'Pant', 'Undergarments', 'Uniform', 'Knit', 'Lounge', 'Shirts', 'Blouses', 'Bottoms', 'Sleep', 'Resort', 'Mourning', 'Afternoon', 'Afghan', 'line coat', 'line skirt', 'Apron', 'Ankle length Pants', 'Anklet', 'Apache Tie', 'Armband', 'Babushka', 'Baby Bonnet', 'Baby bunting', 'Baby doll dress', 'Baggy pants', 'Ball Gown', 'Balmacaan', 'Bandana', 'Ballerina skirt', 'Barfly apparel', 'Barn jacket', 'Basque waistline', 'Barrow coat', 'Bathing cap', 'Bathing suit', 'Bathrobe', 'Beach Pajamas', 'Bed Jacket', 'Bell bottom pants', 'Bell Boy Jacket', 'Belt', 'Bermuda Shorts', 'Bertha collar', 'Bias Slip', 'Bias skirt', 'Bike Tards', 'Bikini', 'Bishop sleeve', 'Bisht', 'Blazer', 'Bloomers', 'Blouse', 'Blouson', 'Bodycon dress', 'Bomber jacket', 'Bootcut', 'Boots', 'Bow Tie', 'Boxers', 'Boyshorts', 'Bow tie', 'Bra', 'Brassiere', 'KnickerSet', 'Bralette', 'Briefs', 'Burkha', 'Business suit', 'Bustier', 'Bustle', 'Button down shirt', 'Cap', 'Cape', 'Capri Pants', 'Cardigan', 'Cargos', 'Car coat', 'Circle skirt', 'Cloche', 'Cloak', 'Cocktail dress', 'Corset', 'Crew neck', 'Crop top', 'Cufflinks', 'Divided skirt', 'Doublet', 'Drape front', 'Dress', 'Dressing Gown', 'Dress Shirt', 'Dupatta', 'Flannel shirt', 'French pantyhose', 'Full Slips', 'Fur coat', 'Gaghra', 'Gartini', 'Gilet', 'Girdle', 'Gloves', 'G string', 'Hat', 'Hawaiian shirt', 'Hijab', 'Hipster', 'Hoody', 'House coat', 'Jacket', 'Jeans', 'Jeggings', 'Jumper', 'Kimono', 'Knee high socks', 'Knickers', 'Kurta', 'Leggings', 'Leg warmer', 'Lehanga', 'Lingerie', 'Lounge wear', 'Lounge pants', 'Maternity wear', 'Maxi', 'Mittens', 'Nightgown', 'Nightwear', 'Niqab', 'Oilskin clothing', 'Overalls', 'Overskirt', 'Padded Bra', 'Pajama', 'Panty', 'Pantyhose', 'Pencil skirt', 'Petticoat', 'Photo tshirts', 'Pleated skirts', 'Polo', 'Poet sleeve', 'Polo Shirt', 'Poncho', 'Pull on clothes', 'Pullover', 'Push up Bras', 'Pyjamas', 'Rain Coat', 'Robe', 'Running shorts', 'Sari', 'Saree', 'Sarong', 'Sash', 'Scarf', 'Shawl', 'Shervani', 'Shirt', 'Shorts', 'Slip', 'Ski Pants', 'Skirt', 'Socks', 'Stockings', 'Stole', 'Straight pants', 'Straight skirt', 'Suit', 'Summer Cardigan', 'Surplice', 'Suspenders', 'Swacket', 'Sweater', 'Sweatshirt', 'Sweats', 'Sweep train', 'Swimming Costume', 'Swimming Shorts', 'Swimming Trunks', 'Tap pants', 'T-Shirt', 'Tank top', 'Thong', 'Tie', 'Tiered skirt', 'Tights', 'Top', 'Toreador pants', 'Tracksuit', 'Trainers', 'Treggings', 'Trench Coat', 'Trousers', 'Trumpet skirt', 'Trousseau', 'Tulip hemmed skirt', 'Tummy shaper', 'Tunic', 'Turban', 'Turtleneck', 'Tuxedo Jacket', 'Tuxedo', 'Twin set', 'Ulster', 'Underwear', 'Uniform', 'Union suit', 'Unitard', 'Veil', 'Vest', 'Waistcoat', 'Watteau', 'Windsor Tie', 'Wrap around skirt', 'Whorts', 'Wind Pants', 'Wrap coat', 'Wylie coat', 'Yoga Pants', 'Zip front top']"
      ]
    },
    {
      "cell_type": "code",
      "execution_count": 115,
      "metadata": {
        "id": "iVnSkbjzcU0x"
      },
      "outputs": [],
      "source": [
        "#print(clothing_types)"
      ]
    },
    {
      "cell_type": "code",
      "execution_count": 116,
      "metadata": {
        "id": "TXoTYZQ3cU0s"
      },
      "outputs": [],
      "source": [
        "def basic_cleaning(query):\n",
        "  query = remove_irrelevant(query)\n",
        "  query = make_lowercase(query)\n",
        "  query = do_tokenization(query)\n",
        "  query = remove_stopwords(query)\n",
        "  query = do_lemmatization(query)\n",
        "  query = remove_small(query)\n",
        "  query = convert_to_string(query)\n",
        "  return query"
      ]
    },
    {
      "cell_type": "code",
      "execution_count": 117,
      "metadata": {
        "id": "vMUZDUXUcU0y"
      },
      "outputs": [],
      "source": [
        "final_types = []"
      ]
    },
    {
      "cell_type": "code",
      "execution_count": 118,
      "metadata": {
        "id": "0UtL9S4RcU0y"
      },
      "outputs": [],
      "source": [
        "for clothing in clothing_types:\n",
        "  clothing = basic_cleaning(clothing)\n",
        "  if clothing not in final_types:\n",
        "    final_types.append(clothing)"
      ]
    },
    {
      "cell_type": "code",
      "execution_count": 119,
      "metadata": {
        "colab": {
          "base_uri": "https://localhost:8080/"
        },
        "id": "0csksrETcU0z",
        "outputId": "b3734df3-a5a9-4ae4-e877-51b7ca27e6ee"
      },
      "outputs": [
        {
          "data": {
            "text/plain": [
              "224"
            ]
          },
          "execution_count": 119,
          "metadata": {},
          "output_type": "execute_result"
        }
      ],
      "source": [
        "len(final_types)"
      ]
    },
    {
      "cell_type": "code",
      "execution_count": 120,
      "metadata": {
        "id": "D_dNugTbcU00"
      },
      "outputs": [],
      "source": [
        "# final_types.append('tshirt')"
      ]
    },
    {
      "cell_type": "code",
      "execution_count": 121,
      "metadata": {
        "colab": {
          "base_uri": "https://localhost:8080/"
        },
        "id": "af1WW7IpcU0o",
        "outputId": "6babbfeb-bd81-4ccc-f4a0-bee687e71c0c"
      },
      "outputs": [
        {
          "data": {
            "text/plain": [
              "1163"
            ]
          },
          "execution_count": 121,
          "metadata": {},
          "output_type": "execute_result"
        }
      ],
      "source": [
        "len(final_result[0])"
      ]
    },
    {
      "cell_type": "code",
      "execution_count": 122,
      "metadata": {
        "id": "K7HlRm55cU0p"
      },
      "outputs": [],
      "source": [
        "def calculate_score(query, term):\n",
        "  query = query.split(' ')\n",
        "  term = term.split(' ')\n",
        "  temp_matches = set(final_types).intersection(set(query))\n",
        "  matches = set(temp_matches).intersection(set(term))\n",
        "  if len(matches) > 0:\n",
        "    return 80\n",
        "  else:\n",
        "    return 0"
      ]
    },
    {
      "cell_type": "code",
      "execution_count": 123,
      "metadata": {
        "id": "mfsU4ASFcU0q"
      },
      "outputs": [],
      "source": [
        "def find_sim_fuzz(query, n):\n",
        "  max_sim = 0\n",
        "  results = []\n",
        "  for x in range(len(final_result)):\n",
        "    score = fuzz.token_set_ratio(query, final_result[x]) + calculate_score(query, final_result[x])\n",
        "    results .append([score, x])\n",
        "  result = sorted(results, key=itemgetter(0), reverse=True)\n",
        "  final_results = []\n",
        "  for x in result[:n]:\n",
        "    final_results.append(document_list['title'][x[1]])\n",
        "  return final_results"
      ]
    },
    {
      "cell_type": "code",
      "execution_count": 124,
      "metadata": {
        "id": "wNGWPbvgcU0r"
      },
      "outputs": [],
      "source": [
        "def fetch_results(result_term):\n",
        "  n1 = merged1.loc[merged1['ntitle'] == result_term].shape[0]\n",
        "  n2 = merged2.loc[merged2['ntitle'] == result_term].shape[0]\n",
        "\n",
        "  if n1 > 0:\n",
        "    category = list(merged1.loc[merged1['ntitle'] == result_term, 'category'])[0]\n",
        "    description = list(merged1.loc[merged1['ntitle'] == result_term, 'description'])[0]\n",
        "    gender = list(merged1.loc[merged1['ntitle'] == result_term, 'gender'])[0]\n",
        "    sub_category = list(merged1.loc[merged1['ntitle'] == result_term, 'sub_category'])[0]\n",
        "    title =  list(merged1.loc[merged1['ntitle'] == result_term, 'title'])[0]\n",
        "    normal = list(merged1.loc[merged1['ntitle'] == result_term, 'actual_price'])[0]\n",
        "    selling = list(merged1.loc[merged1['ntitle'] == result_term, 'selling_price'])[0]\n",
        "    url = list(merged1.loc[merged1['ntitle'] == result_term, 'url'])[0]\n",
        "    image = (list(merged1.loc[merged1['ntitle'] == result_term, 'images'])[0])\n",
        "    image = image[0]\n",
        "\n",
        "    category = string.capwords(category)\n",
        "    description = string.capwords(description)\n",
        "    gender = string.capwords(gender)\n",
        "    sub_category = string.capwords(sub_category)\n",
        "    title = string.capwords(title)\n",
        "\n",
        "    print('Title: {}\\nDescription: {}\\nGender: {}\\nCategory: {}\\nSub-Category: {}\\n\\nMRP: Rs. {}\\nDiscounted Price: Rs. {}\\nLink: {}\\n'.format(title, description, gender, category, sub_category, normal, selling, url))\n",
        "    print()\n",
        "    #Disp.Image(requests.get(image).content, height = 125)\n",
        "\n",
        "    try:\n",
        "      f = urllib.request.urlopen(image)\n",
        "      figure(figsize=(2.5, 2.5), dpi=80)\n",
        "      a = plt.imread(f, 0)\n",
        "      plt.imshow(a)\n",
        "      plt.axis('off')\n",
        "      plt.show()\n",
        "      print('\\n')\n",
        "    except:\n",
        "      print(\"No image currently available\")\n",
        "\n",
        "  elif n2 > 0:\n",
        "    category = list(merged2.loc[merged2['ntitle'] == result_term, 'category'])[0][2:-2]\n",
        "    description = list(merged2.loc[merged2['ntitle'] == result_term, 'description'])[0]\n",
        "    gender = list(merged2.loc[merged2['ntitle'] == result_term, 'gender'])[0]\n",
        "    title =  list(merged2.loc[merged2['ntitle'] == result_term, 'title'])[0]\n",
        "    normal = list(merged2.loc[merged2['ntitle'] == result_term, 'retail_price'])[0]\n",
        "    selling = list(merged2.loc[merged2['ntitle'] == result_term, 'discounted_price'])[0]\n",
        "    url = list(merged2.loc[merged2['ntitle'] == result_term, 'product_url'])[0]\n",
        "    image = (list(merged2.loc[merged2['ntitle'] == result_term, 'image'])[0].split(','))\n",
        "    image = str(image[0][2:-1])\n",
        "    \n",
        "\n",
        "    category = string.capwords(category)\n",
        "    description = string.capwords(description)\n",
        "    gender = string.capwords(gender)\n",
        "    title = string.capwords(title)\n",
        "\n",
        "    print('Title: {}\\nDescription: {}\\nGender: {}\\nCategory: {}\\n\\nMRP: Rs. {}\\nDiscounted Price: Rs. {}\\nLink: {}\\n'.format(title, description, gender, category, normal, selling, url))\n",
        "    print()\n",
        "\n",
        "    #Disp.Image(requests.get(image).content, height = 125)\n",
        "\n",
        "    try:\n",
        "      f = urllib.request.urlopen(image)\n",
        "      figure(figsize=(2.5, 2.5), dpi=80)\n",
        "      a = plt.imread(f, 0)\n",
        "      plt.imshow(a)\n",
        "      plt.axis('off')\n",
        "      plt.show()\n",
        "      print('\\n')\n",
        "    except:\n",
        "      print(\"No image currently available\")\n",
        "  else:\n",
        "    return 'Not Found!'"
      ]
    },
    {
      "cell_type": "code",
      "execution_count": 125,
      "metadata": {
        "id": "R7U1WddnhPHh"
      },
      "outputs": [],
      "source": [
        "def get_top_results(query, n):\n",
        "  print()\n",
        "  print('Query: {}\\n'.format(query))\n",
        "  query = basic_cleaning(query)\n",
        "  results = find_sim_fuzz(query, n)\n",
        "  print(\"Displaying Top {} Results,\\n\".format(n))\n",
        "  for result in range(0, len(results)):\n",
        "    print(\"Result #{}\\n\".format(result + 1))\n",
        "    fetch_results(results[result])"
      ]
    },
    {
      "cell_type": "markdown",
      "metadata": {
        "id": "3bihTvMjAPQO"
      },
      "source": [
        "### **Smart Flipkart Mapper Demo**"
      ]
    },
    {
      "cell_type": "code",
      "execution_count": 126,
      "metadata": {
        "colab": {
          "base_uri": "https://localhost:8080/",
          "height": 1000
        },
        "id": "8oAhc8HOcU0t",
        "outputId": "7cfca28c-b89b-4ed1-8497-fe88fe2a2322"
      },
      "outputs": [
        {
          "name": "stdout",
          "output_type": "stream",
          "text": [
            "Search Query: floral top\n",
            "Number of Results: 5\n",
            "\n",
            "Query: floral top\n",
            "\n",
            "Displaying Top 5 Results,\n",
            "\n",
            "Result #1\n",
            "\n",
            "Title: Ausy Casual Short Sleeve Floral Print Women's Top\n",
            "Description: Ausy Casual Short Sleeve Floral Print Women's Top - Buy Multicolor Ausy Casual Short Sleeve Floral Print Women's Top For Only Rs. 999 Online In India. Shop Online For Apparels. Huge Collection Of Branded Clothes Only At Flipkart.com\n",
            "Gender: Women\n",
            "Category: Clothing >> Women's Clothing >> Western Wear >> Shirts, Tops & Tunics >> Tops >> Ausy Tops\n",
            "\n",
            "MRP: Rs. 999.0\n",
            "Discounted Price: Rs. 367.0\n",
            "Link: http://www.flipkart.com/ausy-casual-short-sleeve-floral-print-women-s-top/p/itmec8az27a8r6g2?pid=TOPEC8APK93YCFZZ\n",
            "\n",
            "\n"
          ]
        },
        {
          "data": {
            "image/png": "[encoded data removed]",
            "text/plain": [
              "<Figure size 200x200 with 1 Axes>"
            ]
          },
          "metadata": {
            "needs_background": "light"
          },
          "output_type": "display_data"
        },
        {
          "name": "stdout",
          "output_type": "stream",
          "text": [
            "\n",
            "\n",
            "Result #2\n",
            "\n",
            "Title: Tenn Casual, Party Sleeveless Floral Print Women's Top\n",
            "Description: Tenn Casual, Party Sleeveless Floral Print Women's Top - Buy Multicolor Tenn Casual, Party Sleeveless Floral Print Women's Top For Only Rs. 2000 Online In India. Shop Online For Apparels. Huge Collection Of Branded Clothes Only At Flipkart.com\n",
            "Gender: Women\n",
            "Category: Clothing >> Women's Clothing >> Western Wear >> Shirts, Tops & Tunics >> Tops >> Tenn Tops\n",
            "\n",
            "MRP: Rs. 2000.0\n",
            "Discounted Price: Rs. 699.0\n",
            "Link: http://www.flipkart.com/tenn-casual-party-sleeveless-floral-print-women-s-top/p/itmedm577fvcbjm9?pid=TOPEDM57CZDENHEG\n",
            "\n",
            "\n"
          ]
        },
        {
          "data": {
            "image/png": "[encoded data removed]",
            "text/plain": [
              "<Figure size 200x200 with 1 Axes>"
            ]
          },
          "metadata": {
            "needs_background": "light"
          },
          "output_type": "display_data"
        },
        {
          "name": "stdout",
          "output_type": "stream",
          "text": [
            "\n",
            "\n",
            "Result #3\n",
            "\n",
            "Title: Maggie Party Sleeveless Floral Print Women's Top\n",
            "Description: Maggie Party Sleeveless Floral Print Women's Top Price: Rs. 599 Add This White And Brown Colored Floral Printed Top By The Hub Of Maggie To Your Wardrobe, To Make It Look Trendier. Tailored From Hundred Percent Cotton Blend Net Material, This Party Wear Top Features Distinguished Design And Has A Fashionable Look. Wear This Top With Light Colored Slim Fit Denims Or Khaki Shorts For A Casual Vibe. This Top Has Sleeveless Adornment And High Neck Which Provide An Ease While Putting It On. Add This White And Brown Colored Floral Printed Top By The Hub Of Maggie To Your Wardrobe, To Make It Look Trendier. Tailored From Hundred Percent Cotton Blend Net Material, This Party Wear Top Features Distinguished Design And Has A Fashionable Look. Wear This Top With Light Colored Slim Fit Denims Or Khaki Shorts For A Casual Vibe. This Top Has Sleeveless Adornment And High Neck Which Provide An Ease While Putting It On.\n",
            "Gender: Women\n",
            "Category: Clothing >> Women's Clothing >> Western Wear >> Shirts, Tops & Tunics >> Tops >> Maggie Tops\n",
            "\n",
            "MRP: Rs. 1999.0\n",
            "Discounted Price: Rs. 599.0\n",
            "Link: http://www.flipkart.com/maggie-party-sleeveless-floral-print-women-s-top/p/itmeccmnza3fzbxy?pid=TOPECCMNG24UGAHX\n",
            "\n",
            "\n"
          ]
        },
        {
          "data": {
            "image/png": "[encoded data removed]",
            "text/plain": [
              "<Figure size 200x200 with 1 Axes>"
            ]
          },
          "metadata": {
            "needs_background": "light"
          },
          "output_type": "display_data"
        },
        {
          "name": "stdout",
          "output_type": "stream",
          "text": [
            "\n",
            "\n",
            "Result #4\n",
            "\n",
            "Title: Retaaz Casual, Party, Festive Sleeveless Floral Print Women's Top\n",
            "Description: Retaaz Casual, Party, Festive Sleeveless Floral Print Women's Top - Buy Red Retaaz Casual, Party, Festive Sleeveless Floral Print Women's Top For Only Rs. 2999 Online In India. Shop Online For Apparels. Huge Collection Of Branded Clothes Only At Flipkart.com\n",
            "Gender: Women\n",
            "Category: Clothing >> Women's Clothing >> Western Wear >> Shirts, Tops & Tunics >> Tops >> Retaaz Tops\n",
            "\n",
            "MRP: Rs. 2999.0\n",
            "Discounted Price: Rs. 829.0\n",
            "Link: http://www.flipkart.com/retaaz-casual-party-festive-sleeveless-floral-print-women-s-top/p/itmedyhyq2yxpufu?pid=TOPEDYHYGWZS3YM6\n",
            "\n",
            "\n"
          ]
        },
        {
          "data": {
            "image/png": "[encoded data removed]",
            "text/plain": [
              "<Figure size 200x200 with 1 Axes>"
            ]
          },
          "metadata": {
            "needs_background": "light"
          },
          "output_type": "display_data"
        },
        {
          "name": "stdout",
          "output_type": "stream",
          "text": [
            "\n",
            "\n",
            "Result #5\n",
            "\n",
            "Title: Ozel Studio Casual Full Sleeve Floral Print Women's Top\n",
            "Description: Ozel Studio Casual Full Sleeve Floral Print Women's Top Price: Rs. 987 Mesh Sleeves Crop Top And A High Waist Skirt, The Black And White Makes It Look Extremely Feminine And Trendy. Wear It With Sleek Black Heels To Make It Look Sexier. Mesh Sleeves Crop Top And A High Waist Skirt, The Black And White Makes It Look Extremely Feminine And Trendy. Wear It With Sleek Black Heels To Make It Look Sexier.\n",
            "Gender: Women\n",
            "Category: Clothing >> Women's Clothing >> Western Wear >> Shirts, Tops & Tunics >> Tops >> Ozel Studio Tops\n",
            "\n",
            "MRP: Rs. 1645.0\n",
            "Discounted Price: Rs. 987.0\n",
            "Link: http://www.flipkart.com/ozel-studio-casual-full-sleeve-floral-print-women-s-top/p/itme4vr5yxttedn2?pid=TOPE4VR5AVGTDWF5\n",
            "\n",
            "\n"
          ]
        },
        {
          "data": {
            "image/png": "[encoded data removed]",
            "text/plain": [
              "<Figure size 200x200 with 1 Axes>"
            ]
          },
          "metadata": {
            "needs_background": "light"
          },
          "output_type": "display_data"
        },
        {
          "name": "stdout",
          "output_type": "stream",
          "text": [
            "\n",
            "\n"
          ]
        }
      ],
      "source": [
        "query = input(\"Search Query: \")\n",
        "number_wanted = int(input(\"Number of Results: \"))\n",
        "get_top_results(query, number_wanted)"
      ]
    },
    {
      "cell_type": "markdown",
      "metadata": {
        "id": "dkcoCAEzcr-A"
      },
      "source": [
        "## **Additional methods tested** (Not modified for running)\n",
        "\n"
      ]
    },
    {
      "cell_type": "markdown",
      "metadata": {
        "id": "pMFg1vBeDnY1"
      },
      "source": [
        "### **1. NLU with BERT Embeddings**"
      ]
    },
    {
      "cell_type": "code",
      "execution_count": null,
      "metadata": {
        "id": "ensexiw5HKL5"
      },
      "outputs": [],
      "source": [
        "import os\n",
        "! apt-get update -qq > /dev/null   \n",
        "# Install java\n",
        "! apt-get install -y openjdk-8-jdk-headless -qq > /dev/null\n",
        "os.environ[\"JAVA_HOME\"] = \"/usr/lib/jvm/java-8-openjdk-amd64\"\n",
        "os.environ[\"PATH\"] = os.environ[\"JAVA_HOME\"] + \"/bin:\" + os.environ[\"PATH\"]\n",
        "! pip install nlu  pyspark==3.2.0 > /dev/null   \n",
        "\n",
        "import nlu"
      ]
    },
    {
      "cell_type": "code",
      "execution_count": null,
      "metadata": {
        "id": "-BrAGU7rDtF4"
      },
      "outputs": [],
      "source": [
        "from sklearn.metrics.pairwise import cosine_similarity"
      ]
    },
    {
      "cell_type": "code",
      "execution_count": null,
      "metadata": {
        "id": "z1Cl9CciG70N"
      },
      "outputs": [],
      "source": [
        "import numpy as np"
      ]
    },
    {
      "cell_type": "code",
      "execution_count": null,
      "metadata": {
        "colab": {
          "base_uri": "https://localhost:8080/",
          "height": 477
        },
        "id": "os4Z9plYG9sv",
        "outputId": "cb08b8df-e32a-42f3-e091-347da3db8f85"
      },
      "outputs": [
        {
          "name": "stdout",
          "output_type": "stream",
          "text": [
            "sent_small_bert_L2_128 download started this may take some time.\n",
            "Approximate size to download 16.1 MB\n",
            "[OK!]\n"
          ]
        },
        {
          "data": {
            "text/html": [
              "\n",
              "  <div id=\"df-8c0c2629-2208-4cc8-991e-2eef21d48136\">\n",
              "    <div class=\"colab-df-container\">\n",
              "      <div>\n",
              "<style scoped>\n",
              "    .dataframe tbody tr th:only-of-type {\n",
              "        vertical-align: middle;\n",
              "    }\n",
              "\n",
              "    .dataframe tbody tr th {\n",
              "        vertical-align: top;\n",
              "    }\n",
              "\n",
              "    .dataframe thead th {\n",
              "        text-align: right;\n",
              "    }\n",
              "</style>\n",
              "<table border=\"1\" class=\"dataframe\">\n",
              "  <thead>\n",
              "    <tr style=\"text-align: right;\">\n",
              "      <th></th>\n",
              "      <th>document</th>\n",
              "      <th>sentence_embedding_bert</th>\n",
              "    </tr>\n",
              "  </thead>\n",
              "  <tbody>\n",
              "    <tr>\n",
              "      <th>0</th>\n",
              "      <td>solid men multicolor track pants</td>\n",
              "      <td>[-0.5713103413581848, 0.9107413291931152, -0.6...</td>\n",
              "    </tr>\n",
              "    <tr>\n",
              "      <th>1</th>\n",
              "      <td>solid men blue track pants</td>\n",
              "      <td>[-0.7765612602233887, 0.7614292502403259, -0.5...</td>\n",
              "    </tr>\n",
              "    <tr>\n",
              "      <th>2</th>\n",
              "      <td>solid men brown grey track pants</td>\n",
              "      <td>[-0.32251080870628357, 0.7043192386627197, -0....</td>\n",
              "    </tr>\n",
              "    <tr>\n",
              "      <th>3</th>\n",
              "      <td>solid men dark blue track pants</td>\n",
              "      <td>[-0.3760356307029724, 0.23310720920562744, -0....</td>\n",
              "    </tr>\n",
              "    <tr>\n",
              "      <th>4</th>\n",
              "      <td>solid men beige track pants</td>\n",
              "      <td>[-0.459341436624527, 0.9614392518997192, -0.53...</td>\n",
              "    </tr>\n",
              "    <tr>\n",
              "      <th>...</th>\n",
              "      <td>...</td>\n",
              "      <td>...</td>\n",
              "    </tr>\n",
              "    <tr>\n",
              "      <th>10227</th>\n",
              "      <td>good win takssport laptop backpack</td>\n",
              "      <td>[-1.9636898040771484, 0.5111657977104187, -0.6...</td>\n",
              "    </tr>\n",
              "    <tr>\n",
              "      <th>10228</th>\n",
              "      <td>goblin hurricane expandable check luggage</td>\n",
              "      <td>[-0.6187362670898438, 0.8594528436660767, -1.1...</td>\n",
              "    </tr>\n",
              "    <tr>\n",
              "      <th>10229</th>\n",
              "      <td>raju purse collection shoulder bag</td>\n",
              "      <td>[-1.3699880838394165, 1.1911956071853638, -0.8...</td>\n",
              "    </tr>\n",
              "    <tr>\n",
              "      <th>10230</th>\n",
              "      <td>day shoulder bag</td>\n",
              "      <td>[-2.34853458404541, 0.972358763217926, -1.1453...</td>\n",
              "    </tr>\n",
              "    <tr>\n",
              "      <th>10231</th>\n",
              "      <td>gowell canvas shoes</td>\n",
              "      <td>[-0.9322059154510498, 1.725650668144226, -0.74...</td>\n",
              "    </tr>\n",
              "  </tbody>\n",
              "</table>\n",
              "<p>10232 rows × 2 columns</p>\n",
              "</div>\n",
              "      <button class=\"colab-df-convert\" onclick=\"convertToInteractive('df-8c0c2629-2208-4cc8-991e-2eef21d48136')\"\n",
              "              title=\"Convert this dataframe to an interactive table.\"\n",
              "              style=\"display:none;\">\n",
              "        \n",
              "  <svg xmlns=\"http://www.w3.org/2000/svg\" height=\"24px\"viewBox=\"0 0 24 24\"\n",
              "       width=\"24px\">\n",
              "    <path d=\"M0 0h24v24H0V0z\" fill=\"none\"/>\n",
              "    <path d=\"M18.56 5.44l.94 2.06.94-2.06 2.06-.94-2.06-.94-.94-2.06-.94 2.06-2.06.94zm-11 1L8.5 8.5l.94-2.06 2.06-.94-2.06-.94L8.5 2.5l-.94 2.06-2.06.94zm10 10l.94 2.06.94-2.06 2.06-.94-2.06-.94-.94-2.06-.94 2.06-2.06.94z\"/><path d=\"M17.41 7.96l-1.37-1.37c-.4-.4-.92-.59-1.43-.59-.52 0-1.04.2-1.43.59L10.3 9.45l-7.72 7.72c-.78.78-.78 2.05 0 2.83L4 21.41c.39.39.9.59 1.41.59.51 0 1.02-.2 1.41-.59l7.78-7.78 2.81-2.81c.8-.78.8-2.07 0-2.86zM5.41 20L4 18.59l7.72-7.72 1.47 1.35L5.41 20z\"/>\n",
              "  </svg>\n",
              "      </button>\n",
              "      \n",
              "  <style>\n",
              "    .colab-df-container {\n",
              "      display:flex;\n",
              "      flex-wrap:wrap;\n",
              "      gap: 12px;\n",
              "    }\n",
              "\n",
              "    .colab-df-convert {\n",
              "      background-color: #E8F0FE;\n",
              "      border: none;\n",
              "      border-radius: 50%;\n",
              "      cursor: pointer;\n",
              "      display: none;\n",
              "      fill: #1967D2;\n",
              "      height: 32px;\n",
              "      padding: 0 0 0 0;\n",
              "      width: 32px;\n",
              "    }\n",
              "\n",
              "    .colab-df-convert:hover {\n",
              "      background-color: #E2EBFA;\n",
              "      box-shadow: 0px 1px 2px rgba(60, 64, 67, 0.3), 0px 1px 3px 1px rgba(60, 64, 67, 0.15);\n",
              "      fill: #174EA6;\n",
              "    }\n",
              "\n",
              "    [theme=dark] .colab-df-convert {\n",
              "      background-color: #3B4455;\n",
              "      fill: #D2E3FC;\n",
              "    }\n",
              "\n",
              "    [theme=dark] .colab-df-convert:hover {\n",
              "      background-color: #434B5C;\n",
              "      box-shadow: 0px 1px 3px 1px rgba(0, 0, 0, 0.15);\n",
              "      filter: drop-shadow(0px 1px 2px rgba(0, 0, 0, 0.3));\n",
              "      fill: #FFFFFF;\n",
              "    }\n",
              "  </style>\n",
              "\n",
              "      <script>\n",
              "        const buttonEl =\n",
              "          document.querySelector('#df-8c0c2629-2208-4cc8-991e-2eef21d48136 button.colab-df-convert');\n",
              "        buttonEl.style.display =\n",
              "          google.colab.kernel.accessAllowed ? 'block' : 'none';\n",
              "\n",
              "        async function convertToInteractive(key) {\n",
              "          const element = document.querySelector('#df-8c0c2629-2208-4cc8-991e-2eef21d48136');\n",
              "          const dataTable =\n",
              "            await google.colab.kernel.invokeFunction('convertToInteractive',\n",
              "                                                     [key], {});\n",
              "          if (!dataTable) return;\n",
              "\n",
              "          const docLinkHtml = 'Like what you see? Visit the ' +\n",
              "            '<a target=\"_blank\" href=https://colab.research.google.com/notebooks/data_table.ipynb>data table notebook</a>'\n",
              "            + ' to learn more about interactive tables.';\n",
              "          element.innerHTML = '';\n",
              "          dataTable['output_type'] = 'display_data';\n",
              "          await google.colab.output.renderOutput(dataTable, element);\n",
              "          const docLink = document.createElement('div');\n",
              "          docLink.innerHTML = docLinkHtml;\n",
              "          element.appendChild(docLink);\n",
              "        }\n",
              "      </script>\n",
              "    </div>\n",
              "  </div>\n",
              "  "
            ],
            "text/plain": [
              "                                        document  \\\n",
              "0               solid men multicolor track pants   \n",
              "1                     solid men blue track pants   \n",
              "2               solid men brown grey track pants   \n",
              "3                solid men dark blue track pants   \n",
              "4                    solid men beige track pants   \n",
              "...                                          ...   \n",
              "10227         good win takssport laptop backpack   \n",
              "10228  goblin hurricane expandable check luggage   \n",
              "10229         raju purse collection shoulder bag   \n",
              "10230                           day shoulder bag   \n",
              "10231                        gowell canvas shoes   \n",
              "\n",
              "                                 sentence_embedding_bert  \n",
              "0      [-0.5713103413581848, 0.9107413291931152, -0.6...  \n",
              "1      [-0.7765612602233887, 0.7614292502403259, -0.5...  \n",
              "2      [-0.32251080870628357, 0.7043192386627197, -0....  \n",
              "3      [-0.3760356307029724, 0.23310720920562744, -0....  \n",
              "4      [-0.459341436624527, 0.9614392518997192, -0.53...  \n",
              "...                                                  ...  \n",
              "10227  [-1.9636898040771484, 0.5111657977104187, -0.6...  \n",
              "10228  [-0.6187362670898438, 0.8594528436660767, -1.1...  \n",
              "10229  [-1.3699880838394165, 1.1911956071853638, -0.8...  \n",
              "10230  [-2.34853458404541, 0.972358763217926, -1.1453...  \n",
              "10231  [-0.9322059154510498, 1.725650668144226, -0.74...  \n",
              "\n",
              "[10232 rows x 2 columns]"
            ]
          },
          "execution_count": 228,
          "metadata": {},
          "output_type": "execute_result"
        }
      ],
      "source": [
        "pipe = nlu.load('embed_sentence.bert')\n",
        "# pipe = nlu.load('en.embed_sentence.bert_large_cased') # if you have some time and RAM try a big BERT model!\n",
        "predictions = pipe.predict(document_list.title, output_level='document')\n",
        "predictions"
      ]
    },
    {
      "cell_type": "code",
      "execution_count": null,
      "metadata": {
        "id": "6ftUQUh4J7no"
      },
      "outputs": [],
      "source": [
        "compare_len = document_list.shape[0]"
      ]
    },
    {
      "cell_type": "code",
      "execution_count": null,
      "metadata": {
        "id": "d2mlp5GIJchU"
      },
      "outputs": [],
      "source": [
        "def get_sim_df_for_string(predictions,e_col, string_to_embed,pipe=pipe):\n",
        "  # Creates a Dataframe which has a sim_score column which describes the similarity with the string_to_embed variable\n",
        "\n",
        "  # put predictions vectors in matrix\n",
        "  embed_mat = np.array([x for x in predictions[e_col]])\n",
        "\n",
        "  # embed string input string\n",
        "  embedding = pipe.predict(string_to_embed).iloc[0][e_col]\n",
        "\n",
        "  # Replicate embedding for input string \n",
        "  m = np.array([embedding,]*len(document_list))\n",
        "  sim_mat = cosine_similarity(m,embed_mat)\n",
        "\n",
        "  #write sim score\n",
        "  document_list['sim_score'] = sim_mat[0]\n",
        "\n",
        "\n",
        "  return document_list"
      ]
    },
    {
      "cell_type": "code",
      "execution_count": null,
      "metadata": {
        "colab": {
          "base_uri": "https://localhost:8080/",
          "height": 143
        },
        "id": "PhrjfbryLF9X",
        "outputId": "31c3f339-dda2-4dc8-ff99-cb4b22038f5e"
      },
      "outputs": [
        {
          "data": {
            "text/html": [
              "\n",
              "  <div id=\"df-ad6f2ab9-0f1d-460c-988a-db372eff977d\">\n",
              "    <div class=\"colab-df-container\">\n",
              "      <div>\n",
              "<style scoped>\n",
              "    .dataframe tbody tr th:only-of-type {\n",
              "        vertical-align: middle;\n",
              "    }\n",
              "\n",
              "    .dataframe tbody tr th {\n",
              "        vertical-align: top;\n",
              "    }\n",
              "\n",
              "    .dataframe thead th {\n",
              "        text-align: right;\n",
              "    }\n",
              "</style>\n",
              "<table border=\"1\" class=\"dataframe\">\n",
              "  <thead>\n",
              "    <tr style=\"text-align: right;\">\n",
              "      <th></th>\n",
              "      <th>title</th>\n",
              "    </tr>\n",
              "  </thead>\n",
              "  <tbody>\n",
              "    <tr>\n",
              "      <th>0</th>\n",
              "      <td>solid men multicolor track pant</td>\n",
              "    </tr>\n",
              "    <tr>\n",
              "      <th>1</th>\n",
              "      <td>solid men blue track pant</td>\n",
              "    </tr>\n",
              "    <tr>\n",
              "      <th>2</th>\n",
              "      <td>solid men brown grey track pant</td>\n",
              "    </tr>\n",
              "  </tbody>\n",
              "</table>\n",
              "</div>\n",
              "      <button class=\"colab-df-convert\" onclick=\"convertToInteractive('df-ad6f2ab9-0f1d-460c-988a-db372eff977d')\"\n",
              "              title=\"Convert this dataframe to an interactive table.\"\n",
              "              style=\"display:none;\">\n",
              "        \n",
              "  <svg xmlns=\"http://www.w3.org/2000/svg\" height=\"24px\"viewBox=\"0 0 24 24\"\n",
              "       width=\"24px\">\n",
              "    <path d=\"M0 0h24v24H0V0z\" fill=\"none\"/>\n",
              "    <path d=\"M18.56 5.44l.94 2.06.94-2.06 2.06-.94-2.06-.94-.94-2.06-.94 2.06-2.06.94zm-11 1L8.5 8.5l.94-2.06 2.06-.94-2.06-.94L8.5 2.5l-.94 2.06-2.06.94zm10 10l.94 2.06.94-2.06 2.06-.94-2.06-.94-.94-2.06-.94 2.06-2.06.94z\"/><path d=\"M17.41 7.96l-1.37-1.37c-.4-.4-.92-.59-1.43-.59-.52 0-1.04.2-1.43.59L10.3 9.45l-7.72 7.72c-.78.78-.78 2.05 0 2.83L4 21.41c.39.39.9.59 1.41.59.51 0 1.02-.2 1.41-.59l7.78-7.78 2.81-2.81c.8-.78.8-2.07 0-2.86zM5.41 20L4 18.59l7.72-7.72 1.47 1.35L5.41 20z\"/>\n",
              "  </svg>\n",
              "      </button>\n",
              "      \n",
              "  <style>\n",
              "    .colab-df-container {\n",
              "      display:flex;\n",
              "      flex-wrap:wrap;\n",
              "      gap: 12px;\n",
              "    }\n",
              "\n",
              "    .colab-df-convert {\n",
              "      background-color: #E8F0FE;\n",
              "      border: none;\n",
              "      border-radius: 50%;\n",
              "      cursor: pointer;\n",
              "      display: none;\n",
              "      fill: #1967D2;\n",
              "      height: 32px;\n",
              "      padding: 0 0 0 0;\n",
              "      width: 32px;\n",
              "    }\n",
              "\n",
              "    .colab-df-convert:hover {\n",
              "      background-color: #E2EBFA;\n",
              "      box-shadow: 0px 1px 2px rgba(60, 64, 67, 0.3), 0px 1px 3px 1px rgba(60, 64, 67, 0.15);\n",
              "      fill: #174EA6;\n",
              "    }\n",
              "\n",
              "    [theme=dark] .colab-df-convert {\n",
              "      background-color: #3B4455;\n",
              "      fill: #D2E3FC;\n",
              "    }\n",
              "\n",
              "    [theme=dark] .colab-df-convert:hover {\n",
              "      background-color: #434B5C;\n",
              "      box-shadow: 0px 1px 3px 1px rgba(0, 0, 0, 0.15);\n",
              "      filter: drop-shadow(0px 1px 2px rgba(0, 0, 0, 0.3));\n",
              "      fill: #FFFFFF;\n",
              "    }\n",
              "  </style>\n",
              "\n",
              "      <script>\n",
              "        const buttonEl =\n",
              "          document.querySelector('#df-ad6f2ab9-0f1d-460c-988a-db372eff977d button.colab-df-convert');\n",
              "        buttonEl.style.display =\n",
              "          google.colab.kernel.accessAllowed ? 'block' : 'none';\n",
              "\n",
              "        async function convertToInteractive(key) {\n",
              "          const element = document.querySelector('#df-ad6f2ab9-0f1d-460c-988a-db372eff977d');\n",
              "          const dataTable =\n",
              "            await google.colab.kernel.invokeFunction('convertToInteractive',\n",
              "                                                     [key], {});\n",
              "          if (!dataTable) return;\n",
              "\n",
              "          const docLinkHtml = 'Like what you see? Visit the ' +\n",
              "            '<a target=\"_blank\" href=https://colab.research.google.com/notebooks/data_table.ipynb>data table notebook</a>'\n",
              "            + ' to learn more about interactive tables.';\n",
              "          element.innerHTML = '';\n",
              "          dataTable['output_type'] = 'display_data';\n",
              "          await google.colab.output.renderOutput(dataTable, element);\n",
              "          const docLink = document.createElement('div');\n",
              "          docLink.innerHTML = docLinkHtml;\n",
              "          element.appendChild(docLink);\n",
              "        }\n",
              "      </script>\n",
              "    </div>\n",
              "  </div>\n",
              "  "
            ],
            "text/plain": [
              "                             title\n",
              "0  solid men multicolor track pant\n",
              "1        solid men blue track pant\n",
              "2  solid men brown grey track pant"
            ]
          },
          "execution_count": 120,
          "metadata": {},
          "output_type": "execute_result"
        }
      ],
      "source": [
        "document_list.head(3)"
      ]
    },
    {
      "cell_type": "code",
      "execution_count": null,
      "metadata": {
        "colab": {
          "base_uri": "https://localhost:8080/",
          "height": 1000
        },
        "id": "B2cAwhETKa7e",
        "outputId": "b8938248-4adc-47ee-8eb9-dff6719f4bf1"
      },
      "outputs": [
        {
          "name": "stdout",
          "output_type": "stream",
          "text": [
            "sentence_detector_dl download started this may take some time.\n",
            "Approximate size to download 354.6 KB\n",
            "[OK!]\n"
          ]
        },
        {
          "data": {
            "text/plain": [
              "(0.8, 1.0)"
            ]
          },
          "execution_count": 232,
          "metadata": {},
          "output_type": "execute_result"
        },
        {
          "data": {
            "image/png": "[encoded data removed]",
            "text/plain": [
              "<Figure size 1440x1152 with 1 Axes>"
            ]
          },
          "metadata": {
            "needs_background": "light"
          },
          "output_type": "display_data"
        }
      ],
      "source": [
        "query = 'underwear' \n",
        "sim_df = get_sim_df_for_string(predictions,'sentence_embedding_bert', query )\n",
        "ax = sim_df.sort_values('sim_score', ascending = False).iloc[:20][['sim_score','title']].plot.barh(title = f\"Most similar Sentences for sentence\\n'{query}'\", figsize=(20,16))\n",
        "ax.set_xlim(0.8, 1)"
      ]
    },
    {
      "cell_type": "code",
      "execution_count": null,
      "metadata": {
        "colab": {
          "base_uri": "https://localhost:8080/"
        },
        "id": "PEjp6DK3VYc1",
        "outputId": "051955ff-1c90-45da-fe0c-454f14640899"
      },
      "outputs": [
        {
          "data": {
            "text/plain": [
              "document    graphic print men round neck black shirt\n",
              "Name: 112, dtype: object"
            ]
          },
          "execution_count": 245,
          "metadata": {},
          "output_type": "execute_result"
        }
      ],
      "source": [
        "predictions.iloc[112,:1]"
      ]
    },
    {
      "cell_type": "code",
      "execution_count": null,
      "metadata": {
        "id": "bykPtXFCTR4_"
      },
      "outputs": [],
      "source": [
        "def basic_cleaning(query):\n",
        "  query = remove_irrelevant(query)\n",
        "  query = make_lowercase(query)\n",
        "  query = do_tokenization(query)\n",
        "  query = remove_stopwords(query)\n",
        "  query = do_lemmatization(query)\n",
        "  query = remove_small(query)\n",
        "  query = convert_to_string(query)\n",
        "  return query"
      ]
    },
    {
      "cell_type": "code",
      "execution_count": null,
      "metadata": {
        "id": "1CpIfDPfSmxU"
      },
      "outputs": [],
      "source": [
        "def get_similar_index(query):\n",
        "  query = basic_cleaning(query)\n",
        "  print('Query After Cleaning: {}'.format(query))\n",
        "  sim_df = get_sim_df_for_string(predictions,'sentence_embedding_bert', query )\n",
        "  sorted_df = sim_df.sort_values(by=['sim_score'], ascending=False)\n",
        "  first, second, third = sorted_df.index[0], sorted_df.index[1], sorted_df.index[2]\n",
        "  first_predict = predictions.iloc[first,0]\n",
        "  second_predict = predictions.iloc[second,0]\n",
        "  third_predict = predictions.iloc[third,0]\n",
        "\n",
        "  return [first_predict, second_predict, third_predict]"
      ]
    },
    {
      "cell_type": "code",
      "execution_count": null,
      "metadata": {
        "id": "VwQs_Gs3Lgo7"
      },
      "outputs": [],
      "source": [
        "#predictions.iloc[4302,:1]"
      ]
    },
    {
      "cell_type": "code",
      "execution_count": null,
      "metadata": {
        "id": "UTbPrN-rNkh5"
      },
      "outputs": [],
      "source": [
        "def fetch_results(result_term):\n",
        "  n1 = merged1.loc[merged1['title'] == result_term].shape[0]\n",
        "  n2 = merged2.loc[merged2['title'] == result_term].shape[0]\n",
        "\n",
        "  if n1 > 0:\n",
        "    category = list(merged1.loc[merged1['title'] == result_term, 'category'])[0]\n",
        "    description = list(merged1.loc[merged1['title'] == result_term, 'description'])[0]\n",
        "    gender = list(merged1.loc[merged1['title'] == result_term, 'gender'])[0]\n",
        "    sub_category = list(merged1.loc[merged1['title'] == result_term, 'sub_category'])[0]\n",
        "    title =  list(merged1.loc[merged1['title'] == result_term, 'title'])[0]\n",
        "\n",
        "    return 'Title: {}\\nDescription: {}\\nCategory: {}\\nSub-Category: {}\\nGender: {}\\n'.format(title, description, category, sub_category, gender)\n",
        "\n",
        "  elif n2 > 0:\n",
        "    category = list(merged2.loc[merged2['title'] == result_term, 'category'])[0][2:-2]\n",
        "    description = list(merged2.loc[merged2['title'] == result_term, 'description'])[0]\n",
        "    gender = list(merged2.loc[merged2['title'] == result_term, 'gender'])[0]\n",
        "    title =  list(merged2.loc[merged2['title'] == result_term, 'title'])[0]\n",
        "\n",
        "    return 'Title: {}\\nDescription: {}\\nCategory: {}\\nGender: {}\\n'.format(title, description, category, gender)\n",
        "\n",
        "  else:\n",
        "    return 'Not Found!'"
      ]
    },
    {
      "cell_type": "code",
      "execution_count": null,
      "metadata": {
        "id": "XgqGG8sPUOJx"
      },
      "outputs": [],
      "source": [
        "def similarity_results(query):\n",
        "  print('Search Query: {}'.format(query))\n",
        "  title_list = get_similar_index(query)\n",
        "  for title in title_list:\n",
        "    print(fetch_results(title))"
      ]
    },
    {
      "cell_type": "markdown",
      "metadata": {
        "id": "ZCN51sNxUZuH"
      },
      "source": [
        "Testing sample cases,"
      ]
    },
    {
      "cell_type": "code",
      "execution_count": null,
      "metadata": {
        "colab": {
          "base_uri": "https://localhost:8080/"
        },
        "id": "4rr2IvsyT_oI",
        "outputId": "c4a7e907-a8c2-4feb-edc3-5b886fee107b"
      },
      "outputs": [
        {
          "name": "stdout",
          "output_type": "stream",
          "text": [
            "track pants\n"
          ]
        }
      ],
      "source": [
        "search_query = input()"
      ]
    },
    {
      "cell_type": "code",
      "execution_count": null,
      "metadata": {
        "colab": {
          "base_uri": "https://localhost:8080/"
        },
        "id": "joDxTfYhUEme",
        "outputId": "1d29aac5-83b2-49b7-a49c-fb6bc9bc738f"
      },
      "outputs": [
        {
          "name": "stdout",
          "output_type": "stream",
          "text": [
            "Search Query: track pants\n",
            "Query After Cleaning: track pant\n",
            "Title: men printed cotton silk straight kurta beige\n",
            "Description: \n",
            "Category: Clothing and Accessories\n",
            "Sub-Category: Kurtas, Ethnic Sets and Bottoms\n",
            "Gender: men\n",
            "\n",
            "Title: freshme fashion jewellery rhodium plated zinc necklace\n",
            "Description: Freshme Fashion Jewellery Rhodium Plated Zinc Necklace - Buy Freshme Fashion Jewellery Rhodium Plated Zinc Necklace only for Rs. 299 from Flipkart.com. Only Genuine Products. 30 Day Replacement Guarantee. Free Shipping. Cash On Delivery!\n",
            "Category: Jewellery >> Necklaces & Chains >> Necklaces\n",
            "Gender: women\n",
            "\n",
            "Title: superhero men round neck dark blue shirt\n",
            "Description: Care Instructions: Ensure washing the tee in cold water, don't iron directly on the print and don't dry in direct sunlight. Instructions are printed on the neck label for your convenience. Fit Type: Regular Fit Material - These are 100% cotton t-shirt which are made of pre-shrunk cotton and are soft & smooth with a high thread-count. They are comfortable and durable. Printing - Our stylish t-shirts are printed with inks that are vibrant, durable, and highly crack resistant. Sizes and fit - Our unisex t shirt is available in - S, M, L, XL, And XXL perfect for both male and female. Wash care - Ensure washing the tee in cold water, don't iron directly on the print and don't dry in direct sunlight. Instructions are printed on the neck label for your convenience. Design - This cool tshirt is sure to stand out no matter where you go. There's no reason to delay adding this t-shirt to your wardrobe.\n",
            "Category: Clothing and Accessories\n",
            "Sub-Category: Topwear\n",
            "Gender: men\n",
            "\n"
          ]
        }
      ],
      "source": [
        "similarity_results(search_query)"
      ]
    },
    {
      "cell_type": "markdown",
      "metadata": {
        "id": "fiB8sHmAaJCk"
      },
      "source": [
        "### **2. Spacy**"
      ]
    },
    {
      "cell_type": "code",
      "execution_count": null,
      "metadata": {
        "colab": {
          "base_uri": "https://localhost:8080/"
        },
        "id": "aZ3i5BXPaX3I",
        "outputId": "23e039d7-c285-404e-db70-8c76f0df78ed"
      },
      "outputs": [
        {
          "name": "stdout",
          "output_type": "stream",
          "text": [
            "Looking in indexes: https://pypi.org/simple, https://us-python.pkg.dev/colab-wheels/public/simple/\n",
            "Collecting fuzzywuzzy\n",
            "  Downloading fuzzywuzzy-0.18.0-py2.py3-none-any.whl (18 kB)\n",
            "Installing collected packages: fuzzywuzzy\n",
            "Successfully installed fuzzywuzzy-0.18.0\n"
          ]
        }
      ],
      "source": [
        "!pip install fuzzywuzzy"
      ]
    },
    {
      "cell_type": "code",
      "execution_count": null,
      "metadata": {
        "colab": {
          "base_uri": "https://localhost:8080/"
        },
        "id": "nVL--BXgafcE",
        "outputId": "9e84b21f-eaf4-4198-e372-7d71f66c93ba"
      },
      "outputs": [
        {
          "name": "stdout",
          "output_type": "stream",
          "text": [
            "Looking in indexes: https://pypi.org/simple, https://us-python.pkg.dev/colab-wheels/public/simple/\n",
            "Collecting python-Levenshtein\n",
            "  Downloading python-Levenshtein-0.12.2.tar.gz (50 kB)\n",
            "\u001b[K     |████████████████████████████████| 50 kB 3.0 MB/s \n",
            "\u001b[?25hRequirement already satisfied: setuptools in /usr/local/lib/python3.7/dist-packages (from python-Levenshtein) (57.4.0)\n",
            "Building wheels for collected packages: python-Levenshtein\n",
            "  Building wheel for python-Levenshtein (setup.py) ... \u001b[?25l\u001b[?25hdone\n",
            "  Created wheel for python-Levenshtein: filename=python_Levenshtein-0.12.2-cp37-cp37m-linux_x86_64.whl size=149854 sha256=904b7062baee181d9a348bb15c8ce9cf658b0b166614f678286787805de13db6\n",
            "  Stored in directory: /root/.cache/pip/wheels/05/5f/ca/7c4367734892581bb5ff896f15027a932c551080b2abd3e00d\n",
            "Successfully built python-Levenshtein\n",
            "Installing collected packages: python-Levenshtein\n",
            "Successfully installed python-Levenshtein-0.12.2\n"
          ]
        }
      ],
      "source": [
        "!pip install python-Levenshtein"
      ]
    },
    {
      "cell_type": "code",
      "execution_count": null,
      "metadata": {
        "id": "WoLv2q3aaO2s"
      },
      "outputs": [],
      "source": [
        "import spacy\n",
        "from fuzzywuzzy import fuzz"
      ]
    },
    {
      "cell_type": "code",
      "execution_count": null,
      "metadata": {
        "id": "AJkICTS0fBM2"
      },
      "outputs": [],
      "source": [
        "nlp_model = spacy.load('en_core_web_sm')"
      ]
    },
    {
      "cell_type": "code",
      "execution_count": null,
      "metadata": {
        "id": "8jGeaQcjf2Yt"
      },
      "outputs": [],
      "source": [
        "max_sim = 0\n",
        "the_index = 0"
      ]
    },
    {
      "cell_type": "code",
      "execution_count": null,
      "metadata": {
        "colab": {
          "base_uri": "https://localhost:8080/"
        },
        "id": "hUd4lke0f8y5",
        "outputId": "48529e55-106e-4a46-c0d2-35d5ebdfaf9e"
      },
      "outputs": [
        {
          "name": "stdout",
          "output_type": "stream",
          "text": [
            "blouse\n"
          ]
        }
      ],
      "source": [
        "query = input()"
      ]
    },
    {
      "cell_type": "code",
      "execution_count": null,
      "metadata": {
        "colab": {
          "base_uri": "https://localhost:8080/"
        },
        "id": "KYL2eGNvgYH3",
        "outputId": "156de22d-9aca-4795-98aa-22f9a3c5d630"
      },
      "outputs": [
        {
          "data": {
            "text/plain": [
              "1    solid men blue track pant\n",
              "1                        belly\n",
              "Name: title, dtype: object"
            ]
          },
          "execution_count": 121,
          "metadata": {},
          "output_type": "execute_result"
        }
      ],
      "source": [
        "document_list['title'][1]"
      ]
    },
    {
      "cell_type": "code",
      "execution_count": null,
      "metadata": {
        "colab": {
          "base_uri": "https://localhost:8080/"
        },
        "id": "_77PSBo9fUMH",
        "outputId": "f563f480-0fc1-4e5c-d6b1-5abc43bf11f0"
      },
      "outputs": [
        {
          "name": "stderr",
          "output_type": "stream",
          "text": [
            "/usr/local/lib/python3.7/dist-packages/ipykernel_launcher.py:6: UserWarning: [W007] The model you're using has no word vectors loaded, so the result of the Doc.similarity method will be based on the tagger, parser and NER, which may not give useful similarity judgements. This may happen if you're using one of the small models, e.g. `en_core_web_sm`, which don't ship with word vectors and only use context-sensitive tensors. You can always add your own word vectors, or use one of the larger models instead if available.\n",
            "  \n",
            "/usr/local/lib/python3.7/dist-packages/ipykernel_launcher.py:7: UserWarning: [W007] The model you're using has no word vectors loaded, so the result of the Doc.similarity method will be based on the tagger, parser and NER, which may not give useful similarity judgements. This may happen if you're using one of the small models, e.g. `en_core_web_sm`, which don't ship with word vectors and only use context-sensitive tensors. You can always add your own word vectors, or use one of the larger models instead if available.\n",
            "  import sys\n"
          ]
        },
        {
          "name": "stdout",
          "output_type": "stream",
          "text": [
            "Index: 7257\n",
            "Sim Score: 0.6844185354316917\n"
          ]
        }
      ],
      "source": [
        "doc1 = nlp_model (query)\n",
        "max_sim = 0\n",
        "the_index = 0\n",
        "for x in range(len(document_list['title'])):\n",
        "  doc2 = nlp_model (document_list['title'][x])\n",
        "  if doc1.similarity(doc2) > max_sim:\n",
        "    max_sim = doc1.similarity(doc2)\n",
        "    the_index = x\n",
        "print('Index: {}'.format(the_index))\n",
        "print('Sim Score: {}'.format(max_sim))"
      ]
    },
    {
      "cell_type": "code",
      "execution_count": null,
      "metadata": {
        "colab": {
          "base_uri": "https://localhost:8080/",
          "height": 35
        },
        "id": "89ZDeyy5hx-w",
        "outputId": "7d88be9f-8fec-4131-9e13-a033dba6c2bf"
      },
      "outputs": [
        {
          "data": {
            "application/vnd.google.colaboratory.intrinsic+json": {
              "type": "string"
            },
            "text/plain": [
              "'senterlan'"
            ]
          },
          "execution_count": 139,
          "metadata": {},
          "output_type": "execute_result"
        }
      ],
      "source": [
        "document_list['title'][7257]"
      ]
    },
    {
      "cell_type": "code",
      "execution_count": null,
      "metadata": {
        "colab": {
          "base_uri": "https://localhost:8080/"
        },
        "id": "_Kkrkuqaj1d4",
        "outputId": "25736dfa-06c7-4ab8-d88a-40d949ab3c12"
      },
      "outputs": [
        {
          "name": "stdout",
          "output_type": "stream",
          "text": [
            "pratami cotton silk blend solid blouse material\n",
            "masterweaverindia cotton solid blouse material\n",
            "masterweaverindia cotton woven blouse material\n",
            "platinum cotton silk blend solid blouse material\n",
            "jiya silk self design embroidered blouse material\n",
            "purpleyou lace embellished blouse material\n",
            "khoobee silk self design embroidered blouse material\n",
            "indian house georgette solid blouse material\n",
            "parisha silk embroidered blouse material\n",
            "bunny sarees cotton embroidered blouse material\n",
            "pratami silk solid blouse material\n",
            "fashiondeal jacquard checkered blouse material\n",
            "indian house jacquard self design blouse material\n",
            "fashiondeal silk embroidered blouse material\n",
            "awesome silk embroidered blouse material\n",
            "fashiondeal cotton embroidered blouse material\n",
            "purpleyou cotton embroidered blouse material\n",
            "fashiondeal jacquard self design blouse material\n",
            "indian house jacquard checkered blouse material\n",
            "ugam chiffon self design blouse material\n",
            "indian house cotton embroidered blouse material\n",
            "orange jeans club cotton embroidered blouse material\n",
            "pratami tissue solid blouse material\n",
            "fashiondeal silk solid blouse material\n",
            "kandoi cotton silk blend embroidered blouse material\n",
            "sareeshop silk checkered blouse material\n",
            "bunny sarees jacquard self design blouse material\n",
            "bunny sarees silk solid blouse material\n",
            "mishti cotton silk blend embroidered blouse material\n",
            "masterweaver india cotton embroidered blouse material\n",
            "fashiondeal georgette solid blouse material\n",
            "fashiondeal cotton solid blouse material\n",
            "indian house cotton solid blouse material\n",
            "indian house silk solid blouse material\n",
            "kamini fashions cotton silk blend embroidered blouse material\n",
            "kanchoo neck women blouse\n",
            "hunybuni neck women blouse\n",
            "abida neck women blouse\n",
            "hunybuni round neck women blouse\n",
            "addyz plain combo ladies large non woven saree blouse cover upto\n",
            "jdk novelty brocade art silk organza floral print multi purpose fabric kurti fabric blouse material kurta fabric dress top material jacket fabric kurta pallazo material sherwani fabric kurta churidar material lace salwar suit material kurta patiyala material lehenga choli material\n",
            "jdk novelty brocade art silk organza self design multi purpose fabric kurti fabric blouse material kurta fabric dress top material jacket fabric kurta pallazo material sherwani fabric kurta churidar material lace salwar suit material kurta patiyala material lehenga choli material\n",
            "jdk novelty brocade art silk organza floral print multi purpose fabric kurti fabric blouse material kurta fabric dress top material jacket fabric lehenga choli material kurta patiyala material salwar suit material lace kurta churidar material sherwani fabric kurta pallazo material\n",
            "jdk novelty brocade art silk organza floral print multi purpose fabric kurta pallazo material kurti fabric lace salwar suit material jacket fabric kurta fabric lehenga choli material blouse material kurta churidar material kurta patiyala material dress top material sherwani fabric\n",
            "jdk novelty brocade art silk organza floral print multi purpose fabric kurti fabric blouse material dress top material jacket fabric salwar suit material kurta pallazo material lehenga choli material lace kurta fabric kurta patiyala material kurta churidar material sherwani fabric\n",
            "platinum square neck women blouse\n"
          ]
        }
      ],
      "source": [
        "for x in range(len(document_list['title'])):\n",
        "  if 'blouse' in document_list['title'][x]:\n",
        "    print(document_list['title'][x])"
      ]
    },
    {
      "cell_type": "markdown",
      "metadata": {
        "id": "P3m7hxYtiwjY"
      },
      "source": [
        "### 3. **doc2vec**"
      ]
    },
    {
      "cell_type": "code",
      "execution_count": null,
      "metadata": {
        "id": "SJ45Ufmri2p5"
      },
      "outputs": [],
      "source": [
        "from gensim import utils\n",
        "from gensim.models.doc2vec import LabeledSentence\n",
        "from gensim.models.doc2vec import TaggedDocument\n",
        "from gensim.models import Doc2Vec\n",
        "from sklearn.metrics.pairwise import cosine_similarity\n",
        "from sklearn.metrics import accuracy_score"
      ]
    },
    {
      "cell_type": "code",
      "execution_count": null,
      "metadata": {
        "id": "WKATjWTAr5-7"
      },
      "outputs": [],
      "source": [
        "my_texts = []"
      ]
    },
    {
      "cell_type": "code",
      "execution_count": null,
      "metadata": {
        "id": "cuqSKvytsohM"
      },
      "outputs": [],
      "source": [
        "for i in document_list.title:\n",
        "  lst = i.split(' ')\n",
        "  my_texts.append(lst)"
      ]
    },
    {
      "cell_type": "code",
      "execution_count": null,
      "metadata": {
        "colab": {
          "base_uri": "https://localhost:8080/"
        },
        "id": "xk_3j3Uys3_p",
        "outputId": "a967f1dd-3a82-4b51-eeff-8bb8ecac371b"
      },
      "outputs": [
        {
          "data": {
            "text/plain": [
              "[['solid', 'men', 'multicolor', 'track', 'pants'],\n",
              " ['solid', 'men', 'blue', 'track', 'pants'],\n",
              " ['solid', 'men', 'brown', 'grey', 'track', 'pants']]"
            ]
          },
          "execution_count": 255,
          "metadata": {},
          "output_type": "execute_result"
        }
      ],
      "source": [
        "my_texts[:3]"
      ]
    },
    {
      "cell_type": "code",
      "execution_count": null,
      "metadata": {
        "id": "7SIcCLpnsUjU"
      },
      "outputs": [],
      "source": [
        "documents = [TaggedDocument(doc, [i]) for i, doc in enumerate(my_texts)]"
      ]
    },
    {
      "cell_type": "code",
      "execution_count": null,
      "metadata": {
        "colab": {
          "base_uri": "https://localhost:8080/"
        },
        "id": "sIyxEgZnsToS",
        "outputId": "95d5bfc3-99dd-4e21-d11b-b78d2e3c409c"
      },
      "outputs": [
        {
          "name": "stderr",
          "output_type": "stream",
          "text": [
            "WARNING:gensim.models.base_any2vec:consider setting layer size to a multiple of 4 for greater performance\n",
            "WARNING:gensim.models.base_any2vec:under 10 jobs per worker: consider setting a smaller `batch_words' for smoother alpha decay\n"
          ]
        }
      ],
      "source": [
        "model = Doc2Vec(documents, vector_size=5, window=2, min_count=1, workers=4)"
      ]
    },
    {
      "cell_type": "markdown",
      "metadata": {
        "id": "-TP2bsiYwAWj"
      },
      "source": [
        "### **4. Edit-distance based measures**"
      ]
    },
    {
      "cell_type": "code",
      "execution_count": null,
      "metadata": {
        "colab": {
          "base_uri": "https://localhost:8080/"
        },
        "id": "1ueg5DcSwEZl",
        "outputId": "fad1d0dc-71e3-4e00-d21f-f59e6ea030c8"
      },
      "outputs": [
        {
          "name": "stdout",
          "output_type": "stream",
          "text": [
            "Looking in indexes: https://pypi.org/simple, https://us-python.pkg.dev/colab-wheels/public/simple/\n",
            "Requirement already satisfied: pylev in /usr/local/lib/python3.7/dist-packages (1.4.0)\n"
          ]
        }
      ],
      "source": [
        "#pip install pylev"
      ]
    },
    {
      "cell_type": "code",
      "execution_count": null,
      "metadata": {
        "id": "MvKrKzxywIa6"
      },
      "outputs": [],
      "source": [
        "import pylev\n",
        "\n",
        "def find_sim_levvy(query):\n",
        "  max_sim = 0\n",
        "  the_index = 0\n",
        "  query = query.split(\" \")\n",
        "  for x in range(len(document_list['title'])):\n",
        "    compare_term = document_list['title'][x].split(\" \")\n",
        "    if pylev.levenshtein(query, compare_term) > max_sim:\n",
        "      max_sim = pylev.levenshtein(query, compare_term)\n",
        "      the_index = x\n",
        "  print('Sim: {}'.format(max_sim))\n",
        "  print('Index: {}'.format(the_index))\n",
        "  return document_list['title'][the_index]"
      ]
    },
    {
      "cell_type": "code",
      "execution_count": null,
      "metadata": {
        "colab": {
          "base_uri": "https://localhost:8080/"
        },
        "id": "uK_Z-ch2wtAU",
        "outputId": "9cb31636-4343-43e0-fb57-8d7a271ca13a"
      },
      "outputs": [
        {
          "name": "stdout",
          "output_type": "stream",
          "text": [
            "pink shirt\n"
          ]
        }
      ],
      "source": [
        "query = input()"
      ]
    },
    {
      "cell_type": "code",
      "execution_count": null,
      "metadata": {
        "id": "r0wrEkcAwtAV"
      },
      "outputs": [],
      "source": [
        "query = basic_cleaning(query)"
      ]
    },
    {
      "cell_type": "code",
      "execution_count": null,
      "metadata": {
        "colab": {
          "base_uri": "https://localhost:8080/"
        },
        "id": "4DRwGdZxwoz0",
        "outputId": "366fa31c-c629-415c-b366-67dde8636d49"
      },
      "outputs": [
        {
          "name": "stdout",
          "output_type": "stream",
          "text": [
            "Query: pink shirt\n",
            "Sim: 40\n",
            "Index: 9057\n",
            "Title: jdk novelty brocade art silk organza floral print multi purpose fabric kurti fabric blouse material kurta fabric dress top material jacket fabric kurta pallazo material sherwani fabric kurta churidar material lace salwar suit material kurta patiyala material lehenga choli material\n",
            "Description: Key Features of JDK NOVELTY Brocade, Art Silk, Organza Floral Print Multi-purpose Fabric, Kurti Fabric, Blouse Material, Kurta Fabric, Dress/Top Material, Jacket Fabric, Kurta & Pallazo Material, Sherwani Fabric, Kurta & Churidar Material, Lace, Salwar Suit Material, Kurta & Patiyala Material, Lehenga Choli Material Fancy Brocade fabric with black colour base and golden design Supreme Quality material Multipurpose fabric ideal for making kurti, blouse, kurta, jacket, jain pooja set Photography Variation: Please note that due to the ambient lighting during photography, screen resolution of camera or your computer, there might be a slight difference in colour from what you actually see Package content- One 2 meter long fabric of width 47 inches,JDK NOVELTY Brocade, Art Silk, Organza Floral Print Multi-purpose Fabric, Kurti Fabric, Blouse Material, Kurta Fabric, Dress/Top Material, Jacket Fabric, Kurta & Pallazo Material, Sherwani Fabric, Kurta & Churidar Material, Lace, Salwar Suit Material, Kurta & Patiyala Material, Lehenga Choli Material (Un-stitched) Price: Rs. 435 Fancy Brocade fabric complete with a delightful quilted pattern, this is both texturally and visually unique. The quality is amazing, soft and sturdy. This material is plush, soft, and drapes with ease. Quilted with a contrasting background, this fabric is as exciting as it is versatile. Exquisite colors and gorgeous brocade weave adds an elegant and aristocratic feel to the fabric. This fabric is suited for kurti, blouse piece, kurta, jacket, jain pooja set, tops, saree pallu or lehenga,Specifications of JDK NOVELTY Brocade, Art Silk, Organza Floral Print Multi-purpose Fabric, Kurti Fabric, Blouse Material, Kurta Fabric, Dress/Top Material, Jacket Fabric, Kurta & Pallazo Material, Sherwani Fabric, Kurta & Churidar Material, Lace, Salwar Suit Material, Kurta & Patiyala Material, Lehenga Choli Material (Un-stitched) Fabric Details Fabric Brocade, Art Silk, Organza Type Multi-purpose Fabric, Kurti Fabric, Blouse Material, Kurta Fabric, Dress/Top Material, Jacket Fabric, Kurta & Pallazo Material, Sherwani Fabric, Kurta & Churidar Material, Lace, Salwar Suit Material, Kurta & Patiyala Material, Lehenga Choli Material General Details Pattern Floral Print Ideal For Women's, Men's Color Blue, Red, Gold, Multicolor In the Box One Fancy brocade fabric piece of length 2 meters and width 47 inches Additional Details Style Code Blue Red with Gold Leaf Fabric Care Dry cleaning recommended, Can also wash with normal detergent in warm or cold water, Do not wash with bleached detergent and strong detergent\n",
            "Category: Clothing >> Women's Clothing >> Ethnic Wear >> Fabric >> Multi Purpose Fabric >> JDK NOVELTY Multi Purpose Fabric >> JDK NOVELTY Brocade, Art Silk, Organza Floral Pr...\n",
            "Gender: women\n",
            "\n"
          ]
        }
      ],
      "source": [
        "print('Query: {}'.format(query))\n",
        "print(fetch_results(find_sim_levvy(query)))"
      ]
    }
  ],
  "metadata": {
    "colab": {
      "collapsed_sections": [
        "zMepv_SdViJe",
        "0Jd9i7VScSGX",
        "3bihTvMjAPQO",
        "dkcoCAEzcr-A",
        "pMFg1vBeDnY1",
        "fiB8sHmAaJCk",
        "P3m7hxYtiwjY",
        "c5fZN0FgkHN-",
        "-TP2bsiYwAWj"
      ],
      "name": "Flipkart Deliverable 2",
      "provenance": []
    },
    "kernelspec": {
      "display_name": "Python 3",
      "name": "python3"
    },
    "language_info": {
      "name": "python"
    }
  },
  "nbformat": 4,
  "nbformat_minor": 0
}
