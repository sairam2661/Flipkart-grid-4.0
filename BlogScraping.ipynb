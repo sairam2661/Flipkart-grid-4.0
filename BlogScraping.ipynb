{
 "cells": [
  {
   "cell_type": "code",
   "execution_count": 36,
   "id": "4c8c4702",
   "metadata": {},
   "outputs": [],
   "source": [
    "from selenium import webdriver\n",
    "from selenium.webdriver.common.keys import Keys\n",
    "from selenium.webdriver.support import expected_conditions as EC\n",
    "from selenium.webdriver.common.by import By\n",
    "from selenium.webdriver.support.wait import WebDriverWait\n",
    "import time"
   ]
  },
  {
   "cell_type": "code",
   "execution_count": 37,
   "id": "e66fa059",
   "metadata": {},
   "outputs": [],
   "source": [
    "links = [\n",
    "    ['pinterest-men','https://www.pinterest.com/Marcellthekid/men-fashion-catalog/'],\n",
    "    ['pinterest-women',\"https://www.pinterest.com/Kuricho/womens-t-shirts/\"],\n",
    "    ['vogue-fashion','https://www.vogue.in/fashion/fashion-trends']\n",
    "]\n",
    "option = 2"
   ]
  },
  {
   "cell_type": "code",
   "execution_count": 38,
   "id": "90ecbc3b",
   "metadata": {},
   "outputs": [],
   "source": [
    "driver = webdriver.Chrome(executable_path=\"chromedriver\")\n",
    "\n",
    "#open the webpage\n",
    "driver.get(links[option][1])\n",
    "\n"
   ]
  },
  {
   "cell_type": "code",
   "execution_count": 39,
   "id": "841473ea",
   "metadata": {},
   "outputs": [
    {
     "name": "stderr",
     "output_type": "stream",
     "text": [
      "<ipython-input-39-9c41998244b4>:2: DeprecationWarning: find_elements_by_tag_name is deprecated. Please use find_elements(by=By.TAG_NAME, value=name) instead\n",
      "  images = driver.find_elements_by_tag_name('img')\n"
     ]
    },
    {
     "data": {
      "text/plain": [
       "['https://www.vogue.in/verso/static/vogue-international/assets/logo.666f451251327ad507cba9476f77eab9ebec74c9.svg',\n",
       " 'https://www.vogue.in/verso/static/vogue-international/assets/logo.666f451251327ad507cba9476f77eab9ebec74c9.svg',\n",
       " 'https://assets.vogue.in/photos/62e260f79cd85e999b24dc67/1:1/w_1600%2Cc_limit/Screenshot%25202022-07-28%2520at%25203.39.16%2520PM.png',\n",
       " 'https://assets.vogue.in/photos/62e111b79cd85e999b24dc07/1:1/w_1600%2Cc_limit/Image%2520from%2520iOS%2520(2).jpg',\n",
       " 'https://assets.vogue.in/photos/62e0cc51ccc178c8ae045e84/1:1/w_1600%2Cc_limit/00002-Proenza-Schouler-Fall-22-New-York-DETAILS-credit-brand.jpg',\n",
       " 'https://assets.vogue.in/photos/62dfeb9accc178c8ae045e72/1:1/w_1600%2Cc_limit/295404452_396914299173577_1086473570616022477_n.jpg',\n",
       " 'https://assets.vogue.in/photos/62de808b9cd85e999b24db29/1:1/w_1600%2Cc_limit/JLo%2520glitter%2520dress%2520leo%2520style.jpg',\n",
       " 'https://assets.vogue.in/photos/62da6017e6bdf7ecf0e333ce/1:1/w_1600%2Cc_limit/GettyImages-1388275948.jpg',\n",
       " 'https://assets.vogue.in/photos/62da317eccc178c8ae045d78/1:1/w_1600%2Cc_limit/294355816_822326802484264_6848485861030953327_n.jpg',\n",
       " 'https://assets.vogue.in/photos/62c7fbf018c52455edae6bf6/1:1/w_1600%2Cc_limit/279491533_798101617820060_3243728488887782035_n.jpg',\n",
       " 'https://assets.vogue.in/photos/62d91e50cad33e58040e5066/1:1/w_1600%2Cc_limit/289839036_173024725131029_913471580463177300_n.jpg',\n",
       " 'https://assets.vogue.in/photos/62d6564510f7d08993f06e6c/1:1/w_1600%2Cc_limit/jpg.jpg',\n",
       " 'https://assets.vogue.in/photos/62d55ed90b06ae25455d4d9d/1:1/w_1600%2Cc_limit/289230150_333191278960307_7800137225623301067_n%2520(2).jpg',\n",
       " 'https://assets.vogue.in/photos/62d122e30b06ae25455d4d32/1:1/w_1600%2Cc_limit/Webp.net-resizeimage-101.jpg',\n",
       " 'https://assets.vogue.in/photos/62cd0961804f994ce58b6687/1:1/w_1600%2Cc_limit/GettyImages-1407703108.jpg',\n",
       " 'https://assets.vogue.in/photos/62cbb55a0e52ae0828318daf/1:1/w_1600%2Cc_limit/290626393_1110835743111879_276402260877994084_n.jpg',\n",
       " 'https://assets.vogue.in/photos/62c7ddf1c89eaed29f080870/1:1/w_1600%2Cc_limit/291754581_754740459284513_8818988625724641478_n.jpg',\n",
       " 'https://assets.vogue.in/photos/62c7d72d18c52455edae6bf0/1:1/w_1600%2Cc_limit/GettyImages-1407104549.jpg']"
      ]
     },
     "execution_count": 39,
     "metadata": {},
     "output_type": "execute_result"
    }
   ],
   "source": [
    "driver.execute_script(\"window.scrollTo(0, 4000);\")\n",
    "images = driver.find_elements_by_tag_name('img')\n",
    "images = [image.get_attribute('src') for image in images]\n",
    "images[:-2]                                                                   "
   ]
  },
  {
   "cell_type": "code",
   "execution_count": 40,
   "id": "77768871",
   "metadata": {},
   "outputs": [],
   "source": [
    "import os\n",
    "import wget\n",
    "\n",
    "path = os.getcwd()"
   ]
  },
  {
   "cell_type": "code",
   "execution_count": 41,
   "id": "55c7feaf",
   "metadata": {},
   "outputs": [],
   "source": [
    "counter = 0\n",
    "for image in images:\n",
    "    save_as = os.path.join(path+'/current-fashion', links[option][0]  + str(counter) + '.jpg')\n",
    "    wget.download(image, save_as)\n",
    "    counter += 1"
   ]
  },
  {
   "cell_type": "code",
   "execution_count": null,
   "id": "641dee14",
   "metadata": {},
   "outputs": [],
   "source": []
  }
 ],
 "metadata": {
  "kernelspec": {
   "display_name": "Python 3",
   "language": "python",
   "name": "python3"
  },
  "language_info": {
   "codemirror_mode": {
    "name": "ipython",
    "version": 3
   },
   "file_extension": ".py",
   "mimetype": "text/x-python",
   "name": "python",
   "nbconvert_exporter": "python",
   "pygments_lexer": "ipython3",
   "version": "3.9.7"
  }
 },
 "nbformat": 4,
 "nbformat_minor": 5
}
